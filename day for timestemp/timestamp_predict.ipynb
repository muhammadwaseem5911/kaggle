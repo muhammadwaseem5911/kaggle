{
 "cells": [
  {
   "cell_type": "code",
   "execution_count": 34,
   "id": "7e644bde",
   "metadata": {},
   "outputs": [],
   "source": [
    "import pandas as pd\n",
    "import numpy as np\n",
    "import matplotlib.pyplot as plt\n",
    "import seaborn as sns\n"
   ]
  },
  {
   "cell_type": "code",
   "execution_count": 35,
   "id": "caa6a064",
   "metadata": {},
   "outputs": [],
   "source": [
    "df=pd.read_csv('dataset.csv')"
   ]
  },
  {
   "cell_type": "code",
   "execution_count": 36,
   "id": "bb0dafd1",
   "metadata": {},
   "outputs": [
    {
     "data": {
      "application/vnd.microsoft.datawrangler.viewer.v0+json": {
       "columns": [
        {
         "name": "index",
         "rawType": "int64",
         "type": "integer"
        },
        {
         "name": "date",
         "rawType": "int64",
         "type": "integer"
        },
        {
         "name": "inflation",
         "rawType": "float64",
         "type": "float"
        },
        {
         "name": "total population",
         "rawType": "float64",
         "type": "float"
        },
        {
         "name": "ferti_cosption",
         "rawType": "float64",
         "type": "float"
        },
        {
         "name": "Agri_land",
         "rawType": "float64",
         "type": "float"
        },
        {
         "name": "forest",
         "rawType": "float64",
         "type": "float"
        },
        {
         "name": "land area",
         "rawType": "float64",
         "type": "float"
        },
        {
         "name": "renew_e_c",
         "rawType": "float64",
         "type": "float"
        },
        {
         "name": "acc_t_elect",
         "rawType": "float64",
         "type": "float"
        },
        {
         "name": "c_corruption",
         "rawType": "float64",
         "type": "float"
        },
        {
         "name": "tax_rev",
         "rawType": "float64",
         "type": "float"
        },
        {
         "name": "gdp_per_cap",
         "rawType": "float64",
         "type": "float"
        }
       ],
       "ref": "925cff2d-5057-4a88-a6fc-bbf2e7e14d70",
       "rows": [
        [
         "0",
         "2024",
         "12.6325318530452",
         "251269164.0",
         "156.55876585672453",
         "362804.262295082",
         null,
         null,
         null,
         null,
         null,
         null,
         "1484.74985864775"
        ],
        [
         "1",
         "2023",
         "30.7681280657005",
         "247504495.0",
         "156.55876585672453",
         "362804.262295082",
         null,
         null,
         null,
         "95.6",
         "-0.999357461929321",
         null,
         "1365.16927410976"
        ],
        [
         "2",
         "2022",
         "19.8738599646655",
         "243700667.0",
         "107.061655282636",
         "362804.262295082",
         "36432.2",
         "770880.0",
         null,
         "95.0",
         "-0.80435037612915",
         null,
         "1538.3228133171"
        ],
        [
         "3",
         "2021",
         "9.49621056124947",
         "239477801.0",
         "122.732383729851",
         "363030.0",
         "36845.6",
         "770880.0",
         "41.6",
         "94.9",
         "-0.810481548309326",
         null,
         "1455.31922370186"
        ],
        [
         "4",
         "2020",
         "9.73999313898155",
         "235001746.0",
         "121.145921159491",
         "367230.0",
         "37259.0",
         "770880.0",
         "42.7",
         "94.5",
         "-0.857438266277313",
         null,
         "1278.39735206896"
        ]
       ],
       "shape": {
        "columns": 12,
        "rows": 5
       }
      },
      "text/html": [
       "<div>\n",
       "<style scoped>\n",
       "    .dataframe tbody tr th:only-of-type {\n",
       "        vertical-align: middle;\n",
       "    }\n",
       "\n",
       "    .dataframe tbody tr th {\n",
       "        vertical-align: top;\n",
       "    }\n",
       "\n",
       "    .dataframe thead th {\n",
       "        text-align: right;\n",
       "    }\n",
       "</style>\n",
       "<table border=\"1\" class=\"dataframe\">\n",
       "  <thead>\n",
       "    <tr style=\"text-align: right;\">\n",
       "      <th></th>\n",
       "      <th>date</th>\n",
       "      <th>inflation</th>\n",
       "      <th>total population</th>\n",
       "      <th>ferti_cosption</th>\n",
       "      <th>Agri_land</th>\n",
       "      <th>forest</th>\n",
       "      <th>land area</th>\n",
       "      <th>renew_e_c</th>\n",
       "      <th>acc_t_elect</th>\n",
       "      <th>c_corruption</th>\n",
       "      <th>tax_rev</th>\n",
       "      <th>gdp_per_cap</th>\n",
       "    </tr>\n",
       "  </thead>\n",
       "  <tbody>\n",
       "    <tr>\n",
       "      <th>0</th>\n",
       "      <td>2024</td>\n",
       "      <td>12.632532</td>\n",
       "      <td>251269164.0</td>\n",
       "      <td>156.558766</td>\n",
       "      <td>362804.262295</td>\n",
       "      <td>NaN</td>\n",
       "      <td>NaN</td>\n",
       "      <td>NaN</td>\n",
       "      <td>NaN</td>\n",
       "      <td>NaN</td>\n",
       "      <td>NaN</td>\n",
       "      <td>1484.749859</td>\n",
       "    </tr>\n",
       "    <tr>\n",
       "      <th>1</th>\n",
       "      <td>2023</td>\n",
       "      <td>30.768128</td>\n",
       "      <td>247504495.0</td>\n",
       "      <td>156.558766</td>\n",
       "      <td>362804.262295</td>\n",
       "      <td>NaN</td>\n",
       "      <td>NaN</td>\n",
       "      <td>NaN</td>\n",
       "      <td>95.6</td>\n",
       "      <td>-0.999357</td>\n",
       "      <td>NaN</td>\n",
       "      <td>1365.169274</td>\n",
       "    </tr>\n",
       "    <tr>\n",
       "      <th>2</th>\n",
       "      <td>2022</td>\n",
       "      <td>19.873860</td>\n",
       "      <td>243700667.0</td>\n",
       "      <td>107.061655</td>\n",
       "      <td>362804.262295</td>\n",
       "      <td>36432.2</td>\n",
       "      <td>770880.0</td>\n",
       "      <td>NaN</td>\n",
       "      <td>95.0</td>\n",
       "      <td>-0.804350</td>\n",
       "      <td>NaN</td>\n",
       "      <td>1538.322813</td>\n",
       "    </tr>\n",
       "    <tr>\n",
       "      <th>3</th>\n",
       "      <td>2021</td>\n",
       "      <td>9.496211</td>\n",
       "      <td>239477801.0</td>\n",
       "      <td>122.732384</td>\n",
       "      <td>363030.000000</td>\n",
       "      <td>36845.6</td>\n",
       "      <td>770880.0</td>\n",
       "      <td>41.6</td>\n",
       "      <td>94.9</td>\n",
       "      <td>-0.810482</td>\n",
       "      <td>NaN</td>\n",
       "      <td>1455.319224</td>\n",
       "    </tr>\n",
       "    <tr>\n",
       "      <th>4</th>\n",
       "      <td>2020</td>\n",
       "      <td>9.739993</td>\n",
       "      <td>235001746.0</td>\n",
       "      <td>121.145921</td>\n",
       "      <td>367230.000000</td>\n",
       "      <td>37259.0</td>\n",
       "      <td>770880.0</td>\n",
       "      <td>42.7</td>\n",
       "      <td>94.5</td>\n",
       "      <td>-0.857438</td>\n",
       "      <td>NaN</td>\n",
       "      <td>1278.397352</td>\n",
       "    </tr>\n",
       "  </tbody>\n",
       "</table>\n",
       "</div>"
      ],
      "text/plain": [
       "   date  inflation  total population  ferti_cosption      Agri_land   forest  \\\n",
       "0  2024  12.632532       251269164.0      156.558766  362804.262295      NaN   \n",
       "1  2023  30.768128       247504495.0      156.558766  362804.262295      NaN   \n",
       "2  2022  19.873860       243700667.0      107.061655  362804.262295  36432.2   \n",
       "3  2021   9.496211       239477801.0      122.732384  363030.000000  36845.6   \n",
       "4  2020   9.739993       235001746.0      121.145921  367230.000000  37259.0   \n",
       "\n",
       "   land area  renew_e_c  acc_t_elect  c_corruption  tax_rev  gdp_per_cap  \n",
       "0        NaN        NaN          NaN           NaN      NaN  1484.749859  \n",
       "1        NaN        NaN         95.6     -0.999357      NaN  1365.169274  \n",
       "2   770880.0        NaN         95.0     -0.804350      NaN  1538.322813  \n",
       "3   770880.0       41.6         94.9     -0.810482      NaN  1455.319224  \n",
       "4   770880.0       42.7         94.5     -0.857438      NaN  1278.397352  "
      ]
     },
     "execution_count": 36,
     "metadata": {},
     "output_type": "execute_result"
    }
   ],
   "source": [
    "df.head()"
   ]
  },
  {
   "cell_type": "code",
   "execution_count": 37,
   "id": "10815e7c",
   "metadata": {},
   "outputs": [
    {
     "data": {
      "text/plain": [
       "Index(['date', 'inflation', 'total population', 'ferti_cosption', 'Agri_land',\n",
       "       'forest', 'land area', 'renew_e_c', 'acc_t_elect', 'c_corruption',\n",
       "       'tax_rev', 'gdp_per_cap'],\n",
       "      dtype='object')"
      ]
     },
     "execution_count": 37,
     "metadata": {},
     "output_type": "execute_result"
    }
   ],
   "source": [
    "df.columns"
   ]
  },
  {
   "cell_type": "code",
   "execution_count": 38,
   "id": "3debb8b7",
   "metadata": {},
   "outputs": [],
   "source": [
    "df1=df[['date','total population']]"
   ]
  },
  {
   "cell_type": "code",
   "execution_count": 39,
   "id": "b96fcb2f",
   "metadata": {},
   "outputs": [
    {
     "name": "stdout",
     "output_type": "stream",
     "text": [
      "<class 'pandas.core.frame.DataFrame'>\n",
      "RangeIndex: 65 entries, 0 to 64\n",
      "Data columns (total 2 columns):\n",
      " #   Column            Non-Null Count  Dtype  \n",
      "---  ------            --------------  -----  \n",
      " 0   date              65 non-null     int64  \n",
      " 1   total population  65 non-null     float64\n",
      "dtypes: float64(1), int64(1)\n",
      "memory usage: 1.1 KB\n"
     ]
    }
   ],
   "source": [
    "df1.info()"
   ]
  },
  {
   "cell_type": "code",
   "execution_count": 40,
   "id": "b762efea",
   "metadata": {},
   "outputs": [
    {
     "name": "stderr",
     "output_type": "stream",
     "text": [
      "C:\\Users\\muhammad waseem\\AppData\\Local\\Temp\\ipykernel_1872\\1662444093.py:1: SettingWithCopyWarning: \n",
      "A value is trying to be set on a copy of a slice from a DataFrame\n",
      "\n",
      "See the caveats in the documentation: https://pandas.pydata.org/pandas-docs/stable/user_guide/indexing.html#returning-a-view-versus-a-copy\n",
      "  df1.rename(columns={'total population': 'population'},inplace=True)\n"
     ]
    }
   ],
   "source": [
    "df1.rename(columns={'total population': 'population'},inplace=True)"
   ]
  },
  {
   "cell_type": "code",
   "execution_count": 41,
   "id": "fa0a7706",
   "metadata": {},
   "outputs": [
    {
     "data": {
      "application/vnd.microsoft.datawrangler.viewer.v0+json": {
       "columns": [
        {
         "name": "index",
         "rawType": "int64",
         "type": "integer"
        },
        {
         "name": "date",
         "rawType": "int64",
         "type": "integer"
        },
        {
         "name": "population",
         "rawType": "float64",
         "type": "float"
        }
       ],
       "ref": "60da6b35-1ebe-4873-b7f3-222cd0363b68",
       "rows": [
        [
         "0",
         "2024",
         "251269164.0"
        ],
        [
         "1",
         "2023",
         "247504495.0"
        ],
        [
         "2",
         "2022",
         "243700667.0"
        ],
        [
         "3",
         "2021",
         "239477801.0"
        ],
        [
         "4",
         "2020",
         "235001746.0"
        ],
        [
         "5",
         "2019",
         "230800899.0"
        ],
        [
         "6",
         "2018",
         "226928892.0"
        ],
        [
         "7",
         "2017",
         "223273967.0"
        ],
        [
         "8",
         "2016",
         "220138869.0"
        ],
        [
         "9",
         "2015",
         "217290883.0"
        ],
        [
         "10",
         "2014",
         "214264647.0"
        ],
        [
         "11",
         "2013",
         "211073978.0"
        ],
        [
         "12",
         "2012",
         "207667125.0"
        ],
        [
         "13",
         "2011",
         "203746065.0"
        ],
        [
         "14",
         "2010",
         "199239047.0"
        ],
        [
         "15",
         "2009",
         "194376534.0"
        ],
        [
         "16",
         "2008",
         "189499113.0"
        ],
        [
         "17",
         "2007",
         "184493231.0"
        ],
        [
         "18",
         "2006",
         "179682690.0"
        ],
        [
         "19",
         "2005",
         "175453212.0"
        ],
        [
         "20",
         "2004",
         "171286000.0"
        ],
        [
         "21",
         "2003",
         "167110248.0"
        ],
        [
         "22",
         "2002",
         "163222549.0"
        ],
        [
         "23",
         "2001",
         "159270907.0"
        ],
        [
         "24",
         "2000",
         "154879127.0"
        ],
        [
         "25",
         "1999",
         "150565377.0"
        ],
        [
         "26",
         "1998",
         "146522356.0"
        ],
        [
         "27",
         "1997",
         "142531804.0"
        ],
        [
         "28",
         "1996",
         "138557092.0"
        ],
        [
         "29",
         "1995",
         "134582253.0"
        ],
        [
         "30",
         "1994",
         "130748083.0"
        ],
        [
         "31",
         "1993",
         "127020117.0"
        ],
        [
         "32",
         "1992",
         "123546848.0"
        ],
        [
         "33",
         "1991",
         "120060406.0"
        ],
        [
         "34",
         "1990",
         "116155576.0"
        ],
        [
         "35",
         "1989",
         "112336629.0"
        ],
        [
         "36",
         "1988",
         "108724739.0"
        ],
        [
         "37",
         "1987",
         "105130717.0"
        ],
        [
         "38",
         "1986",
         "101606764.0"
        ],
        [
         "39",
         "1985",
         "98229285.0"
        ],
        [
         "40",
         "1984",
         "95164936.0"
        ],
        [
         "41",
         "1983",
         "92227711.0"
        ],
        [
         "42",
         "1982",
         "89089246.0"
        ],
        [
         "43",
         "1981",
         "85802049.0"
        ],
        [
         "44",
         "1980",
         "82291010.0"
        ],
        [
         "45",
         "1979",
         "78997039.0"
        ],
        [
         "46",
         "1978",
         "76307379.0"
        ],
        [
         "47",
         "1977",
         "73901827.0"
        ],
        [
         "48",
         "1976",
         "71620254.0"
        ],
        [
         "49",
         "1975",
         "69461175.0"
        ]
       ],
       "shape": {
        "columns": 2,
        "rows": 65
       }
      },
      "text/html": [
       "<div>\n",
       "<style scoped>\n",
       "    .dataframe tbody tr th:only-of-type {\n",
       "        vertical-align: middle;\n",
       "    }\n",
       "\n",
       "    .dataframe tbody tr th {\n",
       "        vertical-align: top;\n",
       "    }\n",
       "\n",
       "    .dataframe thead th {\n",
       "        text-align: right;\n",
       "    }\n",
       "</style>\n",
       "<table border=\"1\" class=\"dataframe\">\n",
       "  <thead>\n",
       "    <tr style=\"text-align: right;\">\n",
       "      <th></th>\n",
       "      <th>date</th>\n",
       "      <th>population</th>\n",
       "    </tr>\n",
       "  </thead>\n",
       "  <tbody>\n",
       "    <tr>\n",
       "      <th>0</th>\n",
       "      <td>2024</td>\n",
       "      <td>251269164.0</td>\n",
       "    </tr>\n",
       "    <tr>\n",
       "      <th>1</th>\n",
       "      <td>2023</td>\n",
       "      <td>247504495.0</td>\n",
       "    </tr>\n",
       "    <tr>\n",
       "      <th>2</th>\n",
       "      <td>2022</td>\n",
       "      <td>243700667.0</td>\n",
       "    </tr>\n",
       "    <tr>\n",
       "      <th>3</th>\n",
       "      <td>2021</td>\n",
       "      <td>239477801.0</td>\n",
       "    </tr>\n",
       "    <tr>\n",
       "      <th>4</th>\n",
       "      <td>2020</td>\n",
       "      <td>235001746.0</td>\n",
       "    </tr>\n",
       "    <tr>\n",
       "      <th>...</th>\n",
       "      <td>...</td>\n",
       "      <td>...</td>\n",
       "    </tr>\n",
       "    <tr>\n",
       "      <th>60</th>\n",
       "      <td>1964</td>\n",
       "      <td>50799999.0</td>\n",
       "    </tr>\n",
       "    <tr>\n",
       "      <th>61</th>\n",
       "      <td>1963</td>\n",
       "      <td>49447776.0</td>\n",
       "    </tr>\n",
       "    <tr>\n",
       "      <th>62</th>\n",
       "      <td>1962</td>\n",
       "      <td>48156128.0</td>\n",
       "    </tr>\n",
       "    <tr>\n",
       "      <th>63</th>\n",
       "      <td>1961</td>\n",
       "      <td>46921277.0</td>\n",
       "    </tr>\n",
       "    <tr>\n",
       "      <th>64</th>\n",
       "      <td>1960</td>\n",
       "      <td>45709310.0</td>\n",
       "    </tr>\n",
       "  </tbody>\n",
       "</table>\n",
       "<p>65 rows × 2 columns</p>\n",
       "</div>"
      ],
      "text/plain": [
       "    date   population\n",
       "0   2024  251269164.0\n",
       "1   2023  247504495.0\n",
       "2   2022  243700667.0\n",
       "3   2021  239477801.0\n",
       "4   2020  235001746.0\n",
       "..   ...          ...\n",
       "60  1964   50799999.0\n",
       "61  1963   49447776.0\n",
       "62  1962   48156128.0\n",
       "63  1961   46921277.0\n",
       "64  1960   45709310.0\n",
       "\n",
       "[65 rows x 2 columns]"
      ]
     },
     "execution_count": 41,
     "metadata": {},
     "output_type": "execute_result"
    }
   ],
   "source": [
    "df1"
   ]
  },
  {
   "cell_type": "code",
   "execution_count": 42,
   "id": "cb8e4936",
   "metadata": {},
   "outputs": [
    {
     "name": "stderr",
     "output_type": "stream",
     "text": [
      "C:\\Users\\muhammad waseem\\AppData\\Local\\Temp\\ipykernel_1872\\2123048813.py:1: SettingWithCopyWarning: \n",
      "A value is trying to be set on a copy of a slice from a DataFrame.\n",
      "Try using .loc[row_indexer,col_indexer] = value instead\n",
      "\n",
      "See the caveats in the documentation: https://pandas.pydata.org/pandas-docs/stable/user_guide/indexing.html#returning-a-view-versus-a-copy\n",
      "  df1['population']=round(df1['population']/1000000,2)\n"
     ]
    }
   ],
   "source": [
    "df1['population']=round(df1['population']/1000000,2)"
   ]
  },
  {
   "cell_type": "code",
   "execution_count": 43,
   "id": "438df665",
   "metadata": {},
   "outputs": [
    {
     "data": {
      "application/vnd.microsoft.datawrangler.viewer.v0+json": {
       "columns": [
        {
         "name": "index",
         "rawType": "int64",
         "type": "integer"
        },
        {
         "name": "date",
         "rawType": "int64",
         "type": "integer"
        },
        {
         "name": "population",
         "rawType": "float64",
         "type": "float"
        }
       ],
       "ref": "aab0724e-2013-432d-b17c-0de97650445d",
       "rows": [
        [
         "0",
         "2024",
         "251.27"
        ],
        [
         "1",
         "2023",
         "247.5"
        ],
        [
         "2",
         "2022",
         "243.7"
        ],
        [
         "3",
         "2021",
         "239.48"
        ],
        [
         "4",
         "2020",
         "235.0"
        ],
        [
         "5",
         "2019",
         "230.8"
        ],
        [
         "6",
         "2018",
         "226.93"
        ],
        [
         "7",
         "2017",
         "223.27"
        ],
        [
         "8",
         "2016",
         "220.14"
        ],
        [
         "9",
         "2015",
         "217.29"
        ],
        [
         "10",
         "2014",
         "214.26"
        ],
        [
         "11",
         "2013",
         "211.07"
        ],
        [
         "12",
         "2012",
         "207.67"
        ],
        [
         "13",
         "2011",
         "203.75"
        ],
        [
         "14",
         "2010",
         "199.24"
        ],
        [
         "15",
         "2009",
         "194.38"
        ],
        [
         "16",
         "2008",
         "189.5"
        ],
        [
         "17",
         "2007",
         "184.49"
        ],
        [
         "18",
         "2006",
         "179.68"
        ],
        [
         "19",
         "2005",
         "175.45"
        ],
        [
         "20",
         "2004",
         "171.29"
        ],
        [
         "21",
         "2003",
         "167.11"
        ],
        [
         "22",
         "2002",
         "163.22"
        ],
        [
         "23",
         "2001",
         "159.27"
        ],
        [
         "24",
         "2000",
         "154.88"
        ],
        [
         "25",
         "1999",
         "150.57"
        ],
        [
         "26",
         "1998",
         "146.52"
        ],
        [
         "27",
         "1997",
         "142.53"
        ],
        [
         "28",
         "1996",
         "138.56"
        ],
        [
         "29",
         "1995",
         "134.58"
        ],
        [
         "30",
         "1994",
         "130.75"
        ],
        [
         "31",
         "1993",
         "127.02"
        ],
        [
         "32",
         "1992",
         "123.55"
        ],
        [
         "33",
         "1991",
         "120.06"
        ],
        [
         "34",
         "1990",
         "116.16"
        ],
        [
         "35",
         "1989",
         "112.34"
        ],
        [
         "36",
         "1988",
         "108.72"
        ],
        [
         "37",
         "1987",
         "105.13"
        ],
        [
         "38",
         "1986",
         "101.61"
        ],
        [
         "39",
         "1985",
         "98.23"
        ],
        [
         "40",
         "1984",
         "95.16"
        ],
        [
         "41",
         "1983",
         "92.23"
        ],
        [
         "42",
         "1982",
         "89.09"
        ],
        [
         "43",
         "1981",
         "85.8"
        ],
        [
         "44",
         "1980",
         "82.29"
        ],
        [
         "45",
         "1979",
         "79.0"
        ],
        [
         "46",
         "1978",
         "76.31"
        ],
        [
         "47",
         "1977",
         "73.9"
        ],
        [
         "48",
         "1976",
         "71.62"
        ],
        [
         "49",
         "1975",
         "69.46"
        ]
       ],
       "shape": {
        "columns": 2,
        "rows": 65
       }
      },
      "text/html": [
       "<div>\n",
       "<style scoped>\n",
       "    .dataframe tbody tr th:only-of-type {\n",
       "        vertical-align: middle;\n",
       "    }\n",
       "\n",
       "    .dataframe tbody tr th {\n",
       "        vertical-align: top;\n",
       "    }\n",
       "\n",
       "    .dataframe thead th {\n",
       "        text-align: right;\n",
       "    }\n",
       "</style>\n",
       "<table border=\"1\" class=\"dataframe\">\n",
       "  <thead>\n",
       "    <tr style=\"text-align: right;\">\n",
       "      <th></th>\n",
       "      <th>date</th>\n",
       "      <th>population</th>\n",
       "    </tr>\n",
       "  </thead>\n",
       "  <tbody>\n",
       "    <tr>\n",
       "      <th>0</th>\n",
       "      <td>2024</td>\n",
       "      <td>251.27</td>\n",
       "    </tr>\n",
       "    <tr>\n",
       "      <th>1</th>\n",
       "      <td>2023</td>\n",
       "      <td>247.50</td>\n",
       "    </tr>\n",
       "    <tr>\n",
       "      <th>2</th>\n",
       "      <td>2022</td>\n",
       "      <td>243.70</td>\n",
       "    </tr>\n",
       "    <tr>\n",
       "      <th>3</th>\n",
       "      <td>2021</td>\n",
       "      <td>239.48</td>\n",
       "    </tr>\n",
       "    <tr>\n",
       "      <th>4</th>\n",
       "      <td>2020</td>\n",
       "      <td>235.00</td>\n",
       "    </tr>\n",
       "    <tr>\n",
       "      <th>...</th>\n",
       "      <td>...</td>\n",
       "      <td>...</td>\n",
       "    </tr>\n",
       "    <tr>\n",
       "      <th>60</th>\n",
       "      <td>1964</td>\n",
       "      <td>50.80</td>\n",
       "    </tr>\n",
       "    <tr>\n",
       "      <th>61</th>\n",
       "      <td>1963</td>\n",
       "      <td>49.45</td>\n",
       "    </tr>\n",
       "    <tr>\n",
       "      <th>62</th>\n",
       "      <td>1962</td>\n",
       "      <td>48.16</td>\n",
       "    </tr>\n",
       "    <tr>\n",
       "      <th>63</th>\n",
       "      <td>1961</td>\n",
       "      <td>46.92</td>\n",
       "    </tr>\n",
       "    <tr>\n",
       "      <th>64</th>\n",
       "      <td>1960</td>\n",
       "      <td>45.71</td>\n",
       "    </tr>\n",
       "  </tbody>\n",
       "</table>\n",
       "<p>65 rows × 2 columns</p>\n",
       "</div>"
      ],
      "text/plain": [
       "    date  population\n",
       "0   2024      251.27\n",
       "1   2023      247.50\n",
       "2   2022      243.70\n",
       "3   2021      239.48\n",
       "4   2020      235.00\n",
       "..   ...         ...\n",
       "60  1964       50.80\n",
       "61  1963       49.45\n",
       "62  1962       48.16\n",
       "63  1961       46.92\n",
       "64  1960       45.71\n",
       "\n",
       "[65 rows x 2 columns]"
      ]
     },
     "execution_count": 43,
     "metadata": {},
     "output_type": "execute_result"
    }
   ],
   "source": [
    "df1"
   ]
  },
  {
   "cell_type": "code",
   "execution_count": 44,
   "id": "63779ead",
   "metadata": {},
   "outputs": [
    {
     "data": {
      "text/plain": [
       "<Axes: >"
      ]
     },
     "execution_count": 44,
     "metadata": {},
     "output_type": "execute_result"
    },
    {
     "data": {
      "image/png": "[encoded data removed]",
      "text/plain": [
       "<Figure size 640x480 with 1 Axes>"
      ]
     },
     "metadata": {},
     "output_type": "display_data"
    }
   ],
   "source": [
    "df1.population.plot()"
   ]
  },
  {
   "cell_type": "code",
   "execution_count": null,
   "id": "560f7d81",
   "metadata": {},
   "outputs": [],
   "source": []
  }
 ],
 "metadata": {
  "kernelspec": {
   "display_name": "timestp",
   "language": "python",
   "name": "python3"
  },
  "language_info": {
   "codemirror_mode": {
    "name": "ipython",
    "version": 3
   },
   "file_extension": ".py",
   "mimetype": "text/x-python",
   "name": "python",
   "nbconvert_exporter": "python",
   "pygments_lexer": "ipython3",
   "version": "3.13.5"
  }
 },
 "nbformat": 4,
 "nbformat_minor": 5
}
