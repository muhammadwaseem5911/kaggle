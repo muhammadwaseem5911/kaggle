{
 "cells": [
  {
   "cell_type": "markdown",
   "id": "0613d8ed",
   "metadata": {},
   "source": [
    "# This project is related to customer behavior or purchase items from a shop \n",
    "## here try to predict what items have more impact on sale "
   ]
  },
  {
   "cell_type": "markdown",
   "id": "e443b7a2",
   "metadata": {},
   "source": [
    "Firstly import some libraries for data processing \n",
    "1. Pandas\n",
    "2. numpy\n",
    "3. matplotlib\n",
    "4. seaborn it not necessary optional"
   ]
  },
  {
   "cell_type": "code",
   "execution_count": 53,
   "id": "8d21e087",
   "metadata": {},
   "outputs": [],
   "source": [
    "import pandas as pd\n",
    "import numpy as np\n",
    "import matplotlib.pyplot as plt\n",
    "import seaborn as sns"
   ]
  },
  {
   "cell_type": "markdown",
   "id": "ecc5039b",
   "metadata": {},
   "source": [
    "### here dataset that is taken from uci and from github repo "
   ]
  },
  {
   "cell_type": "code",
   "execution_count": 54,
   "id": "07d7d728",
   "metadata": {},
   "outputs": [
    {
     "data": {
      "application/vnd.microsoft.datawrangler.viewer.v0+json": {
       "columns": [
        {
         "name": "index",
         "rawType": "int64",
         "type": "integer"
        },
        {
         "name": "Channel",
         "rawType": "int64",
         "type": "integer"
        },
        {
         "name": "Region",
         "rawType": "int64",
         "type": "integer"
        },
        {
         "name": "Fresh",
         "rawType": "int64",
         "type": "integer"
        },
        {
         "name": "Milk",
         "rawType": "int64",
         "type": "integer"
        },
        {
         "name": "Grocery",
         "rawType": "int64",
         "type": "integer"
        },
        {
         "name": "Frozen",
         "rawType": "int64",
         "type": "integer"
        },
        {
         "name": "Detergents_Paper",
         "rawType": "int64",
         "type": "integer"
        },
        {
         "name": "Delicatessen",
         "rawType": "int64",
         "type": "integer"
        }
       ],
       "ref": "dbf6bd02-277e-4c21-9b20-e686e193c849",
       "rows": [
        [
         "0",
         "2",
         "3",
         "12669",
         "9656",
         "7561",
         "214",
         "2674",
         "1338"
        ],
        [
         "1",
         "2",
         "3",
         "7057",
         "9810",
         "9568",
         "1762",
         "3293",
         "1776"
        ],
        [
         "2",
         "2",
         "3",
         "6353",
         "8808",
         "7684",
         "2405",
         "3516",
         "7844"
        ],
        [
         "3",
         "1",
         "3",
         "13265",
         "1196",
         "4221",
         "6404",
         "507",
         "1788"
        ],
        [
         "4",
         "2",
         "3",
         "22615",
         "5410",
         "7198",
         "3915",
         "1777",
         "5185"
        ]
       ],
       "shape": {
        "columns": 8,
        "rows": 5
       }
      },
      "text/html": [
       "<div>\n",
       "<style scoped>\n",
       "    .dataframe tbody tr th:only-of-type {\n",
       "        vertical-align: middle;\n",
       "    }\n",
       "\n",
       "    .dataframe tbody tr th {\n",
       "        vertical-align: top;\n",
       "    }\n",
       "\n",
       "    .dataframe thead th {\n",
       "        text-align: right;\n",
       "    }\n",
       "</style>\n",
       "<table border=\"1\" class=\"dataframe\">\n",
       "  <thead>\n",
       "    <tr style=\"text-align: right;\">\n",
       "      <th></th>\n",
       "      <th>Channel</th>\n",
       "      <th>Region</th>\n",
       "      <th>Fresh</th>\n",
       "      <th>Milk</th>\n",
       "      <th>Grocery</th>\n",
       "      <th>Frozen</th>\n",
       "      <th>Detergents_Paper</th>\n",
       "      <th>Delicatessen</th>\n",
       "    </tr>\n",
       "  </thead>\n",
       "  <tbody>\n",
       "    <tr>\n",
       "      <th>0</th>\n",
       "      <td>2</td>\n",
       "      <td>3</td>\n",
       "      <td>12669</td>\n",
       "      <td>9656</td>\n",
       "      <td>7561</td>\n",
       "      <td>214</td>\n",
       "      <td>2674</td>\n",
       "      <td>1338</td>\n",
       "    </tr>\n",
       "    <tr>\n",
       "      <th>1</th>\n",
       "      <td>2</td>\n",
       "      <td>3</td>\n",
       "      <td>7057</td>\n",
       "      <td>9810</td>\n",
       "      <td>9568</td>\n",
       "      <td>1762</td>\n",
       "      <td>3293</td>\n",
       "      <td>1776</td>\n",
       "    </tr>\n",
       "    <tr>\n",
       "      <th>2</th>\n",
       "      <td>2</td>\n",
       "      <td>3</td>\n",
       "      <td>6353</td>\n",
       "      <td>8808</td>\n",
       "      <td>7684</td>\n",
       "      <td>2405</td>\n",
       "      <td>3516</td>\n",
       "      <td>7844</td>\n",
       "    </tr>\n",
       "    <tr>\n",
       "      <th>3</th>\n",
       "      <td>1</td>\n",
       "      <td>3</td>\n",
       "      <td>13265</td>\n",
       "      <td>1196</td>\n",
       "      <td>4221</td>\n",
       "      <td>6404</td>\n",
       "      <td>507</td>\n",
       "      <td>1788</td>\n",
       "    </tr>\n",
       "    <tr>\n",
       "      <th>4</th>\n",
       "      <td>2</td>\n",
       "      <td>3</td>\n",
       "      <td>22615</td>\n",
       "      <td>5410</td>\n",
       "      <td>7198</td>\n",
       "      <td>3915</td>\n",
       "      <td>1777</td>\n",
       "      <td>5185</td>\n",
       "    </tr>\n",
       "  </tbody>\n",
       "</table>\n",
       "</div>"
      ],
      "text/plain": [
       "   Channel  Region  Fresh  Milk  Grocery  Frozen  Detergents_Paper  \\\n",
       "0        2       3  12669  9656     7561     214              2674   \n",
       "1        2       3   7057  9810     9568    1762              3293   \n",
       "2        2       3   6353  8808     7684    2405              3516   \n",
       "3        1       3  13265  1196     4221    6404               507   \n",
       "4        2       3  22615  5410     7198    3915              1777   \n",
       "\n",
       "   Delicatessen  \n",
       "0          1338  \n",
       "1          1776  \n",
       "2          7844  \n",
       "3          1788  \n",
       "4          5185  "
      ]
     },
     "execution_count": 54,
     "metadata": {},
     "output_type": "execute_result"
    }
   ],
   "source": [
    "df=pd.read_csv('customers.csv')     #import dataset from cvs file\n",
    "df.head()    # for seen the dataset"
   ]
  },
  {
   "cell_type": "code",
   "execution_count": 55,
   "id": "9d1130fc",
   "metadata": {},
   "outputs": [
    {
     "data": {
      "text/plain": [
       "(440, 8)"
      ]
     },
     "execution_count": 55,
     "metadata": {},
     "output_type": "execute_result"
    }
   ],
   "source": [
    "df.shape   # from dataset info "
   ]
  },
  {
   "cell_type": "markdown",
   "id": "a637d001",
   "metadata": {},
   "source": [
    "Here seee that dataset have 440 rows and 8 feature "
   ]
  },
  {
   "cell_type": "code",
   "execution_count": 56,
   "id": "739e1601",
   "metadata": {},
   "outputs": [
    {
     "name": "stdout",
     "output_type": "stream",
     "text": [
      "<class 'pandas.core.frame.DataFrame'>\n",
      "RangeIndex: 440 entries, 0 to 439\n",
      "Data columns (total 8 columns):\n",
      " #   Column            Non-Null Count  Dtype\n",
      "---  ------            --------------  -----\n",
      " 0   Channel           440 non-null    int64\n",
      " 1   Region            440 non-null    int64\n",
      " 2   Fresh             440 non-null    int64\n",
      " 3   Milk              440 non-null    int64\n",
      " 4   Grocery           440 non-null    int64\n",
      " 5   Frozen            440 non-null    int64\n",
      " 6   Detergents_Paper  440 non-null    int64\n",
      " 7   Delicatessen      440 non-null    int64\n",
      "dtypes: int64(8)\n",
      "memory usage: 27.6 KB\n"
     ]
    }
   ],
   "source": [
    "df.info()"
   ]
  },
  {
   "cell_type": "markdown",
   "id": "dcaa77dc",
   "metadata": {},
   "source": [
    "### all the feature are int and have no null values"
   ]
  },
  {
   "cell_type": "code",
   "execution_count": 57,
   "id": "a5e3a93c",
   "metadata": {},
   "outputs": [
    {
     "data": {
      "text/plain": [
       "Index(['Channel', 'Region', 'Fresh', 'Milk', 'Grocery', 'Frozen',\n",
       "       'Detergents_Paper', 'Delicatessen'],\n",
       "      dtype='object')"
      ]
     },
     "execution_count": 57,
     "metadata": {},
     "output_type": "execute_result"
    }
   ],
   "source": [
    "df.columns    #see the column or key in the dataset "
   ]
  },
  {
   "cell_type": "code",
   "execution_count": 58,
   "id": "27e952e8",
   "metadata": {},
   "outputs": [],
   "source": [
    "df.drop(columns=['Channel','Region'],inplace=True)    #drop those feature that do not give or have any information "
   ]
  },
  {
   "cell_type": "code",
   "execution_count": 59,
   "id": "4643e7c6",
   "metadata": {},
   "outputs": [
    {
     "data": {
      "application/vnd.microsoft.datawrangler.viewer.v0+json": {
       "columns": [
        {
         "name": "index",
         "rawType": "object",
         "type": "string"
        },
        {
         "name": "Fresh",
         "rawType": "float64",
         "type": "float"
        },
        {
         "name": "Milk",
         "rawType": "float64",
         "type": "float"
        },
        {
         "name": "Grocery",
         "rawType": "float64",
         "type": "float"
        },
        {
         "name": "Frozen",
         "rawType": "float64",
         "type": "float"
        },
        {
         "name": "Detergents_Paper",
         "rawType": "float64",
         "type": "float"
        },
        {
         "name": "Delicatessen",
         "rawType": "float64",
         "type": "float"
        }
       ],
       "ref": "9a1995ec-07b5-4cbe-9e4e-8d4495296524",
       "rows": [
        [
         "count",
         "440.0",
         "440.0",
         "440.0",
         "440.0",
         "440.0",
         "440.0"
        ],
        [
         "mean",
         "12000.297727272728",
         "5796.265909090909",
         "7951.277272727273",
         "3071.931818181818",
         "2881.4931818181817",
         "1524.8704545454545"
        ],
        [
         "std",
         "12647.328865076892",
         "7380.377174570841",
         "9503.162828994344",
         "4854.673332592366",
         "4767.854447904201",
         "2820.105937369397"
        ],
        [
         "min",
         "3.0",
         "55.0",
         "3.0",
         "25.0",
         "3.0",
         "3.0"
        ],
        [
         "25%",
         "3127.75",
         "1533.0",
         "2153.0",
         "742.25",
         "256.75",
         "408.25"
        ],
        [
         "50%",
         "8504.0",
         "3627.0",
         "4755.5",
         "1526.0",
         "816.5",
         "965.5"
        ],
        [
         "75%",
         "16933.75",
         "7190.25",
         "10655.75",
         "3554.25",
         "3922.0",
         "1820.25"
        ],
        [
         "max",
         "112151.0",
         "73498.0",
         "92780.0",
         "60869.0",
         "40827.0",
         "47943.0"
        ]
       ],
       "shape": {
        "columns": 6,
        "rows": 8
       }
      },
      "text/html": [
       "<div>\n",
       "<style scoped>\n",
       "    .dataframe tbody tr th:only-of-type {\n",
       "        vertical-align: middle;\n",
       "    }\n",
       "\n",
       "    .dataframe tbody tr th {\n",
       "        vertical-align: top;\n",
       "    }\n",
       "\n",
       "    .dataframe thead th {\n",
       "        text-align: right;\n",
       "    }\n",
       "</style>\n",
       "<table border=\"1\" class=\"dataframe\">\n",
       "  <thead>\n",
       "    <tr style=\"text-align: right;\">\n",
       "      <th></th>\n",
       "      <th>Fresh</th>\n",
       "      <th>Milk</th>\n",
       "      <th>Grocery</th>\n",
       "      <th>Frozen</th>\n",
       "      <th>Detergents_Paper</th>\n",
       "      <th>Delicatessen</th>\n",
       "    </tr>\n",
       "  </thead>\n",
       "  <tbody>\n",
       "    <tr>\n",
       "      <th>count</th>\n",
       "      <td>440.000000</td>\n",
       "      <td>440.000000</td>\n",
       "      <td>440.000000</td>\n",
       "      <td>440.000000</td>\n",
       "      <td>440.000000</td>\n",
       "      <td>440.000000</td>\n",
       "    </tr>\n",
       "    <tr>\n",
       "      <th>mean</th>\n",
       "      <td>12000.297727</td>\n",
       "      <td>5796.265909</td>\n",
       "      <td>7951.277273</td>\n",
       "      <td>3071.931818</td>\n",
       "      <td>2881.493182</td>\n",
       "      <td>1524.870455</td>\n",
       "    </tr>\n",
       "    <tr>\n",
       "      <th>std</th>\n",
       "      <td>12647.328865</td>\n",
       "      <td>7380.377175</td>\n",
       "      <td>9503.162829</td>\n",
       "      <td>4854.673333</td>\n",
       "      <td>4767.854448</td>\n",
       "      <td>2820.105937</td>\n",
       "    </tr>\n",
       "    <tr>\n",
       "      <th>min</th>\n",
       "      <td>3.000000</td>\n",
       "      <td>55.000000</td>\n",
       "      <td>3.000000</td>\n",
       "      <td>25.000000</td>\n",
       "      <td>3.000000</td>\n",
       "      <td>3.000000</td>\n",
       "    </tr>\n",
       "    <tr>\n",
       "      <th>25%</th>\n",
       "      <td>3127.750000</td>\n",
       "      <td>1533.000000</td>\n",
       "      <td>2153.000000</td>\n",
       "      <td>742.250000</td>\n",
       "      <td>256.750000</td>\n",
       "      <td>408.250000</td>\n",
       "    </tr>\n",
       "    <tr>\n",
       "      <th>50%</th>\n",
       "      <td>8504.000000</td>\n",
       "      <td>3627.000000</td>\n",
       "      <td>4755.500000</td>\n",
       "      <td>1526.000000</td>\n",
       "      <td>816.500000</td>\n",
       "      <td>965.500000</td>\n",
       "    </tr>\n",
       "    <tr>\n",
       "      <th>75%</th>\n",
       "      <td>16933.750000</td>\n",
       "      <td>7190.250000</td>\n",
       "      <td>10655.750000</td>\n",
       "      <td>3554.250000</td>\n",
       "      <td>3922.000000</td>\n",
       "      <td>1820.250000</td>\n",
       "    </tr>\n",
       "    <tr>\n",
       "      <th>max</th>\n",
       "      <td>112151.000000</td>\n",
       "      <td>73498.000000</td>\n",
       "      <td>92780.000000</td>\n",
       "      <td>60869.000000</td>\n",
       "      <td>40827.000000</td>\n",
       "      <td>47943.000000</td>\n",
       "    </tr>\n",
       "  </tbody>\n",
       "</table>\n",
       "</div>"
      ],
      "text/plain": [
       "               Fresh          Milk       Grocery        Frozen  \\\n",
       "count     440.000000    440.000000    440.000000    440.000000   \n",
       "mean    12000.297727   5796.265909   7951.277273   3071.931818   \n",
       "std     12647.328865   7380.377175   9503.162829   4854.673333   \n",
       "min         3.000000     55.000000      3.000000     25.000000   \n",
       "25%      3127.750000   1533.000000   2153.000000    742.250000   \n",
       "50%      8504.000000   3627.000000   4755.500000   1526.000000   \n",
       "75%     16933.750000   7190.250000  10655.750000   3554.250000   \n",
       "max    112151.000000  73498.000000  92780.000000  60869.000000   \n",
       "\n",
       "       Detergents_Paper  Delicatessen  \n",
       "count        440.000000    440.000000  \n",
       "mean        2881.493182   1524.870455  \n",
       "std         4767.854448   2820.105937  \n",
       "min            3.000000      3.000000  \n",
       "25%          256.750000    408.250000  \n",
       "50%          816.500000    965.500000  \n",
       "75%         3922.000000   1820.250000  \n",
       "max        40827.000000  47943.000000  "
      ]
     },
     "metadata": {},
     "output_type": "display_data"
    }
   ],
   "source": [
    "display(df.describe())      \n"
   ]
  },
  {
   "cell_type": "markdown",
   "id": "4c8dabe0",
   "metadata": {},
   "source": [
    "creating some sample dataset for seen the impact "
   ]
  },
  {
   "cell_type": "code",
   "execution_count": 60,
   "id": "027ae5de",
   "metadata": {},
   "outputs": [
    {
     "name": "stdout",
     "output_type": "stream",
     "text": [
      "Chosen samples of wholesale customers dataset:\n"
     ]
    },
    {
     "data": {
      "application/vnd.microsoft.datawrangler.viewer.v0+json": {
       "columns": [
        {
         "name": "index",
         "rawType": "int64",
         "type": "integer"
        },
        {
         "name": "Fresh",
         "rawType": "int64",
         "type": "integer"
        },
        {
         "name": "Milk",
         "rawType": "int64",
         "type": "integer"
        },
        {
         "name": "Grocery",
         "rawType": "int64",
         "type": "integer"
        },
        {
         "name": "Frozen",
         "rawType": "int64",
         "type": "integer"
        },
        {
         "name": "Detergents_Paper",
         "rawType": "int64",
         "type": "integer"
        },
        {
         "name": "Delicatessen",
         "rawType": "int64",
         "type": "integer"
        }
       ],
       "ref": "2939b43b-c26f-48aa-9171-acb79c95477c",
       "rows": [
        [
         "0",
         "6353",
         "8808",
         "7684",
         "2405",
         "3516",
         "7844"
        ],
        [
         "1",
         "22615",
         "5410",
         "7198",
         "3915",
         "1777",
         "5185"
        ],
        [
         "2",
         "9413",
         "8259",
         "5126",
         "666",
         "1795",
         "1451"
        ]
       ],
       "shape": {
        "columns": 6,
        "rows": 3
       }
      },
      "text/html": [
       "<div>\n",
       "<style scoped>\n",
       "    .dataframe tbody tr th:only-of-type {\n",
       "        vertical-align: middle;\n",
       "    }\n",
       "\n",
       "    .dataframe tbody tr th {\n",
       "        vertical-align: top;\n",
       "    }\n",
       "\n",
       "    .dataframe thead th {\n",
       "        text-align: right;\n",
       "    }\n",
       "</style>\n",
       "<table border=\"1\" class=\"dataframe\">\n",
       "  <thead>\n",
       "    <tr style=\"text-align: right;\">\n",
       "      <th></th>\n",
       "      <th>Fresh</th>\n",
       "      <th>Milk</th>\n",
       "      <th>Grocery</th>\n",
       "      <th>Frozen</th>\n",
       "      <th>Detergents_Paper</th>\n",
       "      <th>Delicatessen</th>\n",
       "    </tr>\n",
       "  </thead>\n",
       "  <tbody>\n",
       "    <tr>\n",
       "      <th>0</th>\n",
       "      <td>6353</td>\n",
       "      <td>8808</td>\n",
       "      <td>7684</td>\n",
       "      <td>2405</td>\n",
       "      <td>3516</td>\n",
       "      <td>7844</td>\n",
       "    </tr>\n",
       "    <tr>\n",
       "      <th>1</th>\n",
       "      <td>22615</td>\n",
       "      <td>5410</td>\n",
       "      <td>7198</td>\n",
       "      <td>3915</td>\n",
       "      <td>1777</td>\n",
       "      <td>5185</td>\n",
       "    </tr>\n",
       "    <tr>\n",
       "      <th>2</th>\n",
       "      <td>9413</td>\n",
       "      <td>8259</td>\n",
       "      <td>5126</td>\n",
       "      <td>666</td>\n",
       "      <td>1795</td>\n",
       "      <td>1451</td>\n",
       "    </tr>\n",
       "  </tbody>\n",
       "</table>\n",
       "</div>"
      ],
      "text/plain": [
       "   Fresh  Milk  Grocery  Frozen  Detergents_Paper  Delicatessen\n",
       "0   6353  8808     7684    2405              3516          7844\n",
       "1  22615  5410     7198    3915              1777          5185\n",
       "2   9413  8259     5126     666              1795          1451"
      ]
     },
     "metadata": {},
     "output_type": "display_data"
    }
   ],
   "source": [
    "indices = [2,4,5]\n",
    "\n",
    "# Create a DataFrame of the chosen samples\n",
    "samples = pd.DataFrame(df.loc[indices], columns = df.keys()).reset_index(drop = True)\n",
    "print(\"Chosen samples of wholesale customers dataset:\")\n",
    "display(samples)"
   ]
  },
  {
   "cell_type": "markdown",
   "id": "d2a1805c",
   "metadata": {},
   "source": [
    "Initial simple decision tree model on whatout any preprocessing  "
   ]
  },
  {
   "cell_type": "code",
   "execution_count": 61,
   "id": "51cdebef",
   "metadata": {},
   "outputs": [
    {
     "data": {
      "text/plain": [
       "-0.5460788989792837"
      ]
     },
     "execution_count": 61,
     "metadata": {},
     "output_type": "execute_result"
    }
   ],
   "source": [
    "from sklearn.model_selection import train_test_split    #train test from sklearn module\n",
    "from sklearn.tree import DecisionTreeRegressor     #model from sklearn\n",
    "X=df.drop(columns='Fresh')     #dataset fir traing and test\n",
    "y=df['Fresh']    \n",
    "X_train,X_test,y_train,y_test=train_test_split(X,y,random_state=42,test_size=.20)    #split train and test data\n",
    "model=DecisionTreeRegressor()    #model initialzing\n",
    "model.fit(X_train,y_train)      #fit on train data\n",
    "model.score(X_test,y_test)  #score on unseen data or testing data its also call r2 score"
   ]
  },
  {
   "cell_type": "markdown",
   "id": "63e6ff1e",
   "metadata": {},
   "source": [
    "From above model performance is very bad it can be treet into next step \n",
    "firstly check the corr between the each feature "
   ]
  },
  {
   "cell_type": "code",
   "execution_count": 62,
   "id": "0cae3c06",
   "metadata": {},
   "outputs": [
    {
     "data": {
      "image/png": "[encoded data removed]",
      "text/plain": [
       "<Figure size 1400x800 with 36 Axes>"
      ]
     },
     "metadata": {},
     "output_type": "display_data"
    }
   ],
   "source": [
    "pd.plotting.scatter_matrix(df, alpha = 0.3, figsize = (14,8), diagonal = 'kde');"
   ]
  },
  {
   "cell_type": "code",
   "execution_count": 63,
   "id": "f14a27bc",
   "metadata": {},
   "outputs": [
    {
     "data": {
      "application/vnd.microsoft.datawrangler.viewer.v0+json": {
       "columns": [
        {
         "name": "index",
         "rawType": "object",
         "type": "string"
        },
        {
         "name": "Fresh",
         "rawType": "float64",
         "type": "float"
        },
        {
         "name": "Milk",
         "rawType": "float64",
         "type": "float"
        },
        {
         "name": "Grocery",
         "rawType": "float64",
         "type": "float"
        },
        {
         "name": "Frozen",
         "rawType": "float64",
         "type": "float"
        },
        {
         "name": "Detergents_Paper",
         "rawType": "float64",
         "type": "float"
        },
        {
         "name": "Delicatessen",
         "rawType": "float64",
         "type": "float"
        }
       ],
       "ref": "b4ebab26-f4fe-457f-813d-a465f992eb7f",
       "rows": [
        [
         "Fresh",
         "1.0",
         "0.10050976829985858",
         "-0.01185387498401049",
         "0.3458814571090805",
         "-0.10195293825378433",
         "0.24468996945659147"
        ],
        [
         "Milk",
         "0.10050976829985858",
         "1.0",
         "0.7283351181536435",
         "0.12399375879489036",
         "0.6618156793591079",
         "0.4063683161768714"
        ],
        [
         "Grocery",
         "-0.01185387498401049",
         "0.7283351181536435",
         "1.0",
         "-0.04019273699059127",
         "0.9246406908542676",
         "0.20549651097954472"
        ],
        [
         "Frozen",
         "0.3458814571090805",
         "0.12399375879489036",
         "-0.04019273699059127",
         "1.0",
         "-0.1315249060096057",
         "0.39094746527393764"
        ],
        [
         "Detergents_Paper",
         "-0.10195293825378433",
         "0.6618156793591079",
         "0.9246406908542676",
         "-0.1315249060096057",
         "1.0",
         "0.0692912974583739"
        ],
        [
         "Delicatessen",
         "0.24468996945659147",
         "0.4063683161768714",
         "0.20549651097954472",
         "0.39094746527393764",
         "0.0692912974583739",
         "1.0"
        ]
       ],
       "shape": {
        "columns": 6,
        "rows": 6
       }
      },
      "text/html": [
       "<div>\n",
       "<style scoped>\n",
       "    .dataframe tbody tr th:only-of-type {\n",
       "        vertical-align: middle;\n",
       "    }\n",
       "\n",
       "    .dataframe tbody tr th {\n",
       "        vertical-align: top;\n",
       "    }\n",
       "\n",
       "    .dataframe thead th {\n",
       "        text-align: right;\n",
       "    }\n",
       "</style>\n",
       "<table border=\"1\" class=\"dataframe\">\n",
       "  <thead>\n",
       "    <tr style=\"text-align: right;\">\n",
       "      <th></th>\n",
       "      <th>Fresh</th>\n",
       "      <th>Milk</th>\n",
       "      <th>Grocery</th>\n",
       "      <th>Frozen</th>\n",
       "      <th>Detergents_Paper</th>\n",
       "      <th>Delicatessen</th>\n",
       "    </tr>\n",
       "  </thead>\n",
       "  <tbody>\n",
       "    <tr>\n",
       "      <th>Fresh</th>\n",
       "      <td>1.000000</td>\n",
       "      <td>0.100510</td>\n",
       "      <td>-0.011854</td>\n",
       "      <td>0.345881</td>\n",
       "      <td>-0.101953</td>\n",
       "      <td>0.244690</td>\n",
       "    </tr>\n",
       "    <tr>\n",
       "      <th>Milk</th>\n",
       "      <td>0.100510</td>\n",
       "      <td>1.000000</td>\n",
       "      <td>0.728335</td>\n",
       "      <td>0.123994</td>\n",
       "      <td>0.661816</td>\n",
       "      <td>0.406368</td>\n",
       "    </tr>\n",
       "    <tr>\n",
       "      <th>Grocery</th>\n",
       "      <td>-0.011854</td>\n",
       "      <td>0.728335</td>\n",
       "      <td>1.000000</td>\n",
       "      <td>-0.040193</td>\n",
       "      <td>0.924641</td>\n",
       "      <td>0.205497</td>\n",
       "    </tr>\n",
       "    <tr>\n",
       "      <th>Frozen</th>\n",
       "      <td>0.345881</td>\n",
       "      <td>0.123994</td>\n",
       "      <td>-0.040193</td>\n",
       "      <td>1.000000</td>\n",
       "      <td>-0.131525</td>\n",
       "      <td>0.390947</td>\n",
       "    </tr>\n",
       "    <tr>\n",
       "      <th>Detergents_Paper</th>\n",
       "      <td>-0.101953</td>\n",
       "      <td>0.661816</td>\n",
       "      <td>0.924641</td>\n",
       "      <td>-0.131525</td>\n",
       "      <td>1.000000</td>\n",
       "      <td>0.069291</td>\n",
       "    </tr>\n",
       "    <tr>\n",
       "      <th>Delicatessen</th>\n",
       "      <td>0.244690</td>\n",
       "      <td>0.406368</td>\n",
       "      <td>0.205497</td>\n",
       "      <td>0.390947</td>\n",
       "      <td>0.069291</td>\n",
       "      <td>1.000000</td>\n",
       "    </tr>\n",
       "  </tbody>\n",
       "</table>\n",
       "</div>"
      ],
      "text/plain": [
       "                     Fresh      Milk   Grocery    Frozen  Detergents_Paper  \\\n",
       "Fresh             1.000000  0.100510 -0.011854  0.345881         -0.101953   \n",
       "Milk              0.100510  1.000000  0.728335  0.123994          0.661816   \n",
       "Grocery          -0.011854  0.728335  1.000000 -0.040193          0.924641   \n",
       "Frozen            0.345881  0.123994 -0.040193  1.000000         -0.131525   \n",
       "Detergents_Paper -0.101953  0.661816  0.924641 -0.131525          1.000000   \n",
       "Delicatessen      0.244690  0.406368  0.205497  0.390947          0.069291   \n",
       "\n",
       "                  Delicatessen  \n",
       "Fresh                 0.244690  \n",
       "Milk                  0.406368  \n",
       "Grocery               0.205497  \n",
       "Frozen                0.390947  \n",
       "Detergents_Paper      0.069291  \n",
       "Delicatessen          1.000000  "
      ]
     },
     "execution_count": 63,
     "metadata": {},
     "output_type": "execute_result"
    }
   ],
   "source": [
    "df.corr()"
   ]
  },
  {
   "cell_type": "markdown",
   "id": "ca6eff83",
   "metadata": {},
   "source": [
    "do preprocessing because model give preferance to some feature as shown above all feature are highly corr to aech other"
   ]
  },
  {
   "cell_type": "code",
   "execution_count": 64,
   "id": "eecfe536",
   "metadata": {},
   "outputs": [],
   "source": [
    "from sklearn.preprocessing import StandardScaler\n",
    "scalar=StandardScaler()\n",
    "X_scaled=scalar.fit_transform(X)"
   ]
  },
  {
   "cell_type": "code",
   "execution_count": 65,
   "id": "42a5f3cb",
   "metadata": {},
   "outputs": [],
   "source": [
    "col=X.columns"
   ]
  },
  {
   "cell_type": "code",
   "execution_count": 66,
   "id": "68a76675",
   "metadata": {},
   "outputs": [
    {
     "data": {
      "application/vnd.microsoft.datawrangler.viewer.v0+json": {
       "columns": [
        {
         "name": "index",
         "rawType": "int64",
         "type": "integer"
        },
        {
         "name": "Milk",
         "rawType": "float64",
         "type": "float"
        },
        {
         "name": "Grocery",
         "rawType": "float64",
         "type": "float"
        },
        {
         "name": "Frozen",
         "rawType": "float64",
         "type": "float"
        },
        {
         "name": "Detergents_Paper",
         "rawType": "float64",
         "type": "float"
        },
        {
         "name": "Delicatessen",
         "rawType": "float64",
         "type": "float"
        }
       ],
       "ref": "f4e66b8e-500b-4644-ba2a-87f19def4cc1",
       "rows": [
        [
         "0",
         "0.5235677732188025",
         "-0.04111489343644868",
         "-0.589367155775102",
         "-0.043568731904070554",
         "-0.06633905751821152"
        ],
        [
         "1",
         "0.5444576674904322",
         "0.1703183538810707",
         "-0.2701361820563945",
         "0.08640684036437925",
         "0.08915105066209963"
        ],
        [
         "2",
         "0.40853770606073786",
         "-0.02815710099994899",
         "-0.137535719458766",
         "0.13323164265172063",
         "2.2432925493792872"
        ],
        [
         "3",
         "-0.6240199250798147",
         "-0.3929768994357086",
         "0.6871442959812285",
         "-0.4985882231895806",
         "0.09341105362594378"
        ],
        [
         "4",
         "-0.05239645455612996",
         "-0.07935618331002095",
         "0.1738588350084487",
         "-0.23191782451279344",
         "1.2993468926408227"
        ],
        [
         "5",
         "0.33406658946901907",
         "-0.2976370445167475",
         "-0.49615501099418746",
         "-0.2281382440591067",
         "-0.026224029608679193"
        ],
        [
         "6",
         "-0.3523156508845275",
         "-0.10284876634530088",
         "-0.5345122210146523",
         "0.054280406508041903",
         "-0.34785425337891185"
        ],
        [
         "7",
         "-0.11398094805820706",
         "0.15535895123080276",
         "-0.28931478706662694",
         "0.09228618773678086",
         "0.36960124578183895"
        ],
        [
         "8",
         "-0.29140940070295784",
         "-0.18533617673375014",
         "-0.5458544067733919",
         "-0.2447264027169541",
         "-0.27507920274657444"
        ],
        [
         "9",
         "0.7184949035326458",
         "1.1514234023454744",
         "-0.3944877822840306",
         "0.9540305311773594",
         "0.20346113019191742"
        ],
        [
         "10",
         "-0.053345995204840395",
         "0.5291333216755256",
         "0.27387629124460705",
         "0.6499842813474476",
         "0.07779104275851526"
        ],
        [
         "11",
         "-0.6337866288951222",
         "-0.3611618318273923",
         "-0.3406639553198299",
         "-0.4897692021309782",
         "-0.3648942652342884"
        ],
        [
         "12",
         "0.8848001657210742",
         "0.4009249200883701",
         "-0.5743129819498659",
         "0.209873135184813",
         "0.49917633593209826"
        ],
        [
         "13",
         "0.055851179396860184",
         "0.7406719168990328",
         "0.004757156423603631",
         "0.8032672664136323",
         "-0.3276192393006522"
        ],
        [
         "14",
         "0.4976588783754177",
         "0.4361111206882961",
         "-0.5728694310351172",
         "0.45701570151755194",
         "0.22831114748100825"
        ],
        [
         "15",
         "-0.635143115536137",
         "-0.4351160618308296",
         "-0.5516286104323866",
         "-0.40262887500431155",
         "-0.39506928622818444"
        ],
        [
         "16",
         "0.4096228953735498",
         "0.4392715578679302",
         "-0.6058648805150869",
         "0.34152852098823466",
         "-0.15792912124086056"
        ],
        [
         "17",
         "0.04893309752768413",
         "-0.5286650023479981",
         "-0.4604786812439701",
         "-0.5273550299759742",
         "1.0483617180210054"
        ],
        [
         "18",
         "0.07199337042493767",
         "0.22625809196059377",
         "-0.17878003130872822",
         "-0.02404089956002236",
         "0.5879263976788511"
        ],
        [
         "19",
         "-0.44781231041197744",
         "0.15936217165833924",
         "-0.495536346316438",
         "-0.07632509583602236",
         "-0.3634742642463404"
        ],
        [
         "20",
         "-0.1732594142705588",
         "-0.35283934725435595",
         "-0.413666387294263",
         "-0.13070905903073723",
         "0.21269113661357975"
        ],
        [
         "21",
         "-0.6681057409127995",
         "-0.6259011195747397",
         "0.06414896548754923",
         "-0.5263051465166168",
         "-0.3393342474512236"
        ],
        [
         "22",
         "-0.5262172382626394",
         "-0.36685061875073366",
         "1.306633859967661",
         "-0.10509190262241594",
         "0.9972416824548757"
        ],
        [
         "23",
         "4.154475565223423",
         "1.4820051313351983",
         "0.4293673469189646",
         "0.3056225066782106",
         "5.324339692979562"
        ],
        [
         "24",
         "0.5398456129109815",
         "0.615307908773548",
         "-0.03236272424136236",
         "0.33606912699957603",
         "1.5098620391041206"
        ],
        [
         "25",
         "-0.21246187819588983",
         "-0.037533064632863405",
         "-0.5920480360453496",
         "0.23549029159313428",
         "-0.5210943739085736"
        ],
        [
         "26",
         "-0.6558973611436653",
         "-0.5362500515791199",
         "0.01630556374159305",
         "-0.5542320465355244",
         "-0.24561418224665246"
        ],
        [
         "27",
         "-0.6773298500717009",
         "-0.5168660368773642",
         "-0.5334811132184033",
         "-0.5840487367812754",
         "-0.35743926004756116"
        ],
        [
         "28",
         "1.9923715081097515",
         "1.8968651851151639",
         "-0.3946940038432804",
         "1.2015930508938413",
         "1.30680189782755"
        ],
        [
         "29",
         "-0.5013935327320665",
         "-0.562797723888046",
         "-0.3860326983547884",
         "-0.37260220806668903",
         "-0.24916418471652257"
        ],
        [
         "30",
         "-0.2965640499388145",
         "0.33244878119629856",
         "-0.39675621943577855",
         "-0.15695614551467296",
         "0.5105363438356826"
        ],
        [
         "31",
         "-0.19767617380882727",
         "-0.5075954211504377",
         "-0.2029079537409561",
         "-0.4328655186338055",
         "-0.1916541447046267"
        ],
        [
         "32",
         "-0.6074707880594328",
         "-0.5336163539294249",
         "-0.5786436346941118",
         "-0.4122878028303999",
         "-0.3975542879570935"
        ],
        [
         "33",
         "-0.1370412209554606",
         "-0.06587165134358225",
         "0.6306395887467803",
         "-0.5292448202028176",
         "-0.15686412049989953"
        ],
        [
         "34",
         "-0.517807021088347",
         "-0.5993534472658135",
         "-0.5458544067733919",
         "-0.5036276637944963",
         "-0.4011042904269636"
        ],
        [
         "35",
         "-0.04140891276390916",
         "0.33076321470049375",
         "-0.461716010599469",
         "0.28504479087480494",
         "-0.3865492803004961"
        ],
        [
         "36",
         "-0.19455625453449296",
         "-0.2658219769084312",
         "-0.27694149351163827",
         "-0.42404649757520313",
         "1.1009017545750832"
        ],
        [
         "37",
         "0.6456515709101448",
         "0.4767754123995878",
         "-0.23755317569492437",
         "0.7610619513474636",
         "-0.28785921163810685"
        ],
        [
         "38",
         "1.3473621103071598",
         "0.9226077505399676",
         "-0.6266932579993179",
         "0.8555514626896323",
         "-0.3876142810414572"
        ],
        [
         "39",
         "-0.7109707187688707",
         "-0.7426265994092247",
         "1.4291294661620486",
         "-0.560531347291669",
         "0.49385133222729305"
        ],
        [
         "40",
         "-0.1986257144575377",
         "-0.3365104218262466",
         "1.3276684590111416",
         "-0.36462309377557256",
         "1.5403920603450036"
        ],
        [
         "41",
         "-0.3704925718741273",
         "-0.2101982825468715",
         "-0.21425013949969574",
         "-0.06435642439934766",
         "0.4533813040707737"
        ],
        [
         "42",
         "0.23856992994156911",
         "0.7384596108732889",
         "-0.5947289163155971",
         "0.8435827912529577",
         "-0.5249993766254307"
        ],
        [
         "43",
         "0.7187662008608487",
         "1.6904886372850592",
         "-0.4712022023249603",
         "1.3958214908749658",
         "-0.5157693702037685"
        ],
        [
         "44",
         "0.16694743529598166",
         "0.26544751298805624",
         "-0.5219327059004139",
         "0.3646259570940981",
         "-0.5182543719326775"
        ],
        [
         "45",
         "2.203983424108078",
         "1.4305953532131506",
         "-0.27467305635989037",
         "0.9389122093626123",
         "1.2283468432434204"
        ],
        [
         "46",
         "1.1221853278986842",
         "1.4752628653519788",
         "-0.28952100862587676",
         "0.8211152852227086",
         "-0.02586902936169218"
        ],
        [
         "47",
         "6.573905138137624",
         "5.016638073037943",
         "0.9713176046274681",
         "4.4703002132572625",
         "1.7537472087841979"
        ],
        [
         "48",
         "0.04825485420717667",
         "0.3072706316652138",
         "-0.513065178852672",
         "0.4702442331054556",
         "-0.017349023434003897"
        ],
        [
         "49",
         "2.1182534683959355",
         "2.20911637846301",
         "-0.26271220592340133",
         "2.24706699972197",
         "-0.12846410074093859"
        ]
       ],
       "shape": {
        "columns": 5,
        "rows": 440
       }
      },
      "text/html": [
       "<div>\n",
       "<style scoped>\n",
       "    .dataframe tbody tr th:only-of-type {\n",
       "        vertical-align: middle;\n",
       "    }\n",
       "\n",
       "    .dataframe tbody tr th {\n",
       "        vertical-align: top;\n",
       "    }\n",
       "\n",
       "    .dataframe thead th {\n",
       "        text-align: right;\n",
       "    }\n",
       "</style>\n",
       "<table border=\"1\" class=\"dataframe\">\n",
       "  <thead>\n",
       "    <tr style=\"text-align: right;\">\n",
       "      <th></th>\n",
       "      <th>Milk</th>\n",
       "      <th>Grocery</th>\n",
       "      <th>Frozen</th>\n",
       "      <th>Detergents_Paper</th>\n",
       "      <th>Delicatessen</th>\n",
       "    </tr>\n",
       "  </thead>\n",
       "  <tbody>\n",
       "    <tr>\n",
       "      <th>0</th>\n",
       "      <td>0.523568</td>\n",
       "      <td>-0.041115</td>\n",
       "      <td>-0.589367</td>\n",
       "      <td>-0.043569</td>\n",
       "      <td>-0.066339</td>\n",
       "    </tr>\n",
       "    <tr>\n",
       "      <th>1</th>\n",
       "      <td>0.544458</td>\n",
       "      <td>0.170318</td>\n",
       "      <td>-0.270136</td>\n",
       "      <td>0.086407</td>\n",
       "      <td>0.089151</td>\n",
       "    </tr>\n",
       "    <tr>\n",
       "      <th>2</th>\n",
       "      <td>0.408538</td>\n",
       "      <td>-0.028157</td>\n",
       "      <td>-0.137536</td>\n",
       "      <td>0.133232</td>\n",
       "      <td>2.243293</td>\n",
       "    </tr>\n",
       "    <tr>\n",
       "      <th>3</th>\n",
       "      <td>-0.624020</td>\n",
       "      <td>-0.392977</td>\n",
       "      <td>0.687144</td>\n",
       "      <td>-0.498588</td>\n",
       "      <td>0.093411</td>\n",
       "    </tr>\n",
       "    <tr>\n",
       "      <th>4</th>\n",
       "      <td>-0.052396</td>\n",
       "      <td>-0.079356</td>\n",
       "      <td>0.173859</td>\n",
       "      <td>-0.231918</td>\n",
       "      <td>1.299347</td>\n",
       "    </tr>\n",
       "    <tr>\n",
       "      <th>...</th>\n",
       "      <td>...</td>\n",
       "      <td>...</td>\n",
       "      <td>...</td>\n",
       "      <td>...</td>\n",
       "      <td>...</td>\n",
       "    </tr>\n",
       "    <tr>\n",
       "      <th>435</th>\n",
       "      <td>0.848446</td>\n",
       "      <td>0.850760</td>\n",
       "      <td>2.075222</td>\n",
       "      <td>-0.566831</td>\n",
       "      <td>0.241091</td>\n",
       "    </tr>\n",
       "    <tr>\n",
       "      <th>436</th>\n",
       "      <td>-0.592142</td>\n",
       "      <td>-0.757165</td>\n",
       "      <td>0.296561</td>\n",
       "      <td>-0.585519</td>\n",
       "      <td>0.291501</td>\n",
       "    </tr>\n",
       "    <tr>\n",
       "      <th>437</th>\n",
       "      <td>1.314671</td>\n",
       "      <td>2.348386</td>\n",
       "      <td>-0.543380</td>\n",
       "      <td>2.511218</td>\n",
       "      <td>0.121456</td>\n",
       "    </tr>\n",
       "    <tr>\n",
       "      <th>438</th>\n",
       "      <td>-0.517536</td>\n",
       "      <td>-0.602514</td>\n",
       "      <td>-0.419441</td>\n",
       "      <td>-0.569770</td>\n",
       "      <td>0.213046</td>\n",
       "    </tr>\n",
       "    <tr>\n",
       "      <th>439</th>\n",
       "      <td>-0.555924</td>\n",
       "      <td>-0.573227</td>\n",
       "      <td>-0.620094</td>\n",
       "      <td>-0.504888</td>\n",
       "      <td>-0.522869</td>\n",
       "    </tr>\n",
       "  </tbody>\n",
       "</table>\n",
       "<p>440 rows × 5 columns</p>\n",
       "</div>"
      ],
      "text/plain": [
       "         Milk   Grocery    Frozen  Detergents_Paper  Delicatessen\n",
       "0    0.523568 -0.041115 -0.589367         -0.043569     -0.066339\n",
       "1    0.544458  0.170318 -0.270136          0.086407      0.089151\n",
       "2    0.408538 -0.028157 -0.137536          0.133232      2.243293\n",
       "3   -0.624020 -0.392977  0.687144         -0.498588      0.093411\n",
       "4   -0.052396 -0.079356  0.173859         -0.231918      1.299347\n",
       "..        ...       ...       ...               ...           ...\n",
       "435  0.848446  0.850760  2.075222         -0.566831      0.241091\n",
       "436 -0.592142 -0.757165  0.296561         -0.585519      0.291501\n",
       "437  1.314671  2.348386 -0.543380          2.511218      0.121456\n",
       "438 -0.517536 -0.602514 -0.419441         -0.569770      0.213046\n",
       "439 -0.555924 -0.573227 -0.620094         -0.504888     -0.522869\n",
       "\n",
       "[440 rows x 5 columns]"
      ]
     },
     "execution_count": 66,
     "metadata": {},
     "output_type": "execute_result"
    }
   ],
   "source": [
    "X_scaled=pd.DataFrame(data=X_scaled,columns=col)\n",
    "X_scaled"
   ]
  },
  {
   "cell_type": "code",
   "execution_count": 67,
   "id": "ee4a6f40",
   "metadata": {},
   "outputs": [
    {
     "data": {
      "text/plain": [
       "-0.32967088821255963"
      ]
     },
     "execution_count": 67,
     "metadata": {},
     "output_type": "execute_result"
    }
   ],
   "source": [
    "from sklearn.model_selection import train_test_split\n",
    "from sklearn.tree import DecisionTreeRegressor\n",
    "# X=df.drop(columns='Fresh')\n",
    "# y=df['Fresh']\n",
    "X_train,X_test,y_train,y_test=train_test_split(X_scaled,y,random_state=42,test_size=.20)\n",
    "model=DecisionTreeRegressor()\n",
    "model.fit(X_train,y_train)\n",
    "model.score(X_test,y_test)"
   ]
  },
  {
   "cell_type": "code",
   "execution_count": 68,
   "id": "5a8d50a8",
   "metadata": {},
   "outputs": [
    {
     "data": {
      "application/vnd.microsoft.datawrangler.viewer.v0+json": {
       "columns": [
        {
         "name": "index",
         "rawType": "int64",
         "type": "integer"
        },
        {
         "name": "Fresh",
         "rawType": "float64",
         "type": "float"
        },
        {
         "name": "Milk",
         "rawType": "float64",
         "type": "float"
        },
        {
         "name": "Grocery",
         "rawType": "float64",
         "type": "float"
        },
        {
         "name": "Frozen",
         "rawType": "float64",
         "type": "float"
        },
        {
         "name": "Detergents_Paper",
         "rawType": "float64",
         "type": "float"
        },
        {
         "name": "Delicatessen",
         "rawType": "float64",
         "type": "float"
        }
       ],
       "ref": "86b6fb30-cedd-415e-ac7b-42a4638f9274",
       "rows": [
        [
         "0",
         "9.446913343602054",
         "9.175334762777368",
         "8.93075873555827",
         "5.365976015021851",
         "7.891330757661889",
         "7.198931240688173"
        ],
        [
         "1",
         "8.86177531100083",
         "9.191157552559408",
         "9.166179476190413",
         "7.474204806496124",
         "8.099554282376364",
         "7.4821189235521155"
        ],
        [
         "2",
         "8.756682421266532",
         "9.083415678402515",
         "8.946895523888447",
         "7.785305182539862",
         "8.165079258805068",
         "8.967504187316237"
        ],
        [
         "3",
         "9.49288426657184",
         "7.086737934510577",
         "8.347827345782498",
         "8.764678074116606",
         "6.2285110035911835",
         "7.488852955733459"
        ],
        [
         "4",
         "10.026368681911944",
         "8.596004371840527",
         "8.881558488638976",
         "8.272570608424903",
         "7.482681828154651",
         "8.553525120663627"
        ],
        [
         "5",
         "9.14984699154722",
         "9.019058793810718",
         "8.542080906924017",
         "6.501289670540389",
         "7.492760300922379",
         "7.280008252884188"
        ],
        [
         "6",
         "9.403107186631676",
         "8.070593539949519",
         "8.850087606689566",
         "6.173786103901937",
         "8.0519780789023",
         "6.300785794663244"
        ],
        [
         "7",
         "8.93313654381203",
         "8.508354242749032",
         "9.151227107483676",
         "7.419979923661835",
         "8.108021221376747",
         "7.850103545175582"
        ],
        [
         "8",
         "8.693328989123106",
         "8.201934351194222",
         "8.731013415269564",
         "6.052089168924417",
         "7.447751280047908",
         "6.620073206530356"
        ],
        [
         "9",
         "8.700514248543275",
         "9.314069557738659",
         "9.845911404398532",
         "7.055312843339752",
         "8.9126079636709",
         "7.6487397889562425"
        ],
        [
         "10",
         "8.121480374750751",
         "8.594709633844065",
         "9.470702633773001",
         "8.389359819906353",
         "8.695674048824253",
         "7.463936604468925"
        ],
        [
         "11",
         "9.483872808823522",
         "7.024649030453636",
         "8.416930769477844",
         "7.258412150595307",
         "6.3080984415095305",
         "6.208590026096629"
        ],
        [
         "12",
         "10.364513502749514",
         "9.418898064961974",
         "9.372204086867741",
         "5.659482215759621",
         "8.263848131368906",
         "7.983098940710892"
        ],
        [
         "13",
         "9.962558026113117",
         "8.733594061863055",
         "9.614604759507829",
         "8.037543185118697",
         "8.810907036099737",
         "6.400257445308821"
        ],
        [
         "14",
         "10.112653875919479",
         "9.155356063643422",
         "9.400216653174247",
         "5.683579767338681",
         "8.52872642722991",
         "7.681560362559537"
        ],
        [
         "15",
         "9.235325624670091",
         "7.01571242048723",
         "8.2482674474469",
         "5.983936280687191",
         "6.871091294610546",
         "6.021023349349527"
        ],
        [
         "16",
         "6.927557906278317",
         "9.084323531392696",
         "9.402694764470512",
         "4.897839799950911",
         "8.413608875159667",
         "6.984716320118266"
        ],
        [
         "17",
         "8.678631537293768",
         "8.72534492491121",
         "7.983781068977451",
         "6.732210706467206",
         "5.91350300563827",
         "8.4069317971587"
        ],
        [
         "18",
         "9.83097062169695",
         "8.752581469146884",
         "9.220191688026556",
         "7.6984827878809465",
         "7.925518979786926",
         "8.064950891749143"
        ],
        [
         "19",
         "8.959311617172437",
         "7.822044008185619",
         "9.155250405658222",
         "6.505784060128229",
         "7.831220214604293",
         "6.2166061010848646"
        ],
        [
         "20",
         "9.772581282688328",
         "8.41604600941128",
         "8.434246270595311",
         "6.97166860472579",
         "7.7226775164680035",
         "7.66105638236183"
        ],
        [
         "21",
         "8.624611588183507",
         "6.769641976852503",
         "7.605890001053122",
         "8.12651816878071",
         "5.926926025970411",
         "6.343880434126331"
        ],
        [
         "22",
         "10.350606309244405",
         "7.558516743045645",
         "8.404919948933452",
         "9.149315670138408",
         "7.7752758464868625",
         "8.374246182096304"
        ],
        [
         "23",
         "10.180096038519288",
         "10.502955722212086",
         "9.999660995984785",
         "8.54752839121231",
         "8.374938143835367",
         "9.71250862865099"
        ],
        [
         "24",
         "10.027782671807735",
         "9.187685681411377",
         "9.531843992903474",
         "7.977625098784593",
         "8.407824654360873",
         "8.661812881026181"
        ],
        [
         "25",
         "9.690603690159534",
         "8.349957272040324",
         "8.935245415029874",
         "5.303304908059076",
         "8.294799358992574",
         "4.04305126783455"
        ],
        [
         "26",
         "9.200087995511831",
         "6.8679744089702925",
         "7.95892649305011",
         "8.055475141757274",
         "5.488937726156687",
         "6.725033642166843"
        ],
        [
         "27",
         "9.566335084610051",
         "6.688354713946762",
         "8.021256180143997",
         "6.184148890937483",
         "4.605170185988092",
         "6.249975242259483"
        ],
        [
         "28",
         "8.321907968230423",
         "9.92739937258244",
         "10.16419660173648",
         "7.05444965813294",
         "9.05998249038762",
         "8.55756708555451"
        ],
        [
         "29",
         "10.67099981505138",
         "7.649692623711514",
         "7.866722285136729",
         "7.090076835776092",
         "7.009408932708637",
         "6.71295620067707"
        ],
        [
         "30",
         "9.842409703027538",
         "8.191463051326927",
         "9.31533081916712",
         "7.045776576879511",
         "7.665753431861699",
         "7.993957547573565"
        ],
        [
         "31",
         "7.867871490396322",
         "8.37539918579835",
         "8.049746290952191",
         "7.643961949002529",
         "6.709304340258298",
         "6.892641641172089"
        ],
        [
         "32",
         "9.98192897884269",
         "7.183870715062453",
         "7.9676267393338165",
         "5.583496308781699",
         "6.822197390620491",
         "6.003887067106539"
        ],
        [
         "33",
         "10.299878279368585",
         "8.47345026846832",
         "8.89918494333876",
         "8.720950028930258",
         "5.8888779583328805",
         "6.9874902470009905"
        ],
        [
         "34",
         "7.31455283232408",
         "7.590346945602565",
         "7.724004656676065",
         "6.052089168924417",
         "6.180016653652572",
         "5.978885764901122"
        ],
        [
         "35",
         "6.5337888379333435",
         "8.610865667278873",
         "9.313889247604742",
         "6.725033642166843",
         "8.352082671352637",
         "6.077642243349034"
        ],
        [
         "36",
         "10.307451534518025",
         "8.380685946761574",
         "8.59932602095476",
         "7.455298485683291",
         "6.759255270663693",
         "8.439447842791385"
        ],
        [
         "37",
         "9.626943224494804",
         "9.264449697623215",
         "9.431642228411022",
         "7.560080465021827",
         "8.780480107033297",
         "6.570882962339584"
        ],
        [
         "38",
         "8.431853144249223",
         "9.663261421240643",
         "9.723702775394143",
         "3.4965075614664802",
         "8.847359875474174",
         "6.07073772800249"
        ],
        [
         "39",
         "10.935942232273353",
         "6.318968113746434",
         "6.804614520062624",
         "9.21054035197885",
         "5.356586274672012",
         "7.977968093128549"
        ],
        [
         "40",
         "10.086850233838494",
         "8.37378460812088",
         "8.467372496432281",
         "9.160099155539436",
         "7.0431599159883405",
         "8.676587243566487"
        ],
        [
         "41",
         "9.86141477611422",
         "8.027802848370312",
         "8.6921543938039",
         "7.617267813628347",
         "7.853604813097837",
         "7.938088726896952"
        ],
        [
         "42",
         "9.291920358968605",
         "8.92996487470684",
         "9.613202094214232",
         "5.236441962829949",
         "8.839131752546109",
         "3.828641396489095"
        ],
        [
         "43",
         "6.4457198193855785",
         "9.314249835366695",
         "10.085725772524334",
         "6.668228248417403",
         "9.162095059348188",
         "4.276666119016055"
        ],
        [
         "44",
         "9.17678358844734",
         "8.857515151192198",
         "9.256364810287462",
         "6.293419278846481",
         "8.43771698991444",
         "4.174387269895637"
        ],
        [
         "45",
         "8.552753366814787",
         "10.000795735003125",
         "9.977249036098181",
         "7.461640392208575",
         "8.902863672196222",
         "8.514188682395938"
        ],
        [
         "46",
         "8.04012466444838",
         "9.551729074377214",
         "9.996750182995818",
         "7.419380582918692",
         "8.823500727991183",
         "7.280697195384741"
        ],
        [
         "47",
         "10.702480131179414",
         "10.901524156260564",
         "10.92541676143327",
         "8.9595686535445",
         "10.092908846445306",
         "8.774158291205957"
        ],
        [
         "48",
         "9.351753124926507",
         "8.72453251118548",
         "9.293577970546238",
         "6.369900982828227",
         "8.54110501146255",
         "7.297091005160418"
        ],
        [
         "49",
         "8.51057131510735",
         "9.971706791513272",
         "10.272323253821503",
         "7.494430215031565",
         "9.51657428982249",
         "7.0587581525186645"
        ]
       ],
       "shape": {
        "columns": 6,
        "rows": 440
       }
      },
      "text/html": [
       "<div>\n",
       "<style scoped>\n",
       "    .dataframe tbody tr th:only-of-type {\n",
       "        vertical-align: middle;\n",
       "    }\n",
       "\n",
       "    .dataframe tbody tr th {\n",
       "        vertical-align: top;\n",
       "    }\n",
       "\n",
       "    .dataframe thead th {\n",
       "        text-align: right;\n",
       "    }\n",
       "</style>\n",
       "<table border=\"1\" class=\"dataframe\">\n",
       "  <thead>\n",
       "    <tr style=\"text-align: right;\">\n",
       "      <th></th>\n",
       "      <th>Fresh</th>\n",
       "      <th>Milk</th>\n",
       "      <th>Grocery</th>\n",
       "      <th>Frozen</th>\n",
       "      <th>Detergents_Paper</th>\n",
       "      <th>Delicatessen</th>\n",
       "    </tr>\n",
       "  </thead>\n",
       "  <tbody>\n",
       "    <tr>\n",
       "      <th>0</th>\n",
       "      <td>9.446913</td>\n",
       "      <td>9.175335</td>\n",
       "      <td>8.930759</td>\n",
       "      <td>5.365976</td>\n",
       "      <td>7.891331</td>\n",
       "      <td>7.198931</td>\n",
       "    </tr>\n",
       "    <tr>\n",
       "      <th>1</th>\n",
       "      <td>8.861775</td>\n",
       "      <td>9.191158</td>\n",
       "      <td>9.166179</td>\n",
       "      <td>7.474205</td>\n",
       "      <td>8.099554</td>\n",
       "      <td>7.482119</td>\n",
       "    </tr>\n",
       "    <tr>\n",
       "      <th>2</th>\n",
       "      <td>8.756682</td>\n",
       "      <td>9.083416</td>\n",
       "      <td>8.946896</td>\n",
       "      <td>7.785305</td>\n",
       "      <td>8.165079</td>\n",
       "      <td>8.967504</td>\n",
       "    </tr>\n",
       "    <tr>\n",
       "      <th>3</th>\n",
       "      <td>9.492884</td>\n",
       "      <td>7.086738</td>\n",
       "      <td>8.347827</td>\n",
       "      <td>8.764678</td>\n",
       "      <td>6.228511</td>\n",
       "      <td>7.488853</td>\n",
       "    </tr>\n",
       "    <tr>\n",
       "      <th>4</th>\n",
       "      <td>10.026369</td>\n",
       "      <td>8.596004</td>\n",
       "      <td>8.881558</td>\n",
       "      <td>8.272571</td>\n",
       "      <td>7.482682</td>\n",
       "      <td>8.553525</td>\n",
       "    </tr>\n",
       "    <tr>\n",
       "      <th>...</th>\n",
       "      <td>...</td>\n",
       "      <td>...</td>\n",
       "      <td>...</td>\n",
       "      <td>...</td>\n",
       "      <td>...</td>\n",
       "      <td>...</td>\n",
       "    </tr>\n",
       "    <tr>\n",
       "      <th>435</th>\n",
       "      <td>10.299003</td>\n",
       "      <td>9.396903</td>\n",
       "      <td>9.682030</td>\n",
       "      <td>9.483036</td>\n",
       "      <td>5.204007</td>\n",
       "      <td>7.698029</td>\n",
       "    </tr>\n",
       "    <tr>\n",
       "      <th>436</th>\n",
       "      <td>10.577146</td>\n",
       "      <td>7.266129</td>\n",
       "      <td>6.638568</td>\n",
       "      <td>8.414052</td>\n",
       "      <td>4.532599</td>\n",
       "      <td>7.760467</td>\n",
       "    </tr>\n",
       "    <tr>\n",
       "      <th>437</th>\n",
       "      <td>9.584040</td>\n",
       "      <td>9.647821</td>\n",
       "      <td>10.317020</td>\n",
       "      <td>6.079933</td>\n",
       "      <td>9.605149</td>\n",
       "      <td>7.532088</td>\n",
       "    </tr>\n",
       "    <tr>\n",
       "      <th>438</th>\n",
       "      <td>9.238928</td>\n",
       "      <td>7.591357</td>\n",
       "      <td>7.710653</td>\n",
       "      <td>6.945051</td>\n",
       "      <td>5.123964</td>\n",
       "      <td>7.661527</td>\n",
       "    </tr>\n",
       "    <tr>\n",
       "      <th>439</th>\n",
       "      <td>7.932721</td>\n",
       "      <td>7.437206</td>\n",
       "      <td>7.828038</td>\n",
       "      <td>4.174387</td>\n",
       "      <td>6.167516</td>\n",
       "      <td>3.951244</td>\n",
       "    </tr>\n",
       "  </tbody>\n",
       "</table>\n",
       "<p>440 rows × 6 columns</p>\n",
       "</div>"
      ],
      "text/plain": [
       "         Fresh      Milk    Grocery    Frozen  Detergents_Paper  Delicatessen\n",
       "0     9.446913  9.175335   8.930759  5.365976          7.891331      7.198931\n",
       "1     8.861775  9.191158   9.166179  7.474205          8.099554      7.482119\n",
       "2     8.756682  9.083416   8.946896  7.785305          8.165079      8.967504\n",
       "3     9.492884  7.086738   8.347827  8.764678          6.228511      7.488853\n",
       "4    10.026369  8.596004   8.881558  8.272571          7.482682      8.553525\n",
       "..         ...       ...        ...       ...               ...           ...\n",
       "435  10.299003  9.396903   9.682030  9.483036          5.204007      7.698029\n",
       "436  10.577146  7.266129   6.638568  8.414052          4.532599      7.760467\n",
       "437   9.584040  9.647821  10.317020  6.079933          9.605149      7.532088\n",
       "438   9.238928  7.591357   7.710653  6.945051          5.123964      7.661527\n",
       "439   7.932721  7.437206   7.828038  4.174387          6.167516      3.951244\n",
       "\n",
       "[440 rows x 6 columns]"
      ]
     },
     "execution_count": 68,
     "metadata": {},
     "output_type": "execute_result"
    }
   ],
   "source": [
    "df=df.apply(np.log)\n",
    "df"
   ]
  },
  {
   "cell_type": "code",
   "execution_count": 69,
   "id": "649b6a1b",
   "metadata": {},
   "outputs": [
    {
     "data": {
      "text/plain": [
       "-0.40654120175533914"
      ]
     },
     "execution_count": 69,
     "metadata": {},
     "output_type": "execute_result"
    }
   ],
   "source": [
    "from sklearn.model_selection import train_test_split\n",
    "from sklearn.tree import DecisionTreeRegressor\n",
    "X=df.drop(columns='Fresh')\n",
    "y=df['Fresh']\n",
    "X_train,X_test,y_train,y_test=train_test_split(X_scaled,y,random_state=42,test_size=.20)\n",
    "model=DecisionTreeRegressor()\n",
    "model.fit(X_train,y_train)\n",
    "model.score(X_test,y_test)"
   ]
  },
  {
   "cell_type": "markdown",
   "id": "4dfdda59",
   "metadata": {},
   "source": [
    "outliner treetment"
   ]
  },
  {
   "cell_type": "code",
   "execution_count": 70,
   "id": "2256c3c4",
   "metadata": {},
   "outputs": [
    {
     "name": "stdout",
     "output_type": "stream",
     "text": [
      "Data points considered outliers for the feature 'Fresh':\n"
     ]
    },
    {
     "data": {
      "application/vnd.microsoft.datawrangler.viewer.v0+json": {
       "columns": [
        {
         "name": "index",
         "rawType": "int64",
         "type": "integer"
        },
        {
         "name": "Fresh",
         "rawType": "float64",
         "type": "float"
        },
        {
         "name": "Milk",
         "rawType": "float64",
         "type": "float"
        },
        {
         "name": "Grocery",
         "rawType": "float64",
         "type": "float"
        },
        {
         "name": "Frozen",
         "rawType": "float64",
         "type": "float"
        },
        {
         "name": "Detergents_Paper",
         "rawType": "float64",
         "type": "float"
        },
        {
         "name": "Delicatessen",
         "rawType": "float64",
         "type": "float"
        }
       ],
       "ref": "7f185baa-51fc-4fa3-abe9-7912afefdb64",
       "rows": [
        [
         "65",
         "4.442651256490317",
         "9.95032342737316",
         "10.732650537013516",
         "3.58351893845611",
         "10.095388084110406",
         "7.260522598089852"
        ],
        [
         "66",
         "2.1972245773362196",
         "7.335633981927201",
         "8.911529941736559",
         "5.1647859739235145",
         "8.151333337900432",
         "3.295836866004329"
        ],
        [
         "81",
         "5.389071729816501",
         "9.163248764442333",
         "9.57519179719905",
         "5.645446897643238",
         "8.9641840463529",
         "5.049856007249537"
        ],
        [
         "95",
         "1.0986122886681098",
         "7.979338895262328",
         "8.740656691541368",
         "6.0867747269123065",
         "5.407171771460119",
         "6.5638555265321274"
        ],
        [
         "96",
         "3.1354942159291497",
         "7.86940171257709",
         "9.001839097398843",
         "4.976733742420574",
         "8.262042843966942",
         "5.37989735354046"
        ],
        [
         "128",
         "4.941642422609304",
         "9.087833697483386",
         "8.248790733696413",
         "4.955827057601261",
         "6.967909201801884",
         "1.0986122886681098"
        ],
        [
         "171",
         "5.298317366548036",
         "10.160529988855798",
         "9.894244971169195",
         "6.478509642208569",
         "9.079434102128383",
         "8.740336742730447"
        ],
        [
         "193",
         "5.19295685089021",
         "8.156223323194624",
         "9.91798199868658",
         "6.8658910748834385",
         "8.633731007664188",
         "6.501289670540389"
        ],
        [
         "218",
         "2.8903717578961645",
         "8.92319149068606",
         "9.629379600111465",
         "7.158513997329321",
         "8.475746001502063",
         "8.759668671029939"
        ],
        [
         "304",
         "5.081404364984463",
         "8.917310693197807",
         "10.117509629400777",
         "6.424869023905388",
         "9.37441309371334",
         "7.787382026484701"
        ],
        [
         "305",
         "5.493061443340548",
         "9.468001285315953",
         "9.08839870117094",
         "6.683360945766275",
         "8.271036865792954",
         "5.351858133476067"
        ],
        [
         "338",
         "1.0986122886681098",
         "5.808142489980444",
         "8.85666093701725",
         "9.65509029374725",
         "2.70805020110221",
         "6.309918278226516"
        ],
        [
         "353",
         "4.762173934797756",
         "8.74257423767064",
         "9.96189796008255",
         "5.429345628954441",
         "9.06900719585954",
         "7.01301578963963"
        ],
        [
         "355",
         "5.247024072160486",
         "6.588926477533519",
         "7.60688453121963",
         "5.501258210544727",
         "5.214935757608986",
         "4.844187086458591"
        ],
        [
         "357",
         "3.6109179126442243",
         "7.150701457592526",
         "10.011085563134147",
         "4.919980925828125",
         "8.816853240627426",
         "4.700480365792417"
        ],
        [
         "412",
         "4.574710978503383",
         "8.190077049719049",
         "9.425451751593128",
         "4.584967478670572",
         "7.996317231796746",
         "4.127134385045092"
        ]
       ],
       "shape": {
        "columns": 6,
        "rows": 16
       }
      },
      "text/html": [
       "<div>\n",
       "<style scoped>\n",
       "    .dataframe tbody tr th:only-of-type {\n",
       "        vertical-align: middle;\n",
       "    }\n",
       "\n",
       "    .dataframe tbody tr th {\n",
       "        vertical-align: top;\n",
       "    }\n",
       "\n",
       "    .dataframe thead th {\n",
       "        text-align: right;\n",
       "    }\n",
       "</style>\n",
       "<table border=\"1\" class=\"dataframe\">\n",
       "  <thead>\n",
       "    <tr style=\"text-align: right;\">\n",
       "      <th></th>\n",
       "      <th>Fresh</th>\n",
       "      <th>Milk</th>\n",
       "      <th>Grocery</th>\n",
       "      <th>Frozen</th>\n",
       "      <th>Detergents_Paper</th>\n",
       "      <th>Delicatessen</th>\n",
       "    </tr>\n",
       "  </thead>\n",
       "  <tbody>\n",
       "    <tr>\n",
       "      <th>65</th>\n",
       "      <td>4.442651</td>\n",
       "      <td>9.950323</td>\n",
       "      <td>10.732651</td>\n",
       "      <td>3.583519</td>\n",
       "      <td>10.095388</td>\n",
       "      <td>7.260523</td>\n",
       "    </tr>\n",
       "    <tr>\n",
       "      <th>66</th>\n",
       "      <td>2.197225</td>\n",
       "      <td>7.335634</td>\n",
       "      <td>8.911530</td>\n",
       "      <td>5.164786</td>\n",
       "      <td>8.151333</td>\n",
       "      <td>3.295837</td>\n",
       "    </tr>\n",
       "    <tr>\n",
       "      <th>81</th>\n",
       "      <td>5.389072</td>\n",
       "      <td>9.163249</td>\n",
       "      <td>9.575192</td>\n",
       "      <td>5.645447</td>\n",
       "      <td>8.964184</td>\n",
       "      <td>5.049856</td>\n",
       "    </tr>\n",
       "    <tr>\n",
       "      <th>95</th>\n",
       "      <td>1.098612</td>\n",
       "      <td>7.979339</td>\n",
       "      <td>8.740657</td>\n",
       "      <td>6.086775</td>\n",
       "      <td>5.407172</td>\n",
       "      <td>6.563856</td>\n",
       "    </tr>\n",
       "    <tr>\n",
       "      <th>96</th>\n",
       "      <td>3.135494</td>\n",
       "      <td>7.869402</td>\n",
       "      <td>9.001839</td>\n",
       "      <td>4.976734</td>\n",
       "      <td>8.262043</td>\n",
       "      <td>5.379897</td>\n",
       "    </tr>\n",
       "    <tr>\n",
       "      <th>128</th>\n",
       "      <td>4.941642</td>\n",
       "      <td>9.087834</td>\n",
       "      <td>8.248791</td>\n",
       "      <td>4.955827</td>\n",
       "      <td>6.967909</td>\n",
       "      <td>1.098612</td>\n",
       "    </tr>\n",
       "    <tr>\n",
       "      <th>171</th>\n",
       "      <td>5.298317</td>\n",
       "      <td>10.160530</td>\n",
       "      <td>9.894245</td>\n",
       "      <td>6.478510</td>\n",
       "      <td>9.079434</td>\n",
       "      <td>8.740337</td>\n",
       "    </tr>\n",
       "    <tr>\n",
       "      <th>193</th>\n",
       "      <td>5.192957</td>\n",
       "      <td>8.156223</td>\n",
       "      <td>9.917982</td>\n",
       "      <td>6.865891</td>\n",
       "      <td>8.633731</td>\n",
       "      <td>6.501290</td>\n",
       "    </tr>\n",
       "    <tr>\n",
       "      <th>218</th>\n",
       "      <td>2.890372</td>\n",
       "      <td>8.923191</td>\n",
       "      <td>9.629380</td>\n",
       "      <td>7.158514</td>\n",
       "      <td>8.475746</td>\n",
       "      <td>8.759669</td>\n",
       "    </tr>\n",
       "    <tr>\n",
       "      <th>304</th>\n",
       "      <td>5.081404</td>\n",
       "      <td>8.917311</td>\n",
       "      <td>10.117510</td>\n",
       "      <td>6.424869</td>\n",
       "      <td>9.374413</td>\n",
       "      <td>7.787382</td>\n",
       "    </tr>\n",
       "    <tr>\n",
       "      <th>305</th>\n",
       "      <td>5.493061</td>\n",
       "      <td>9.468001</td>\n",
       "      <td>9.088399</td>\n",
       "      <td>6.683361</td>\n",
       "      <td>8.271037</td>\n",
       "      <td>5.351858</td>\n",
       "    </tr>\n",
       "    <tr>\n",
       "      <th>338</th>\n",
       "      <td>1.098612</td>\n",
       "      <td>5.808142</td>\n",
       "      <td>8.856661</td>\n",
       "      <td>9.655090</td>\n",
       "      <td>2.708050</td>\n",
       "      <td>6.309918</td>\n",
       "    </tr>\n",
       "    <tr>\n",
       "      <th>353</th>\n",
       "      <td>4.762174</td>\n",
       "      <td>8.742574</td>\n",
       "      <td>9.961898</td>\n",
       "      <td>5.429346</td>\n",
       "      <td>9.069007</td>\n",
       "      <td>7.013016</td>\n",
       "    </tr>\n",
       "    <tr>\n",
       "      <th>355</th>\n",
       "      <td>5.247024</td>\n",
       "      <td>6.588926</td>\n",
       "      <td>7.606885</td>\n",
       "      <td>5.501258</td>\n",
       "      <td>5.214936</td>\n",
       "      <td>4.844187</td>\n",
       "    </tr>\n",
       "    <tr>\n",
       "      <th>357</th>\n",
       "      <td>3.610918</td>\n",
       "      <td>7.150701</td>\n",
       "      <td>10.011086</td>\n",
       "      <td>4.919981</td>\n",
       "      <td>8.816853</td>\n",
       "      <td>4.700480</td>\n",
       "    </tr>\n",
       "    <tr>\n",
       "      <th>412</th>\n",
       "      <td>4.574711</td>\n",
       "      <td>8.190077</td>\n",
       "      <td>9.425452</td>\n",
       "      <td>4.584967</td>\n",
       "      <td>7.996317</td>\n",
       "      <td>4.127134</td>\n",
       "    </tr>\n",
       "  </tbody>\n",
       "</table>\n",
       "</div>"
      ],
      "text/plain": [
       "        Fresh       Milk    Grocery    Frozen  Detergents_Paper  Delicatessen\n",
       "65   4.442651   9.950323  10.732651  3.583519         10.095388      7.260523\n",
       "66   2.197225   7.335634   8.911530  5.164786          8.151333      3.295837\n",
       "81   5.389072   9.163249   9.575192  5.645447          8.964184      5.049856\n",
       "95   1.098612   7.979339   8.740657  6.086775          5.407172      6.563856\n",
       "96   3.135494   7.869402   9.001839  4.976734          8.262043      5.379897\n",
       "128  4.941642   9.087834   8.248791  4.955827          6.967909      1.098612\n",
       "171  5.298317  10.160530   9.894245  6.478510          9.079434      8.740337\n",
       "193  5.192957   8.156223   9.917982  6.865891          8.633731      6.501290\n",
       "218  2.890372   8.923191   9.629380  7.158514          8.475746      8.759669\n",
       "304  5.081404   8.917311  10.117510  6.424869          9.374413      7.787382\n",
       "305  5.493061   9.468001   9.088399  6.683361          8.271037      5.351858\n",
       "338  1.098612   5.808142   8.856661  9.655090          2.708050      6.309918\n",
       "353  4.762174   8.742574   9.961898  5.429346          9.069007      7.013016\n",
       "355  5.247024   6.588926   7.606885  5.501258          5.214936      4.844187\n",
       "357  3.610918   7.150701  10.011086  4.919981          8.816853      4.700480\n",
       "412  4.574711   8.190077   9.425452  4.584967          7.996317      4.127134"
      ]
     },
     "metadata": {},
     "output_type": "display_data"
    },
    {
     "name": "stdout",
     "output_type": "stream",
     "text": [
      "Data points considered outliers for the feature 'Milk':\n"
     ]
    },
    {
     "data": {
      "application/vnd.microsoft.datawrangler.viewer.v0+json": {
       "columns": [
        {
         "name": "index",
         "rawType": "int64",
         "type": "integer"
        },
        {
         "name": "Fresh",
         "rawType": "float64",
         "type": "float"
        },
        {
         "name": "Milk",
         "rawType": "float64",
         "type": "float"
        },
        {
         "name": "Grocery",
         "rawType": "float64",
         "type": "float"
        },
        {
         "name": "Frozen",
         "rawType": "float64",
         "type": "float"
        },
        {
         "name": "Detergents_Paper",
         "rawType": "float64",
         "type": "float"
        },
        {
         "name": "Delicatessen",
         "rawType": "float64",
         "type": "float"
        }
       ],
       "ref": "d0c1c015-9fd4-4e5b-ba04-e4488729a66f",
       "rows": [
        [
         "86",
         "10.039983297124666",
         "11.205013473946352",
         "10.37704735110963",
         "6.894670039433482",
         "9.906981441790384",
         "6.805722553416985"
        ],
        [
         "98",
         "6.220590170099739",
         "4.718498871295094",
         "6.656726524178391",
         "6.796823718274855",
         "4.02535169073515",
         "4.882801922586371"
        ],
        [
         "154",
         "6.432940092739179",
         "4.007333185232471",
         "4.919980925828125",
         "4.31748811353631",
         "1.9459101490553132",
         "2.0794415416798357"
        ],
        [
         "356",
         "10.029503273118987",
         "4.897839799950911",
         "5.384495062789089",
         "8.057377488557991",
         "2.1972245773362196",
         "6.306275286948016"
        ]
       ],
       "shape": {
        "columns": 6,
        "rows": 4
       }
      },
      "text/html": [
       "<div>\n",
       "<style scoped>\n",
       "    .dataframe tbody tr th:only-of-type {\n",
       "        vertical-align: middle;\n",
       "    }\n",
       "\n",
       "    .dataframe tbody tr th {\n",
       "        vertical-align: top;\n",
       "    }\n",
       "\n",
       "    .dataframe thead th {\n",
       "        text-align: right;\n",
       "    }\n",
       "</style>\n",
       "<table border=\"1\" class=\"dataframe\">\n",
       "  <thead>\n",
       "    <tr style=\"text-align: right;\">\n",
       "      <th></th>\n",
       "      <th>Fresh</th>\n",
       "      <th>Milk</th>\n",
       "      <th>Grocery</th>\n",
       "      <th>Frozen</th>\n",
       "      <th>Detergents_Paper</th>\n",
       "      <th>Delicatessen</th>\n",
       "    </tr>\n",
       "  </thead>\n",
       "  <tbody>\n",
       "    <tr>\n",
       "      <th>86</th>\n",
       "      <td>10.039983</td>\n",
       "      <td>11.205013</td>\n",
       "      <td>10.377047</td>\n",
       "      <td>6.894670</td>\n",
       "      <td>9.906981</td>\n",
       "      <td>6.805723</td>\n",
       "    </tr>\n",
       "    <tr>\n",
       "      <th>98</th>\n",
       "      <td>6.220590</td>\n",
       "      <td>4.718499</td>\n",
       "      <td>6.656727</td>\n",
       "      <td>6.796824</td>\n",
       "      <td>4.025352</td>\n",
       "      <td>4.882802</td>\n",
       "    </tr>\n",
       "    <tr>\n",
       "      <th>154</th>\n",
       "      <td>6.432940</td>\n",
       "      <td>4.007333</td>\n",
       "      <td>4.919981</td>\n",
       "      <td>4.317488</td>\n",
       "      <td>1.945910</td>\n",
       "      <td>2.079442</td>\n",
       "    </tr>\n",
       "    <tr>\n",
       "      <th>356</th>\n",
       "      <td>10.029503</td>\n",
       "      <td>4.897840</td>\n",
       "      <td>5.384495</td>\n",
       "      <td>8.057377</td>\n",
       "      <td>2.197225</td>\n",
       "      <td>6.306275</td>\n",
       "    </tr>\n",
       "  </tbody>\n",
       "</table>\n",
       "</div>"
      ],
      "text/plain": [
       "         Fresh       Milk    Grocery    Frozen  Detergents_Paper  Delicatessen\n",
       "86   10.039983  11.205013  10.377047  6.894670          9.906981      6.805723\n",
       "98    6.220590   4.718499   6.656727  6.796824          4.025352      4.882802\n",
       "154   6.432940   4.007333   4.919981  4.317488          1.945910      2.079442\n",
       "356  10.029503   4.897840   5.384495  8.057377          2.197225      6.306275"
      ]
     },
     "metadata": {},
     "output_type": "display_data"
    },
    {
     "name": "stdout",
     "output_type": "stream",
     "text": [
      "Data points considered outliers for the feature 'Grocery':\n"
     ]
    },
    {
     "data": {
      "application/vnd.microsoft.datawrangler.viewer.v0+json": {
       "columns": [
        {
         "name": "index",
         "rawType": "int64",
         "type": "integer"
        },
        {
         "name": "Fresh",
         "rawType": "float64",
         "type": "float"
        },
        {
         "name": "Milk",
         "rawType": "float64",
         "type": "float"
        },
        {
         "name": "Grocery",
         "rawType": "float64",
         "type": "float"
        },
        {
         "name": "Frozen",
         "rawType": "float64",
         "type": "float"
        },
        {
         "name": "Detergents_Paper",
         "rawType": "float64",
         "type": "float"
        },
        {
         "name": "Delicatessen",
         "rawType": "float64",
         "type": "float"
        }
       ],
       "ref": "a38bc0b1-1880-42ce-a433-41951789fe94",
       "rows": [
        [
         "75",
         "9.923192135810464",
         "7.036148493750536",
         "1.0986122886681098",
         "8.390949464841986",
         "1.0986122886681098",
         "6.882437470997847"
        ],
        [
         "154",
         "6.432940092739179",
         "4.007333185232471",
         "4.919980925828125",
         "4.31748811353631",
         "1.9459101490553132",
         "2.0794415416798357"
        ]
       ],
       "shape": {
        "columns": 6,
        "rows": 2
       }
      },
      "text/html": [
       "<div>\n",
       "<style scoped>\n",
       "    .dataframe tbody tr th:only-of-type {\n",
       "        vertical-align: middle;\n",
       "    }\n",
       "\n",
       "    .dataframe tbody tr th {\n",
       "        vertical-align: top;\n",
       "    }\n",
       "\n",
       "    .dataframe thead th {\n",
       "        text-align: right;\n",
       "    }\n",
       "</style>\n",
       "<table border=\"1\" class=\"dataframe\">\n",
       "  <thead>\n",
       "    <tr style=\"text-align: right;\">\n",
       "      <th></th>\n",
       "      <th>Fresh</th>\n",
       "      <th>Milk</th>\n",
       "      <th>Grocery</th>\n",
       "      <th>Frozen</th>\n",
       "      <th>Detergents_Paper</th>\n",
       "      <th>Delicatessen</th>\n",
       "    </tr>\n",
       "  </thead>\n",
       "  <tbody>\n",
       "    <tr>\n",
       "      <th>75</th>\n",
       "      <td>9.923192</td>\n",
       "      <td>7.036148</td>\n",
       "      <td>1.098612</td>\n",
       "      <td>8.390949</td>\n",
       "      <td>1.098612</td>\n",
       "      <td>6.882437</td>\n",
       "    </tr>\n",
       "    <tr>\n",
       "      <th>154</th>\n",
       "      <td>6.432940</td>\n",
       "      <td>4.007333</td>\n",
       "      <td>4.919981</td>\n",
       "      <td>4.317488</td>\n",
       "      <td>1.945910</td>\n",
       "      <td>2.079442</td>\n",
       "    </tr>\n",
       "  </tbody>\n",
       "</table>\n",
       "</div>"
      ],
      "text/plain": [
       "        Fresh      Milk   Grocery    Frozen  Detergents_Paper  Delicatessen\n",
       "75   9.923192  7.036148  1.098612  8.390949          1.098612      6.882437\n",
       "154  6.432940  4.007333  4.919981  4.317488          1.945910      2.079442"
      ]
     },
     "metadata": {},
     "output_type": "display_data"
    },
    {
     "name": "stdout",
     "output_type": "stream",
     "text": [
      "Data points considered outliers for the feature 'Frozen':\n"
     ]
    },
    {
     "data": {
      "application/vnd.microsoft.datawrangler.viewer.v0+json": {
       "columns": [
        {
         "name": "index",
         "rawType": "int64",
         "type": "integer"
        },
        {
         "name": "Fresh",
         "rawType": "float64",
         "type": "float"
        },
        {
         "name": "Milk",
         "rawType": "float64",
         "type": "float"
        },
        {
         "name": "Grocery",
         "rawType": "float64",
         "type": "float"
        },
        {
         "name": "Frozen",
         "rawType": "float64",
         "type": "float"
        },
        {
         "name": "Detergents_Paper",
         "rawType": "float64",
         "type": "float"
        },
        {
         "name": "Delicatessen",
         "rawType": "float64",
         "type": "float"
        }
       ],
       "ref": "86db9715-253e-45ec-b539-70480e1c7b6d",
       "rows": [
        [
         "38",
         "8.431853144249223",
         "9.663261421240643",
         "9.723702775394143",
         "3.4965075614664802",
         "8.847359875474174",
         "6.07073772800249"
        ],
        [
         "57",
         "8.597297435657898",
         "9.203617826215355",
         "9.257891673834406",
         "3.6375861597263857",
         "8.932212512329214",
         "7.156176637480615"
        ],
        [
         "65",
         "4.442651256490317",
         "9.95032342737316",
         "10.732650537013516",
         "3.58351893845611",
         "10.095388084110406",
         "7.260522598089852"
        ],
        [
         "145",
         "10.000568890186692",
         "9.034080406560824",
         "10.457142754277474",
         "3.7376696182833684",
         "9.4407375520017",
         "8.39615486303918"
        ],
        [
         "175",
         "7.759187438507795",
         "8.967631665167133",
         "9.38210641483062",
         "3.9512437185814275",
         "8.341886969516187",
         "7.436617265234227"
        ],
        [
         "264",
         "6.9782137426306985",
         "9.17771386914909",
         "9.645040605352682",
         "4.110873864173311",
         "8.696175846944678",
         "7.142827401161621"
        ],
        [
         "325",
         "10.395650099471604",
         "9.728181330636078",
         "9.519735011333614",
         "11.01647929289894",
         "7.148345743900068",
         "8.632127729508337"
        ],
        [
         "420",
         "8.40200678160712",
         "8.569026340056254",
         "9.490015474026047",
         "3.2188758248682006",
         "8.827321452697849",
         "7.239214973779806"
        ],
        [
         "429",
         "9.060331104649475",
         "7.4673710669175595",
         "8.183118079394745",
         "3.8501476017100584",
         "4.430816798843313",
         "7.824445930877619"
        ],
        [
         "439",
         "7.932721027481948",
         "7.437206366871292",
         "7.828038032125829",
         "4.174387269895637",
         "6.1675164908883415",
         "3.9512437185814275"
        ]
       ],
       "shape": {
        "columns": 6,
        "rows": 10
       }
      },
      "text/html": [
       "<div>\n",
       "<style scoped>\n",
       "    .dataframe tbody tr th:only-of-type {\n",
       "        vertical-align: middle;\n",
       "    }\n",
       "\n",
       "    .dataframe tbody tr th {\n",
       "        vertical-align: top;\n",
       "    }\n",
       "\n",
       "    .dataframe thead th {\n",
       "        text-align: right;\n",
       "    }\n",
       "</style>\n",
       "<table border=\"1\" class=\"dataframe\">\n",
       "  <thead>\n",
       "    <tr style=\"text-align: right;\">\n",
       "      <th></th>\n",
       "      <th>Fresh</th>\n",
       "      <th>Milk</th>\n",
       "      <th>Grocery</th>\n",
       "      <th>Frozen</th>\n",
       "      <th>Detergents_Paper</th>\n",
       "      <th>Delicatessen</th>\n",
       "    </tr>\n",
       "  </thead>\n",
       "  <tbody>\n",
       "    <tr>\n",
       "      <th>38</th>\n",
       "      <td>8.431853</td>\n",
       "      <td>9.663261</td>\n",
       "      <td>9.723703</td>\n",
       "      <td>3.496508</td>\n",
       "      <td>8.847360</td>\n",
       "      <td>6.070738</td>\n",
       "    </tr>\n",
       "    <tr>\n",
       "      <th>57</th>\n",
       "      <td>8.597297</td>\n",
       "      <td>9.203618</td>\n",
       "      <td>9.257892</td>\n",
       "      <td>3.637586</td>\n",
       "      <td>8.932213</td>\n",
       "      <td>7.156177</td>\n",
       "    </tr>\n",
       "    <tr>\n",
       "      <th>65</th>\n",
       "      <td>4.442651</td>\n",
       "      <td>9.950323</td>\n",
       "      <td>10.732651</td>\n",
       "      <td>3.583519</td>\n",
       "      <td>10.095388</td>\n",
       "      <td>7.260523</td>\n",
       "    </tr>\n",
       "    <tr>\n",
       "      <th>145</th>\n",
       "      <td>10.000569</td>\n",
       "      <td>9.034080</td>\n",
       "      <td>10.457143</td>\n",
       "      <td>3.737670</td>\n",
       "      <td>9.440738</td>\n",
       "      <td>8.396155</td>\n",
       "    </tr>\n",
       "    <tr>\n",
       "      <th>175</th>\n",
       "      <td>7.759187</td>\n",
       "      <td>8.967632</td>\n",
       "      <td>9.382106</td>\n",
       "      <td>3.951244</td>\n",
       "      <td>8.341887</td>\n",
       "      <td>7.436617</td>\n",
       "    </tr>\n",
       "    <tr>\n",
       "      <th>264</th>\n",
       "      <td>6.978214</td>\n",
       "      <td>9.177714</td>\n",
       "      <td>9.645041</td>\n",
       "      <td>4.110874</td>\n",
       "      <td>8.696176</td>\n",
       "      <td>7.142827</td>\n",
       "    </tr>\n",
       "    <tr>\n",
       "      <th>325</th>\n",
       "      <td>10.395650</td>\n",
       "      <td>9.728181</td>\n",
       "      <td>9.519735</td>\n",
       "      <td>11.016479</td>\n",
       "      <td>7.148346</td>\n",
       "      <td>8.632128</td>\n",
       "    </tr>\n",
       "    <tr>\n",
       "      <th>420</th>\n",
       "      <td>8.402007</td>\n",
       "      <td>8.569026</td>\n",
       "      <td>9.490015</td>\n",
       "      <td>3.218876</td>\n",
       "      <td>8.827321</td>\n",
       "      <td>7.239215</td>\n",
       "    </tr>\n",
       "    <tr>\n",
       "      <th>429</th>\n",
       "      <td>9.060331</td>\n",
       "      <td>7.467371</td>\n",
       "      <td>8.183118</td>\n",
       "      <td>3.850148</td>\n",
       "      <td>4.430817</td>\n",
       "      <td>7.824446</td>\n",
       "    </tr>\n",
       "    <tr>\n",
       "      <th>439</th>\n",
       "      <td>7.932721</td>\n",
       "      <td>7.437206</td>\n",
       "      <td>7.828038</td>\n",
       "      <td>4.174387</td>\n",
       "      <td>6.167516</td>\n",
       "      <td>3.951244</td>\n",
       "    </tr>\n",
       "  </tbody>\n",
       "</table>\n",
       "</div>"
      ],
      "text/plain": [
       "         Fresh      Milk    Grocery     Frozen  Detergents_Paper  Delicatessen\n",
       "38    8.431853  9.663261   9.723703   3.496508          8.847360      6.070738\n",
       "57    8.597297  9.203618   9.257892   3.637586          8.932213      7.156177\n",
       "65    4.442651  9.950323  10.732651   3.583519         10.095388      7.260523\n",
       "145  10.000569  9.034080  10.457143   3.737670          9.440738      8.396155\n",
       "175   7.759187  8.967632   9.382106   3.951244          8.341887      7.436617\n",
       "264   6.978214  9.177714   9.645041   4.110874          8.696176      7.142827\n",
       "325  10.395650  9.728181   9.519735  11.016479          7.148346      8.632128\n",
       "420   8.402007  8.569026   9.490015   3.218876          8.827321      7.239215\n",
       "429   9.060331  7.467371   8.183118   3.850148          4.430817      7.824446\n",
       "439   7.932721  7.437206   7.828038   4.174387          6.167516      3.951244"
      ]
     },
     "metadata": {},
     "output_type": "display_data"
    },
    {
     "name": "stdout",
     "output_type": "stream",
     "text": [
      "Data points considered outliers for the feature 'Detergents_Paper':\n"
     ]
    },
    {
     "data": {
      "application/vnd.microsoft.datawrangler.viewer.v0+json": {
       "columns": [
        {
         "name": "index",
         "rawType": "int64",
         "type": "integer"
        },
        {
         "name": "Fresh",
         "rawType": "float64",
         "type": "float"
        },
        {
         "name": "Milk",
         "rawType": "float64",
         "type": "float"
        },
        {
         "name": "Grocery",
         "rawType": "float64",
         "type": "float"
        },
        {
         "name": "Frozen",
         "rawType": "float64",
         "type": "float"
        },
        {
         "name": "Detergents_Paper",
         "rawType": "float64",
         "type": "float"
        },
        {
         "name": "Delicatessen",
         "rawType": "float64",
         "type": "float"
        }
       ],
       "ref": "ef7d09f5-76a2-41a5-86fc-79d5a3d22da4",
       "rows": [
        [
         "75",
         "9.923192135810464",
         "7.036148493750536",
         "1.0986122886681098",
         "8.390949464841986",
         "1.0986122886681098",
         "6.882437470997847"
        ],
        [
         "161",
         "9.428189934829282",
         "6.29156913955832",
         "5.645446897643238",
         "6.9957661563048505",
         "1.0986122886681098",
         "7.711101251840158"
        ]
       ],
       "shape": {
        "columns": 6,
        "rows": 2
       }
      },
      "text/html": [
       "<div>\n",
       "<style scoped>\n",
       "    .dataframe tbody tr th:only-of-type {\n",
       "        vertical-align: middle;\n",
       "    }\n",
       "\n",
       "    .dataframe tbody tr th {\n",
       "        vertical-align: top;\n",
       "    }\n",
       "\n",
       "    .dataframe thead th {\n",
       "        text-align: right;\n",
       "    }\n",
       "</style>\n",
       "<table border=\"1\" class=\"dataframe\">\n",
       "  <thead>\n",
       "    <tr style=\"text-align: right;\">\n",
       "      <th></th>\n",
       "      <th>Fresh</th>\n",
       "      <th>Milk</th>\n",
       "      <th>Grocery</th>\n",
       "      <th>Frozen</th>\n",
       "      <th>Detergents_Paper</th>\n",
       "      <th>Delicatessen</th>\n",
       "    </tr>\n",
       "  </thead>\n",
       "  <tbody>\n",
       "    <tr>\n",
       "      <th>75</th>\n",
       "      <td>9.923192</td>\n",
       "      <td>7.036148</td>\n",
       "      <td>1.098612</td>\n",
       "      <td>8.390949</td>\n",
       "      <td>1.098612</td>\n",
       "      <td>6.882437</td>\n",
       "    </tr>\n",
       "    <tr>\n",
       "      <th>161</th>\n",
       "      <td>9.428190</td>\n",
       "      <td>6.291569</td>\n",
       "      <td>5.645447</td>\n",
       "      <td>6.995766</td>\n",
       "      <td>1.098612</td>\n",
       "      <td>7.711101</td>\n",
       "    </tr>\n",
       "  </tbody>\n",
       "</table>\n",
       "</div>"
      ],
      "text/plain": [
       "        Fresh      Milk   Grocery    Frozen  Detergents_Paper  Delicatessen\n",
       "75   9.923192  7.036148  1.098612  8.390949          1.098612      6.882437\n",
       "161  9.428190  6.291569  5.645447  6.995766          1.098612      7.711101"
      ]
     },
     "metadata": {},
     "output_type": "display_data"
    },
    {
     "name": "stdout",
     "output_type": "stream",
     "text": [
      "Data points considered outliers for the feature 'Delicatessen':\n"
     ]
    },
    {
     "data": {
      "application/vnd.microsoft.datawrangler.viewer.v0+json": {
       "columns": [
        {
         "name": "index",
         "rawType": "int64",
         "type": "integer"
        },
        {
         "name": "Fresh",
         "rawType": "float64",
         "type": "float"
        },
        {
         "name": "Milk",
         "rawType": "float64",
         "type": "float"
        },
        {
         "name": "Grocery",
         "rawType": "float64",
         "type": "float"
        },
        {
         "name": "Frozen",
         "rawType": "float64",
         "type": "float"
        },
        {
         "name": "Detergents_Paper",
         "rawType": "float64",
         "type": "float"
        },
        {
         "name": "Delicatessen",
         "rawType": "float64",
         "type": "float"
        }
       ],
       "ref": "5d621c98-c607-4100-be01-9c638adf0901",
       "rows": [
        [
         "66",
         "2.1972245773362196",
         "7.335633981927201",
         "8.911529941736559",
         "5.1647859739235145",
         "8.151333337900432",
         "3.295836866004329"
        ],
        [
         "109",
         "7.2485040723706105",
         "9.72489901933128",
         "10.274568233782462",
         "6.511745329644728",
         "6.728628613084702",
         "1.0986122886681098"
        ],
        [
         "128",
         "4.941642422609304",
         "9.087833697483386",
         "8.248790733696413",
         "4.955827057601261",
         "6.967909201801884",
         "1.0986122886681098"
        ],
        [
         "137",
         "8.034955024502159",
         "8.997147151515142",
         "9.021839764105513",
         "6.493753839851686",
         "6.580639137284949",
         "3.58351893845611"
        ],
        [
         "142",
         "10.519645691567938",
         "8.87514731685335",
         "9.018332049592685",
         "8.00469951054955",
         "2.995732273553991",
         "1.0986122886681098"
        ],
        [
         "154",
         "6.432940092739179",
         "4.007333185232471",
         "4.919980925828125",
         "4.31748811353631",
         "1.9459101490553132",
         "2.0794415416798357"
        ],
        [
         "183",
         "10.51452948317723",
         "10.690807903113322",
         "9.911951630948257",
         "10.50599861283663",
         "5.476463551931511",
         "10.777768084253218"
        ],
        [
         "184",
         "5.7899601708972535",
         "6.822197390620491",
         "8.457443187010464",
         "4.30406509320417",
         "5.811140992976701",
         "2.3978952727983707"
        ],
        [
         "187",
         "7.798933310041217",
         "8.98744678941718",
         "9.19207456316929",
         "8.743372131273969",
         "8.148734808937169",
         "1.0986122886681098"
        ],
        [
         "203",
         "6.368187186350492",
         "6.529418838262226",
         "7.703459047867175",
         "6.150602768446279",
         "6.860663671448287",
         "2.8903717578961645"
        ],
        [
         "233",
         "6.871091294610546",
         "8.51398806046729",
         "8.106514516255185",
         "6.842683282238422",
         "6.013715156042802",
         "1.9459101490553132"
        ],
        [
         "285",
         "10.602964656790943",
         "6.461468176353717",
         "8.1886891244442",
         "6.948897222313312",
         "6.077642243349034",
         "2.8903717578961645"
        ],
        [
         "289",
         "10.663966225256358",
         "5.655991810819852",
         "6.154858094016418",
         "7.23561914106675",
         "3.4657359027997265",
         "3.091042453358316"
        ],
        [
         "343",
         "7.4318919168078",
         "8.848509300888079",
         "10.177932398205888",
         "7.283448228756631",
         "9.646593300236665",
         "3.6109179126442243"
        ]
       ],
       "shape": {
        "columns": 6,
        "rows": 14
       }
      },
      "text/html": [
       "<div>\n",
       "<style scoped>\n",
       "    .dataframe tbody tr th:only-of-type {\n",
       "        vertical-align: middle;\n",
       "    }\n",
       "\n",
       "    .dataframe tbody tr th {\n",
       "        vertical-align: top;\n",
       "    }\n",
       "\n",
       "    .dataframe thead th {\n",
       "        text-align: right;\n",
       "    }\n",
       "</style>\n",
       "<table border=\"1\" class=\"dataframe\">\n",
       "  <thead>\n",
       "    <tr style=\"text-align: right;\">\n",
       "      <th></th>\n",
       "      <th>Fresh</th>\n",
       "      <th>Milk</th>\n",
       "      <th>Grocery</th>\n",
       "      <th>Frozen</th>\n",
       "      <th>Detergents_Paper</th>\n",
       "      <th>Delicatessen</th>\n",
       "    </tr>\n",
       "  </thead>\n",
       "  <tbody>\n",
       "    <tr>\n",
       "      <th>66</th>\n",
       "      <td>2.197225</td>\n",
       "      <td>7.335634</td>\n",
       "      <td>8.911530</td>\n",
       "      <td>5.164786</td>\n",
       "      <td>8.151333</td>\n",
       "      <td>3.295837</td>\n",
       "    </tr>\n",
       "    <tr>\n",
       "      <th>109</th>\n",
       "      <td>7.248504</td>\n",
       "      <td>9.724899</td>\n",
       "      <td>10.274568</td>\n",
       "      <td>6.511745</td>\n",
       "      <td>6.728629</td>\n",
       "      <td>1.098612</td>\n",
       "    </tr>\n",
       "    <tr>\n",
       "      <th>128</th>\n",
       "      <td>4.941642</td>\n",
       "      <td>9.087834</td>\n",
       "      <td>8.248791</td>\n",
       "      <td>4.955827</td>\n",
       "      <td>6.967909</td>\n",
       "      <td>1.098612</td>\n",
       "    </tr>\n",
       "    <tr>\n",
       "      <th>137</th>\n",
       "      <td>8.034955</td>\n",
       "      <td>8.997147</td>\n",
       "      <td>9.021840</td>\n",
       "      <td>6.493754</td>\n",
       "      <td>6.580639</td>\n",
       "      <td>3.583519</td>\n",
       "    </tr>\n",
       "    <tr>\n",
       "      <th>142</th>\n",
       "      <td>10.519646</td>\n",
       "      <td>8.875147</td>\n",
       "      <td>9.018332</td>\n",
       "      <td>8.004700</td>\n",
       "      <td>2.995732</td>\n",
       "      <td>1.098612</td>\n",
       "    </tr>\n",
       "    <tr>\n",
       "      <th>154</th>\n",
       "      <td>6.432940</td>\n",
       "      <td>4.007333</td>\n",
       "      <td>4.919981</td>\n",
       "      <td>4.317488</td>\n",
       "      <td>1.945910</td>\n",
       "      <td>2.079442</td>\n",
       "    </tr>\n",
       "    <tr>\n",
       "      <th>183</th>\n",
       "      <td>10.514529</td>\n",
       "      <td>10.690808</td>\n",
       "      <td>9.911952</td>\n",
       "      <td>10.505999</td>\n",
       "      <td>5.476464</td>\n",
       "      <td>10.777768</td>\n",
       "    </tr>\n",
       "    <tr>\n",
       "      <th>184</th>\n",
       "      <td>5.789960</td>\n",
       "      <td>6.822197</td>\n",
       "      <td>8.457443</td>\n",
       "      <td>4.304065</td>\n",
       "      <td>5.811141</td>\n",
       "      <td>2.397895</td>\n",
       "    </tr>\n",
       "    <tr>\n",
       "      <th>187</th>\n",
       "      <td>7.798933</td>\n",
       "      <td>8.987447</td>\n",
       "      <td>9.192075</td>\n",
       "      <td>8.743372</td>\n",
       "      <td>8.148735</td>\n",
       "      <td>1.098612</td>\n",
       "    </tr>\n",
       "    <tr>\n",
       "      <th>203</th>\n",
       "      <td>6.368187</td>\n",
       "      <td>6.529419</td>\n",
       "      <td>7.703459</td>\n",
       "      <td>6.150603</td>\n",
       "      <td>6.860664</td>\n",
       "      <td>2.890372</td>\n",
       "    </tr>\n",
       "    <tr>\n",
       "      <th>233</th>\n",
       "      <td>6.871091</td>\n",
       "      <td>8.513988</td>\n",
       "      <td>8.106515</td>\n",
       "      <td>6.842683</td>\n",
       "      <td>6.013715</td>\n",
       "      <td>1.945910</td>\n",
       "    </tr>\n",
       "    <tr>\n",
       "      <th>285</th>\n",
       "      <td>10.602965</td>\n",
       "      <td>6.461468</td>\n",
       "      <td>8.188689</td>\n",
       "      <td>6.948897</td>\n",
       "      <td>6.077642</td>\n",
       "      <td>2.890372</td>\n",
       "    </tr>\n",
       "    <tr>\n",
       "      <th>289</th>\n",
       "      <td>10.663966</td>\n",
       "      <td>5.655992</td>\n",
       "      <td>6.154858</td>\n",
       "      <td>7.235619</td>\n",
       "      <td>3.465736</td>\n",
       "      <td>3.091042</td>\n",
       "    </tr>\n",
       "    <tr>\n",
       "      <th>343</th>\n",
       "      <td>7.431892</td>\n",
       "      <td>8.848509</td>\n",
       "      <td>10.177932</td>\n",
       "      <td>7.283448</td>\n",
       "      <td>9.646593</td>\n",
       "      <td>3.610918</td>\n",
       "    </tr>\n",
       "  </tbody>\n",
       "</table>\n",
       "</div>"
      ],
      "text/plain": [
       "         Fresh       Milk    Grocery     Frozen  Detergents_Paper  \\\n",
       "66    2.197225   7.335634   8.911530   5.164786          8.151333   \n",
       "109   7.248504   9.724899  10.274568   6.511745          6.728629   \n",
       "128   4.941642   9.087834   8.248791   4.955827          6.967909   \n",
       "137   8.034955   8.997147   9.021840   6.493754          6.580639   \n",
       "142  10.519646   8.875147   9.018332   8.004700          2.995732   \n",
       "154   6.432940   4.007333   4.919981   4.317488          1.945910   \n",
       "183  10.514529  10.690808   9.911952  10.505999          5.476464   \n",
       "184   5.789960   6.822197   8.457443   4.304065          5.811141   \n",
       "187   7.798933   8.987447   9.192075   8.743372          8.148735   \n",
       "203   6.368187   6.529419   7.703459   6.150603          6.860664   \n",
       "233   6.871091   8.513988   8.106515   6.842683          6.013715   \n",
       "285  10.602965   6.461468   8.188689   6.948897          6.077642   \n",
       "289  10.663966   5.655992   6.154858   7.235619          3.465736   \n",
       "343   7.431892   8.848509  10.177932   7.283448          9.646593   \n",
       "\n",
       "     Delicatessen  \n",
       "66       3.295837  \n",
       "109      1.098612  \n",
       "128      1.098612  \n",
       "137      3.583519  \n",
       "142      1.098612  \n",
       "154      2.079442  \n",
       "183     10.777768  \n",
       "184      2.397895  \n",
       "187      1.098612  \n",
       "203      2.890372  \n",
       "233      1.945910  \n",
       "285      2.890372  \n",
       "289      3.091042  \n",
       "343      3.610918  "
      ]
     },
     "metadata": {},
     "output_type": "display_data"
    }
   ],
   "source": [
    "for feature in df.keys():\n",
    "    # Calculate Q1 (25th percentile) and Q3 (75th percentile)\n",
    "    Q1 = df[feature].quantile(0.25)\n",
    "    Q3 = df[feature].quantile(0.75)\n",
    "\n",
    "    # Calculate the interquartile range (IQR)\n",
    "    step = 1.5 * (Q3 - Q1)\n",
    "    \n",
    "    # Display the outliers\n",
    "    print(\"Data points considered outliers for the feature '{}':\".format(feature))\n",
    "    display(df[~((df[feature] >= Q1 - step) & (df[feature] <= Q3 + step))])\n",
    "    \n",
    "# OPTIONAL: specify which rows to remove\n",
    "outliers = []\n",
    "\n",
    "# Remove the outliers\n",
    "good_data = df.drop(df.index[outliers]).reset_index(drop=True)\n"
   ]
  },
  {
   "cell_type": "code",
   "execution_count": 71,
   "id": "0dde3f88",
   "metadata": {},
   "outputs": [
    {
     "data": {
      "application/vnd.microsoft.datawrangler.viewer.v0+json": {
       "columns": [
        {
         "name": "index",
         "rawType": "int64",
         "type": "integer"
        },
        {
         "name": "Fresh",
         "rawType": "float64",
         "type": "float"
        },
        {
         "name": "Milk",
         "rawType": "float64",
         "type": "float"
        },
        {
         "name": "Grocery",
         "rawType": "float64",
         "type": "float"
        },
        {
         "name": "Frozen",
         "rawType": "float64",
         "type": "float"
        },
        {
         "name": "Detergents_Paper",
         "rawType": "float64",
         "type": "float"
        },
        {
         "name": "Delicatessen",
         "rawType": "float64",
         "type": "float"
        }
       ],
       "ref": "4ab6bd39-bec7-4209-a7da-274d680874e6",
       "rows": [
        [
         "0",
         "9.446913343602054",
         "9.175334762777368",
         "8.93075873555827",
         "5.365976015021851",
         "7.891330757661889",
         "7.198931240688173"
        ],
        [
         "1",
         "8.86177531100083",
         "9.191157552559408",
         "9.166179476190413",
         "7.474204806496124",
         "8.099554282376364",
         "7.4821189235521155"
        ],
        [
         "2",
         "8.756682421266532",
         "9.083415678402515",
         "8.946895523888447",
         "7.785305182539862",
         "8.165079258805068",
         "8.967504187316237"
        ],
        [
         "3",
         "9.49288426657184",
         "7.086737934510577",
         "8.347827345782498",
         "8.764678074116606",
         "6.2285110035911835",
         "7.488852955733459"
        ],
        [
         "4",
         "10.026368681911944",
         "8.596004371840527",
         "8.881558488638976",
         "8.272570608424903",
         "7.482681828154651",
         "8.553525120663627"
        ],
        [
         "5",
         "9.14984699154722",
         "9.019058793810718",
         "8.542080906924017",
         "6.501289670540389",
         "7.492760300922379",
         "7.280008252884188"
        ],
        [
         "6",
         "9.403107186631676",
         "8.070593539949519",
         "8.850087606689566",
         "6.173786103901937",
         "8.0519780789023",
         "6.300785794663244"
        ],
        [
         "7",
         "8.93313654381203",
         "8.508354242749032",
         "9.151227107483676",
         "7.419979923661835",
         "8.108021221376747",
         "7.850103545175582"
        ],
        [
         "8",
         "8.693328989123106",
         "8.201934351194222",
         "8.731013415269564",
         "6.052089168924417",
         "7.447751280047908",
         "6.620073206530356"
        ],
        [
         "9",
         "8.700514248543275",
         "9.314069557738659",
         "9.845911404398532",
         "7.055312843339752",
         "8.9126079636709",
         "7.6487397889562425"
        ],
        [
         "10",
         "8.121480374750751",
         "8.594709633844065",
         "9.470702633773001",
         "8.389359819906353",
         "8.695674048824253",
         "7.463936604468925"
        ],
        [
         "11",
         "9.483872808823522",
         "7.024649030453636",
         "8.416930769477844",
         "7.258412150595307",
         "6.3080984415095305",
         "6.208590026096629"
        ],
        [
         "12",
         "10.364513502749514",
         "9.418898064961974",
         "9.372204086867741",
         "5.659482215759621",
         "8.263848131368906",
         "7.983098940710892"
        ],
        [
         "13",
         "9.962558026113117",
         "8.733594061863055",
         "9.614604759507829",
         "8.037543185118697",
         "8.810907036099737",
         "6.400257445308821"
        ],
        [
         "14",
         "10.112653875919479",
         "9.155356063643422",
         "9.400216653174247",
         "5.683579767338681",
         "8.52872642722991",
         "7.681560362559537"
        ],
        [
         "15",
         "9.235325624670091",
         "7.01571242048723",
         "8.2482674474469",
         "5.983936280687191",
         "6.871091294610546",
         "6.021023349349527"
        ],
        [
         "16",
         "6.927557906278317",
         "9.084323531392696",
         "9.402694764470512",
         "4.897839799950911",
         "8.413608875159667",
         "6.984716320118266"
        ],
        [
         "17",
         "8.678631537293768",
         "8.72534492491121",
         "7.983781068977451",
         "6.732210706467206",
         "5.91350300563827",
         "8.4069317971587"
        ],
        [
         "18",
         "9.83097062169695",
         "8.752581469146884",
         "9.220191688026556",
         "7.6984827878809465",
         "7.925518979786926",
         "8.064950891749143"
        ],
        [
         "19",
         "8.959311617172437",
         "7.822044008185619",
         "9.155250405658222",
         "6.505784060128229",
         "7.831220214604293",
         "6.2166061010848646"
        ],
        [
         "20",
         "9.772581282688328",
         "8.41604600941128",
         "8.434246270595311",
         "6.97166860472579",
         "7.7226775164680035",
         "7.66105638236183"
        ],
        [
         "21",
         "8.624611588183507",
         "6.769641976852503",
         "7.605890001053122",
         "8.12651816878071",
         "5.926926025970411",
         "6.343880434126331"
        ],
        [
         "22",
         "10.350606309244405",
         "7.558516743045645",
         "8.404919948933452",
         "9.149315670138408",
         "7.7752758464868625",
         "8.374246182096304"
        ],
        [
         "23",
         "10.180096038519288",
         "10.502955722212086",
         "9.999660995984785",
         "8.54752839121231",
         "8.374938143835367",
         "9.71250862865099"
        ],
        [
         "24",
         "10.027782671807735",
         "9.187685681411377",
         "9.531843992903474",
         "7.977625098784593",
         "8.407824654360873",
         "8.661812881026181"
        ],
        [
         "25",
         "9.690603690159534",
         "8.349957272040324",
         "8.935245415029874",
         "5.303304908059076",
         "8.294799358992574",
         "4.04305126783455"
        ],
        [
         "26",
         "9.200087995511831",
         "6.8679744089702925",
         "7.95892649305011",
         "8.055475141757274",
         "5.488937726156687",
         "6.725033642166843"
        ],
        [
         "27",
         "9.566335084610051",
         "6.688354713946762",
         "8.021256180143997",
         "6.184148890937483",
         "4.605170185988092",
         "6.249975242259483"
        ],
        [
         "28",
         "8.321907968230423",
         "9.92739937258244",
         "10.16419660173648",
         "7.05444965813294",
         "9.05998249038762",
         "8.55756708555451"
        ],
        [
         "29",
         "10.67099981505138",
         "7.649692623711514",
         "7.866722285136729",
         "7.090076835776092",
         "7.009408932708637",
         "6.71295620067707"
        ],
        [
         "30",
         "9.842409703027538",
         "8.191463051326927",
         "9.31533081916712",
         "7.045776576879511",
         "7.665753431861699",
         "7.993957547573565"
        ],
        [
         "31",
         "7.867871490396322",
         "8.37539918579835",
         "8.049746290952191",
         "7.643961949002529",
         "6.709304340258298",
         "6.892641641172089"
        ],
        [
         "32",
         "9.98192897884269",
         "7.183870715062453",
         "7.9676267393338165",
         "5.583496308781699",
         "6.822197390620491",
         "6.003887067106539"
        ],
        [
         "33",
         "10.299878279368585",
         "8.47345026846832",
         "8.89918494333876",
         "8.720950028930258",
         "5.8888779583328805",
         "6.9874902470009905"
        ],
        [
         "34",
         "7.31455283232408",
         "7.590346945602565",
         "7.724004656676065",
         "6.052089168924417",
         "6.180016653652572",
         "5.978885764901122"
        ],
        [
         "35",
         "6.5337888379333435",
         "8.610865667278873",
         "9.313889247604742",
         "6.725033642166843",
         "8.352082671352637",
         "6.077642243349034"
        ],
        [
         "36",
         "10.307451534518025",
         "8.380685946761574",
         "8.59932602095476",
         "7.455298485683291",
         "6.759255270663693",
         "8.439447842791385"
        ],
        [
         "37",
         "9.626943224494804",
         "9.264449697623215",
         "9.431642228411022",
         "7.560080465021827",
         "8.780480107033297",
         "6.570882962339584"
        ],
        [
         "38",
         "8.431853144249223",
         "9.663261421240643",
         "9.723702775394143",
         "3.4965075614664802",
         "8.847359875474174",
         "6.07073772800249"
        ],
        [
         "39",
         "10.935942232273353",
         "6.318968113746434",
         "6.804614520062624",
         "9.21054035197885",
         "5.356586274672012",
         "7.977968093128549"
        ],
        [
         "40",
         "10.086850233838494",
         "8.37378460812088",
         "8.467372496432281",
         "9.160099155539436",
         "7.0431599159883405",
         "8.676587243566487"
        ],
        [
         "41",
         "9.86141477611422",
         "8.027802848370312",
         "8.6921543938039",
         "7.617267813628347",
         "7.853604813097837",
         "7.938088726896952"
        ],
        [
         "42",
         "9.291920358968605",
         "8.92996487470684",
         "9.613202094214232",
         "5.236441962829949",
         "8.839131752546109",
         "3.828641396489095"
        ],
        [
         "43",
         "6.4457198193855785",
         "9.314249835366695",
         "10.085725772524334",
         "6.668228248417403",
         "9.162095059348188",
         "4.276666119016055"
        ],
        [
         "44",
         "9.17678358844734",
         "8.857515151192198",
         "9.256364810287462",
         "6.293419278846481",
         "8.43771698991444",
         "4.174387269895637"
        ],
        [
         "45",
         "8.552753366814787",
         "10.000795735003125",
         "9.977249036098181",
         "7.461640392208575",
         "8.902863672196222",
         "8.514188682395938"
        ],
        [
         "46",
         "8.04012466444838",
         "9.551729074377214",
         "9.996750182995818",
         "7.419380582918692",
         "8.823500727991183",
         "7.280697195384741"
        ],
        [
         "47",
         "10.702480131179414",
         "10.901524156260564",
         "10.92541676143327",
         "8.9595686535445",
         "10.092908846445306",
         "8.774158291205957"
        ],
        [
         "48",
         "9.351753124926507",
         "8.72453251118548",
         "9.293577970546238",
         "6.369900982828227",
         "8.54110501146255",
         "7.297091005160418"
        ],
        [
         "49",
         "8.51057131510735",
         "9.971706791513272",
         "10.272323253821503",
         "7.494430215031565",
         "9.51657428982249",
         "7.0587581525186645"
        ]
       ],
       "shape": {
        "columns": 6,
        "rows": 440
       }
      },
      "text/html": [
       "<div>\n",
       "<style scoped>\n",
       "    .dataframe tbody tr th:only-of-type {\n",
       "        vertical-align: middle;\n",
       "    }\n",
       "\n",
       "    .dataframe tbody tr th {\n",
       "        vertical-align: top;\n",
       "    }\n",
       "\n",
       "    .dataframe thead th {\n",
       "        text-align: right;\n",
       "    }\n",
       "</style>\n",
       "<table border=\"1\" class=\"dataframe\">\n",
       "  <thead>\n",
       "    <tr style=\"text-align: right;\">\n",
       "      <th></th>\n",
       "      <th>Fresh</th>\n",
       "      <th>Milk</th>\n",
       "      <th>Grocery</th>\n",
       "      <th>Frozen</th>\n",
       "      <th>Detergents_Paper</th>\n",
       "      <th>Delicatessen</th>\n",
       "    </tr>\n",
       "  </thead>\n",
       "  <tbody>\n",
       "    <tr>\n",
       "      <th>0</th>\n",
       "      <td>9.446913</td>\n",
       "      <td>9.175335</td>\n",
       "      <td>8.930759</td>\n",
       "      <td>5.365976</td>\n",
       "      <td>7.891331</td>\n",
       "      <td>7.198931</td>\n",
       "    </tr>\n",
       "    <tr>\n",
       "      <th>1</th>\n",
       "      <td>8.861775</td>\n",
       "      <td>9.191158</td>\n",
       "      <td>9.166179</td>\n",
       "      <td>7.474205</td>\n",
       "      <td>8.099554</td>\n",
       "      <td>7.482119</td>\n",
       "    </tr>\n",
       "    <tr>\n",
       "      <th>2</th>\n",
       "      <td>8.756682</td>\n",
       "      <td>9.083416</td>\n",
       "      <td>8.946896</td>\n",
       "      <td>7.785305</td>\n",
       "      <td>8.165079</td>\n",
       "      <td>8.967504</td>\n",
       "    </tr>\n",
       "    <tr>\n",
       "      <th>3</th>\n",
       "      <td>9.492884</td>\n",
       "      <td>7.086738</td>\n",
       "      <td>8.347827</td>\n",
       "      <td>8.764678</td>\n",
       "      <td>6.228511</td>\n",
       "      <td>7.488853</td>\n",
       "    </tr>\n",
       "    <tr>\n",
       "      <th>4</th>\n",
       "      <td>10.026369</td>\n",
       "      <td>8.596004</td>\n",
       "      <td>8.881558</td>\n",
       "      <td>8.272571</td>\n",
       "      <td>7.482682</td>\n",
       "      <td>8.553525</td>\n",
       "    </tr>\n",
       "    <tr>\n",
       "      <th>...</th>\n",
       "      <td>...</td>\n",
       "      <td>...</td>\n",
       "      <td>...</td>\n",
       "      <td>...</td>\n",
       "      <td>...</td>\n",
       "      <td>...</td>\n",
       "    </tr>\n",
       "    <tr>\n",
       "      <th>435</th>\n",
       "      <td>10.299003</td>\n",
       "      <td>9.396903</td>\n",
       "      <td>9.682030</td>\n",
       "      <td>9.483036</td>\n",
       "      <td>5.204007</td>\n",
       "      <td>7.698029</td>\n",
       "    </tr>\n",
       "    <tr>\n",
       "      <th>436</th>\n",
       "      <td>10.577146</td>\n",
       "      <td>7.266129</td>\n",
       "      <td>6.638568</td>\n",
       "      <td>8.414052</td>\n",
       "      <td>4.532599</td>\n",
       "      <td>7.760467</td>\n",
       "    </tr>\n",
       "    <tr>\n",
       "      <th>437</th>\n",
       "      <td>9.584040</td>\n",
       "      <td>9.647821</td>\n",
       "      <td>10.317020</td>\n",
       "      <td>6.079933</td>\n",
       "      <td>9.605149</td>\n",
       "      <td>7.532088</td>\n",
       "    </tr>\n",
       "    <tr>\n",
       "      <th>438</th>\n",
       "      <td>9.238928</td>\n",
       "      <td>7.591357</td>\n",
       "      <td>7.710653</td>\n",
       "      <td>6.945051</td>\n",
       "      <td>5.123964</td>\n",
       "      <td>7.661527</td>\n",
       "    </tr>\n",
       "    <tr>\n",
       "      <th>439</th>\n",
       "      <td>7.932721</td>\n",
       "      <td>7.437206</td>\n",
       "      <td>7.828038</td>\n",
       "      <td>4.174387</td>\n",
       "      <td>6.167516</td>\n",
       "      <td>3.951244</td>\n",
       "    </tr>\n",
       "  </tbody>\n",
       "</table>\n",
       "<p>440 rows × 6 columns</p>\n",
       "</div>"
      ],
      "text/plain": [
       "         Fresh      Milk    Grocery    Frozen  Detergents_Paper  Delicatessen\n",
       "0     9.446913  9.175335   8.930759  5.365976          7.891331      7.198931\n",
       "1     8.861775  9.191158   9.166179  7.474205          8.099554      7.482119\n",
       "2     8.756682  9.083416   8.946896  7.785305          8.165079      8.967504\n",
       "3     9.492884  7.086738   8.347827  8.764678          6.228511      7.488853\n",
       "4    10.026369  8.596004   8.881558  8.272571          7.482682      8.553525\n",
       "..         ...       ...        ...       ...               ...           ...\n",
       "435  10.299003  9.396903   9.682030  9.483036          5.204007      7.698029\n",
       "436  10.577146  7.266129   6.638568  8.414052          4.532599      7.760467\n",
       "437   9.584040  9.647821  10.317020  6.079933          9.605149      7.532088\n",
       "438   9.238928  7.591357   7.710653  6.945051          5.123964      7.661527\n",
       "439   7.932721  7.437206   7.828038  4.174387          6.167516      3.951244\n",
       "\n",
       "[440 rows x 6 columns]"
      ]
     },
     "execution_count": 71,
     "metadata": {},
     "output_type": "execute_result"
    }
   ],
   "source": [
    "good_data"
   ]
  },
  {
   "cell_type": "code",
   "execution_count": 74,
   "id": "131f589b",
   "metadata": {},
   "outputs": [
    {
     "data": {
      "image/png": "[encoded data removed]",
      "text/plain": [
       "<Figure size 800x500 with 1 Axes>"
      ]
     },
     "metadata": {},
     "output_type": "display_data"
    }
   ],
   "source": [
    "from sklearn.decomposition import PCA\n",
    "import visuals as vs\n",
    "\n",
    "# Apply PCA with number of components = number of features\n",
    "pca = PCA(n_components=len(good_data.columns)).fit(good_data)\n",
    "\n",
    "# Transform the sample data\n",
    "# pca_samples = pca.transform(log_samples)\n",
    "\n",
    "# Generate PCA results plot (custom visualization function)\n",
    "pca_results =pca_results(good_data, pca)\n"
   ]
  },
  {
   "cell_type": "code",
   "execution_count": 73,
   "id": "5b8f6ee6",
   "metadata": {},
   "outputs": [],
   "source": [
    "import matplotlib.pyplot as plt\n",
    "import pandas as pd\n",
    "import numpy as np\n",
    "\n",
    "def pca_results(good_data, pca):\n",
    "    # Dimension labels\n",
    "    dimensions = ['Dimension {}'.format(i+1) for i in range(len(pca.components_))]\n",
    "\n",
    "    # PCA components\n",
    "    components = pd.DataFrame(np.round(pca.components_, 4), columns=good_data.keys())\n",
    "    components.index = dimensions\n",
    "\n",
    "    # Explained variance\n",
    "    explained_var = pd.DataFrame(np.round(pca.explained_variance_ratio_, 4), \n",
    "                                 index=dimensions, \n",
    "                                 columns=['Explained Variance'])\n",
    "\n",
    "    # Plot explained variance\n",
    "    plt.figure(figsize=(8,5))\n",
    "    explained_var['Explained Variance'].plot(kind='bar')\n",
    "    plt.ylabel(\"Explained Variance Ratio\")\n",
    "    plt.xlabel(\"Principal Components\")\n",
    "    plt.title(\"Explained Variance by PCA Components\")\n",
    "    plt.show()\n",
    "\n",
    "    return pd.concat([explained_var, components], axis=1)\n"
   ]
  },
  {
   "cell_type": "code",
   "execution_count": null,
   "id": "331db1aa",
   "metadata": {},
   "outputs": [],
   "source": [
    "from sklearn.decomposition import PCA\n",
    "import pandas as pd\n",
    "\n",
    "# Apply PCA by fitting the good data with only two dimensions\n",
    "pca = PCA(n_components=2).fit(good_data)\n",
    "\n",
    "# Transform the good data using the PCA fit above\n",
    "reduced_data = pca.transform(good_data)\n",
    "\n",
    "# Transform log_samples using the PCA fit above\n",
    "# pca_samples = pca.transform(log_samples)\n",
    "\n",
    "# Create a DataFrame for the reduced data\n",
    "reduced_data = pd.DataFrame(reduced_data, columns=['Dimension 1', 'Dimension 2'])\n"
   ]
  },
  {
   "cell_type": "code",
   "execution_count": null,
   "id": "9496c163",
   "metadata": {},
   "outputs": [],
   "source": [
    "import matplotlib.pyplot as plt\n",
    "import numpy as np\n",
    "\n",
    "def biplot(good_data, reduced_data, pca):\n",
    "    fig, ax = plt.subplots(figsize=(10,6))\n",
    "\n",
    "    # Plot the reduced data\n",
    "    ax.scatter(reduced_data['Dimension 1'], reduced_data['Dimension 2'], \n",
    "               facecolors='b', edgecolors='b', s=40, alpha=0.5)\n",
    "\n",
    "    # Scale the component vectors for arrows\n",
    "    vectors = pca.components_.T\n",
    "    scaling = np.max(reduced_data.values)  # scale arrows to fit plot nicely\n",
    "    \n",
    "    for i, feature in enumerate(good_data.columns):\n",
    "        ax.arrow(0, 0, vectors[i,0]*scaling, vectors[i,1]*scaling,\n",
    "                 color='r', width=0.005, head_width=0.05)\n",
    "        ax.text(vectors[i,0]*scaling*1.1, vectors[i,1]*scaling*1.1,\n",
    "                feature, color='r', ha='center', va='center')\n",
    "\n",
    "    ax.set_xlabel(\"Dimension 1\")\n",
    "    ax.set_ylabel(\"Dimension 2\")\n",
    "    ax.set_title(\"PCA Biplot (2D projection with feature vectors)\")\n",
    "    plt.grid(True)\n",
    "    plt.show()\n"
   ]
  },
  {
   "cell_type": "code",
   "execution_count": null,
   "id": "5c1f272e",
   "metadata": {},
   "outputs": [
    {
     "data": {
      "image/png": "[encoded data removed]",
      "text/plain": [
       "<Figure size 1000x600 with 1 Axes>"
      ]
     },
     "metadata": {},
     "output_type": "display_data"
    }
   ],
   "source": [
    "biplot(good_data, reduced_data, pca)"
   ]
  },
  {
   "cell_type": "markdown",
   "id": "91eda777",
   "metadata": {},
   "source": [
    "for clustering check what dataset have make group or cluster to each other"
   ]
  },
  {
   "cell_type": "code",
   "execution_count": null,
   "id": "7879769b",
   "metadata": {},
   "outputs": [
    {
     "name": "stdout",
     "output_type": "stream",
     "text": [
      "KMeans(n_clusters=2, random_state=25) in 2 and [0.4191660832029231]\n",
      "KMeans(n_clusters=3, random_state=25) in 3 and [0.4191660832029231, 0.3504111770717995]\n",
      "KMeans(n_clusters=4, random_state=25) in 4 and [0.4191660832029231, 0.3504111770717995, 0.35672074669955195]\n",
      "KMeans(n_clusters=5, random_state=25) in 5 and [0.4191660832029231, 0.3504111770717995, 0.35672074669955195, 0.3320378767673782]\n",
      "KMeans(n_clusters=6, random_state=25) in 6 and [0.4191660832029231, 0.3504111770717995, 0.35672074669955195, 0.3320378767673782, 0.35075612431836006]\n",
      "KMeans(n_clusters=7, random_state=25) in 7 and [0.4191660832029231, 0.3504111770717995, 0.35672074669955195, 0.3320378767673782, 0.35075612431836006, 0.36040654213132756]\n",
      "KMeans(random_state=25) in 8 and [0.4191660832029231, 0.3504111770717995, 0.35672074669955195, 0.3320378767673782, 0.35075612431836006, 0.36040654213132756, 0.3585126923558263]\n",
      "KMeans(n_clusters=9, random_state=25) in 9 and [0.4191660832029231, 0.3504111770717995, 0.35672074669955195, 0.3320378767673782, 0.35075612431836006, 0.36040654213132756, 0.3585126923558263, 0.3466948423106443]\n"
     ]
    }
   ],
   "source": [
    "from sklearn.cluster import KMeans\n",
    "from sklearn.metrics import silhouette_score\n",
    "scores=[]\n",
    "for i in range(2,10):\n",
    "    cluster=KMeans(n_clusters=i,random_state=25)\n",
    "    leb=cluster.fit_predict(reduced_data)\n",
    "    score=silhouette_score(reduced_data,leb)\n",
    "    scores.append(score)\n",
    "    print(f'{cluster} in {i} and {scores}')\n",
    "# pred=cluster.predict(reduced_data)\n",
    "\n",
    "\n",
    "\n"
   ]
  },
  {
   "cell_type": "code",
   "execution_count": null,
   "id": "7934c4e8",
   "metadata": {},
   "outputs": [
    {
     "data": {
      "text/plain": [
       "array([[ 1.30673081e-03,  2.47125136e+00],\n",
       "       [ 2.90260359e+00, -1.90547849e+00],\n",
       "       [-1.76292779e+00,  9.11347290e-01],\n",
       "       [ 1.84082469e-01, -4.18497567e-01],\n",
       "       [ 1.95966472e-01, -5.05255655e+00],\n",
       "       [-4.42066557e+00, -1.32154010e+00],\n",
       "       [ 3.45043919e+00,  1.30396969e+00],\n",
       "       [-1.72915654e+00, -8.53401836e-01],\n",
       "       [ 1.82939438e+00,  6.35859283e-01]])"
      ]
     },
     "execution_count": 40,
     "metadata": {},
     "output_type": "execute_result"
    }
   ],
   "source": [
    "center=cluster.cluster_centers_\n",
    "center"
   ]
  },
  {
   "cell_type": "code",
   "execution_count": null,
   "id": "cf5368bb",
   "metadata": {},
   "outputs": [],
   "source": []
  },
  {
   "cell_type": "code",
   "execution_count": null,
   "id": "99769af8",
   "metadata": {},
   "outputs": [
    {
     "data": {
      "image/png": "[encoded data removed]",
      "text/plain": [
       "<Figure size 640x480 with 1 Axes>"
      ]
     },
     "metadata": {},
     "output_type": "display_data"
    }
   ],
   "source": [
    "plt.plot(range(2, 10), scores, marker='o')\n",
    "plt.xlabel(\"Number of clusters (k)\")\n",
    "plt.ylabel(\"Silhouette Score\")\n",
    "plt.title(\"Silhouette Analysis for KMeans\")\n",
    "plt.show()\n",
    "\n"
   ]
  },
  {
   "cell_type": "code",
   "execution_count": null,
   "id": "a8dd3d93",
   "metadata": {},
   "outputs": [
    {
     "data": {
      "application/vnd.microsoft.datawrangler.viewer.v0+json": {
       "columns": [
        {
         "name": "index",
         "rawType": "object",
         "type": "string"
        },
        {
         "name": "Fresh",
         "rawType": "float64",
         "type": "float"
        },
        {
         "name": "Milk",
         "rawType": "float64",
         "type": "float"
        },
        {
         "name": "Grocery",
         "rawType": "float64",
         "type": "float"
        },
        {
         "name": "Frozen",
         "rawType": "float64",
         "type": "float"
        },
        {
         "name": "Detergents_Paper",
         "rawType": "float64",
         "type": "float"
        },
        {
         "name": "Delicatessen",
         "rawType": "float64",
         "type": "float"
        }
       ],
       "ref": "75b0ece9-8a91-4b07-ad59-a2416a3881fc",
       "rows": [
        [
         "Segment 0",
         "33640.0",
         "5029.0",
         "5504.0",
         "4946.0",
         "983.0",
         "2765.0"
        ],
        [
         "Segment 1",
         "1013.0",
         "7759.0",
         "15181.0",
         "355.0",
         "7116.0",
         "458.0"
        ],
        [
         "Segment 2",
         "15696.0",
         "1946.0",
         "2216.0",
         "3132.0",
         "247.0",
         "959.0"
        ],
        [
         "Segment 3",
         "4500.0",
         "3380.0",
         "4894.0",
         "1171.0",
         "998.0",
         "652.0"
        ],
        [
         "Segment 4",
         "188.0",
         "1600.0",
         "3568.0",
         "122.0",
         "829.0",
         "62.0"
        ],
        [
         "Segment 5",
         "5394.0",
         "475.0",
         "567.0",
         "1666.0",
         "31.0",
         "207.0"
        ],
        [
         "Segment 6",
         "8304.0",
         "16218.0",
         "24328.0",
         "1546.0",
         "12246.0",
         "2554.0"
        ],
        [
         "Segment 7",
         "4657.0",
         "1481.0",
         "1991.0",
         "1317.0",
         "235.0",
         "392.0"
        ],
        [
         "Segment 8",
         "6963.0",
         "7677.0",
         "11120.0",
         "1475.0",
         "3556.0",
         "1426.0"
        ]
       ],
       "shape": {
        "columns": 6,
        "rows": 9
       }
      },
      "text/html": [
       "<div>\n",
       "<style scoped>\n",
       "    .dataframe tbody tr th:only-of-type {\n",
       "        vertical-align: middle;\n",
       "    }\n",
       "\n",
       "    .dataframe tbody tr th {\n",
       "        vertical-align: top;\n",
       "    }\n",
       "\n",
       "    .dataframe thead th {\n",
       "        text-align: right;\n",
       "    }\n",
       "</style>\n",
       "<table border=\"1\" class=\"dataframe\">\n",
       "  <thead>\n",
       "    <tr style=\"text-align: right;\">\n",
       "      <th></th>\n",
       "      <th>Fresh</th>\n",
       "      <th>Milk</th>\n",
       "      <th>Grocery</th>\n",
       "      <th>Frozen</th>\n",
       "      <th>Detergents_Paper</th>\n",
       "      <th>Delicatessen</th>\n",
       "    </tr>\n",
       "  </thead>\n",
       "  <tbody>\n",
       "    <tr>\n",
       "      <th>Segment 0</th>\n",
       "      <td>33640.0</td>\n",
       "      <td>5029.0</td>\n",
       "      <td>5504.0</td>\n",
       "      <td>4946.0</td>\n",
       "      <td>983.0</td>\n",
       "      <td>2765.0</td>\n",
       "    </tr>\n",
       "    <tr>\n",
       "      <th>Segment 1</th>\n",
       "      <td>1013.0</td>\n",
       "      <td>7759.0</td>\n",
       "      <td>15181.0</td>\n",
       "      <td>355.0</td>\n",
       "      <td>7116.0</td>\n",
       "      <td>458.0</td>\n",
       "    </tr>\n",
       "    <tr>\n",
       "      <th>Segment 2</th>\n",
       "      <td>15696.0</td>\n",
       "      <td>1946.0</td>\n",
       "      <td>2216.0</td>\n",
       "      <td>3132.0</td>\n",
       "      <td>247.0</td>\n",
       "      <td>959.0</td>\n",
       "    </tr>\n",
       "    <tr>\n",
       "      <th>Segment 3</th>\n",
       "      <td>4500.0</td>\n",
       "      <td>3380.0</td>\n",
       "      <td>4894.0</td>\n",
       "      <td>1171.0</td>\n",
       "      <td>998.0</td>\n",
       "      <td>652.0</td>\n",
       "    </tr>\n",
       "    <tr>\n",
       "      <th>Segment 4</th>\n",
       "      <td>188.0</td>\n",
       "      <td>1600.0</td>\n",
       "      <td>3568.0</td>\n",
       "      <td>122.0</td>\n",
       "      <td>829.0</td>\n",
       "      <td>62.0</td>\n",
       "    </tr>\n",
       "    <tr>\n",
       "      <th>Segment 5</th>\n",
       "      <td>5394.0</td>\n",
       "      <td>475.0</td>\n",
       "      <td>567.0</td>\n",
       "      <td>1666.0</td>\n",
       "      <td>31.0</td>\n",
       "      <td>207.0</td>\n",
       "    </tr>\n",
       "    <tr>\n",
       "      <th>Segment 6</th>\n",
       "      <td>8304.0</td>\n",
       "      <td>16218.0</td>\n",
       "      <td>24328.0</td>\n",
       "      <td>1546.0</td>\n",
       "      <td>12246.0</td>\n",
       "      <td>2554.0</td>\n",
       "    </tr>\n",
       "    <tr>\n",
       "      <th>Segment 7</th>\n",
       "      <td>4657.0</td>\n",
       "      <td>1481.0</td>\n",
       "      <td>1991.0</td>\n",
       "      <td>1317.0</td>\n",
       "      <td>235.0</td>\n",
       "      <td>392.0</td>\n",
       "    </tr>\n",
       "    <tr>\n",
       "      <th>Segment 8</th>\n",
       "      <td>6963.0</td>\n",
       "      <td>7677.0</td>\n",
       "      <td>11120.0</td>\n",
       "      <td>1475.0</td>\n",
       "      <td>3556.0</td>\n",
       "      <td>1426.0</td>\n",
       "    </tr>\n",
       "  </tbody>\n",
       "</table>\n",
       "</div>"
      ],
      "text/plain": [
       "             Fresh     Milk  Grocery  Frozen  Detergents_Paper  Delicatessen\n",
       "Segment 0  33640.0   5029.0   5504.0  4946.0             983.0        2765.0\n",
       "Segment 1   1013.0   7759.0  15181.0   355.0            7116.0         458.0\n",
       "Segment 2  15696.0   1946.0   2216.0  3132.0             247.0         959.0\n",
       "Segment 3   4500.0   3380.0   4894.0  1171.0             998.0         652.0\n",
       "Segment 4    188.0   1600.0   3568.0   122.0             829.0          62.0\n",
       "Segment 5   5394.0    475.0    567.0  1666.0              31.0         207.0\n",
       "Segment 6   8304.0  16218.0  24328.0  1546.0           12246.0        2554.0\n",
       "Segment 7   4657.0   1481.0   1991.0  1317.0             235.0         392.0\n",
       "Segment 8   6963.0   7677.0  11120.0  1475.0            3556.0        1426.0"
      ]
     },
     "metadata": {},
     "output_type": "display_data"
    }
   ],
   "source": [
    "# Inverse transform the centers (from PCA space back to log space)\n",
    "log_centers = pca.inverse_transform(center)\n",
    "\n",
    "# Exponentiate the centers (from log space back to original space)\n",
    "true_centers = np.exp(log_centers)\n",
    "\n",
    "# Display the true centers\n",
    "segments = ['Segment {}'.format(i) for i in range(0, len(center))]\n",
    "true_centers = pd.DataFrame(np.round(true_centers), columns=df.keys())\n",
    "true_centers.index = segments\n",
    "\n",
    "display(true_centers)\n"
   ]
  },
  {
   "cell_type": "code",
   "execution_count": null,
   "id": "72b291b5",
   "metadata": {},
   "outputs": [
    {
     "data": {
      "application/vnd.microsoft.datawrangler.viewer.v0+json": {
       "columns": [
        {
         "name": "index",
         "rawType": "object",
         "type": "string"
        },
        {
         "name": "Fresh",
         "rawType": "float64",
         "type": "float"
        },
        {
         "name": "Milk",
         "rawType": "float64",
         "type": "float"
        },
        {
         "name": "Grocery",
         "rawType": "float64",
         "type": "float"
        },
        {
         "name": "Frozen",
         "rawType": "float64",
         "type": "float"
        },
        {
         "name": "Detergents_Paper",
         "rawType": "float64",
         "type": "float"
        },
        {
         "name": "Delicatessen",
         "rawType": "float64",
         "type": "float"
        }
       ],
       "ref": "9f152769-6874-4c07-b64c-06e867ef4c14",
       "rows": [
        [
         "count",
         "9.0",
         "9.0",
         "9.0",
         "9.0",
         "9.0",
         "9.0"
        ],
        [
         "mean",
         "8928.333333333334",
         "5062.777777777777",
         "7707.666666666667",
         "1747.7777777777778",
         "2915.6666666666665",
         "1052.7777777777778"
        ],
        [
         "std",
         "10308.44298378761",
         "4961.82435646854",
         "7805.98903086598",
         "1473.4199823690612",
         "4175.880565820819",
         "998.8401746247717"
        ],
        [
         "min",
         "188.0",
         "475.0",
         "567.0",
         "122.0",
         "31.0",
         "62.0"
        ],
        [
         "25%",
         "4500.0",
         "1600.0",
         "2216.0",
         "1171.0",
         "247.0",
         "392.0"
        ],
        [
         "50%",
         "5394.0",
         "3380.0",
         "4894.0",
         "1475.0",
         "983.0",
         "652.0"
        ],
        [
         "75%",
         "8304.0",
         "7677.0",
         "11120.0",
         "1666.0",
         "3556.0",
         "1426.0"
        ],
        [
         "max",
         "33640.0",
         "16218.0",
         "24328.0",
         "4946.0",
         "12246.0",
         "2765.0"
        ]
       ],
       "shape": {
        "columns": 6,
        "rows": 8
       }
      },
      "text/html": [
       "<div>\n",
       "<style scoped>\n",
       "    .dataframe tbody tr th:only-of-type {\n",
       "        vertical-align: middle;\n",
       "    }\n",
       "\n",
       "    .dataframe tbody tr th {\n",
       "        vertical-align: top;\n",
       "    }\n",
       "\n",
       "    .dataframe thead th {\n",
       "        text-align: right;\n",
       "    }\n",
       "</style>\n",
       "<table border=\"1\" class=\"dataframe\">\n",
       "  <thead>\n",
       "    <tr style=\"text-align: right;\">\n",
       "      <th></th>\n",
       "      <th>Fresh</th>\n",
       "      <th>Milk</th>\n",
       "      <th>Grocery</th>\n",
       "      <th>Frozen</th>\n",
       "      <th>Detergents_Paper</th>\n",
       "      <th>Delicatessen</th>\n",
       "    </tr>\n",
       "  </thead>\n",
       "  <tbody>\n",
       "    <tr>\n",
       "      <th>count</th>\n",
       "      <td>9.000000</td>\n",
       "      <td>9.000000</td>\n",
       "      <td>9.000000</td>\n",
       "      <td>9.000000</td>\n",
       "      <td>9.000000</td>\n",
       "      <td>9.000000</td>\n",
       "    </tr>\n",
       "    <tr>\n",
       "      <th>mean</th>\n",
       "      <td>8928.333333</td>\n",
       "      <td>5062.777778</td>\n",
       "      <td>7707.666667</td>\n",
       "      <td>1747.777778</td>\n",
       "      <td>2915.666667</td>\n",
       "      <td>1052.777778</td>\n",
       "    </tr>\n",
       "    <tr>\n",
       "      <th>std</th>\n",
       "      <td>10308.442984</td>\n",
       "      <td>4961.824356</td>\n",
       "      <td>7805.989031</td>\n",
       "      <td>1473.419982</td>\n",
       "      <td>4175.880566</td>\n",
       "      <td>998.840175</td>\n",
       "    </tr>\n",
       "    <tr>\n",
       "      <th>min</th>\n",
       "      <td>188.000000</td>\n",
       "      <td>475.000000</td>\n",
       "      <td>567.000000</td>\n",
       "      <td>122.000000</td>\n",
       "      <td>31.000000</td>\n",
       "      <td>62.000000</td>\n",
       "    </tr>\n",
       "    <tr>\n",
       "      <th>25%</th>\n",
       "      <td>4500.000000</td>\n",
       "      <td>1600.000000</td>\n",
       "      <td>2216.000000</td>\n",
       "      <td>1171.000000</td>\n",
       "      <td>247.000000</td>\n",
       "      <td>392.000000</td>\n",
       "    </tr>\n",
       "    <tr>\n",
       "      <th>50%</th>\n",
       "      <td>5394.000000</td>\n",
       "      <td>3380.000000</td>\n",
       "      <td>4894.000000</td>\n",
       "      <td>1475.000000</td>\n",
       "      <td>983.000000</td>\n",
       "      <td>652.000000</td>\n",
       "    </tr>\n",
       "    <tr>\n",
       "      <th>75%</th>\n",
       "      <td>8304.000000</td>\n",
       "      <td>7677.000000</td>\n",
       "      <td>11120.000000</td>\n",
       "      <td>1666.000000</td>\n",
       "      <td>3556.000000</td>\n",
       "      <td>1426.000000</td>\n",
       "    </tr>\n",
       "    <tr>\n",
       "      <th>max</th>\n",
       "      <td>33640.000000</td>\n",
       "      <td>16218.000000</td>\n",
       "      <td>24328.000000</td>\n",
       "      <td>4946.000000</td>\n",
       "      <td>12246.000000</td>\n",
       "      <td>2765.000000</td>\n",
       "    </tr>\n",
       "  </tbody>\n",
       "</table>\n",
       "</div>"
      ],
      "text/plain": [
       "              Fresh          Milk       Grocery       Frozen  \\\n",
       "count      9.000000      9.000000      9.000000     9.000000   \n",
       "mean    8928.333333   5062.777778   7707.666667  1747.777778   \n",
       "std    10308.442984   4961.824356   7805.989031  1473.419982   \n",
       "min      188.000000    475.000000    567.000000   122.000000   \n",
       "25%     4500.000000   1600.000000   2216.000000  1171.000000   \n",
       "50%     5394.000000   3380.000000   4894.000000  1475.000000   \n",
       "75%     8304.000000   7677.000000  11120.000000  1666.000000   \n",
       "max    33640.000000  16218.000000  24328.000000  4946.000000   \n",
       "\n",
       "       Detergents_Paper  Delicatessen  \n",
       "count          9.000000      9.000000  \n",
       "mean        2915.666667   1052.777778  \n",
       "std         4175.880566    998.840175  \n",
       "min           31.000000     62.000000  \n",
       "25%          247.000000    392.000000  \n",
       "50%          983.000000    652.000000  \n",
       "75%         3556.000000   1426.000000  \n",
       "max        12246.000000   2765.000000  "
      ]
     },
     "metadata": {},
     "output_type": "display_data"
    }
   ],
   "source": [
    "display(true_centers.describe())"
   ]
  },
  {
   "cell_type": "code",
   "execution_count": null,
   "id": "c2723c42",
   "metadata": {},
   "outputs": [
    {
     "data": {
      "application/vnd.microsoft.datawrangler.viewer.v0+json": {
       "columns": [
        {
         "name": "index",
         "rawType": "object",
         "type": "string"
        },
        {
         "name": "Fresh",
         "rawType": "float64",
         "type": "float"
        },
        {
         "name": "Milk",
         "rawType": "float64",
         "type": "float"
        },
        {
         "name": "Grocery",
         "rawType": "float64",
         "type": "float"
        },
        {
         "name": "Frozen",
         "rawType": "float64",
         "type": "float"
        },
        {
         "name": "Detergents_Paper",
         "rawType": "float64",
         "type": "float"
        },
        {
         "name": "Delicatessen",
         "rawType": "float64",
         "type": "float"
        }
       ],
       "ref": "3e913e25-c6fe-4e95-ae4b-73dd94bee755",
       "rows": [
        [
         "count",
         "440.0",
         "440.0",
         "440.0",
         "440.0",
         "440.0",
         "440.0"
        ],
        [
         "mean",
         "8.730544041198167",
         "8.12104706712069",
         "8.441168771575631",
         "7.301395736916071",
         "6.785972021352089",
         "6.665133052014021"
        ],
        [
         "std",
         "1.4800713317833696",
         "1.0813653263870395",
         "1.116171716192649",
         "1.2845399833339244",
         "1.7210201225032433",
         "1.3108315942970616"
        ],
        [
         "min",
         "1.0986122886681098",
         "4.007333185232471",
         "1.0986122886681098",
         "3.2188758248682006",
         "1.0986122886681098",
         "1.0986122886681098"
        ],
        [
         "25%",
         "8.048058702214819",
         "7.334981240042021",
         "7.674616201373081",
         "6.609677749172153",
         "5.548101424791305",
         "6.011874656932535"
        ],
        [
         "50%",
         "9.048286105392618",
         "8.196159276887967",
         "8.46705707217621",
         "7.330387819684915",
         "6.705017724903055",
         "6.87264489503192"
        ],
        [
         "75%",
         "9.73706394795268",
         "8.880480088587671",
         "9.27385367723784",
         "8.175896083178294",
         "8.274340598750195",
         "7.506728426547161"
        ],
        [
         "max",
         "11.627601456538116",
         "11.205013473946352",
         "11.437986378305734",
         "11.01647929289894",
         "10.617098906228428",
         "10.777768084253218"
        ]
       ],
       "shape": {
        "columns": 6,
        "rows": 8
       }
      },
      "text/html": [
       "<div>\n",
       "<style scoped>\n",
       "    .dataframe tbody tr th:only-of-type {\n",
       "        vertical-align: middle;\n",
       "    }\n",
       "\n",
       "    .dataframe tbody tr th {\n",
       "        vertical-align: top;\n",
       "    }\n",
       "\n",
       "    .dataframe thead th {\n",
       "        text-align: right;\n",
       "    }\n",
       "</style>\n",
       "<table border=\"1\" class=\"dataframe\">\n",
       "  <thead>\n",
       "    <tr style=\"text-align: right;\">\n",
       "      <th></th>\n",
       "      <th>Fresh</th>\n",
       "      <th>Milk</th>\n",
       "      <th>Grocery</th>\n",
       "      <th>Frozen</th>\n",
       "      <th>Detergents_Paper</th>\n",
       "      <th>Delicatessen</th>\n",
       "    </tr>\n",
       "  </thead>\n",
       "  <tbody>\n",
       "    <tr>\n",
       "      <th>count</th>\n",
       "      <td>440.000000</td>\n",
       "      <td>440.000000</td>\n",
       "      <td>440.000000</td>\n",
       "      <td>440.000000</td>\n",
       "      <td>440.000000</td>\n",
       "      <td>440.000000</td>\n",
       "    </tr>\n",
       "    <tr>\n",
       "      <th>mean</th>\n",
       "      <td>8.730544</td>\n",
       "      <td>8.121047</td>\n",
       "      <td>8.441169</td>\n",
       "      <td>7.301396</td>\n",
       "      <td>6.785972</td>\n",
       "      <td>6.665133</td>\n",
       "    </tr>\n",
       "    <tr>\n",
       "      <th>std</th>\n",
       "      <td>1.480071</td>\n",
       "      <td>1.081365</td>\n",
       "      <td>1.116172</td>\n",
       "      <td>1.284540</td>\n",
       "      <td>1.721020</td>\n",
       "      <td>1.310832</td>\n",
       "    </tr>\n",
       "    <tr>\n",
       "      <th>min</th>\n",
       "      <td>1.098612</td>\n",
       "      <td>4.007333</td>\n",
       "      <td>1.098612</td>\n",
       "      <td>3.218876</td>\n",
       "      <td>1.098612</td>\n",
       "      <td>1.098612</td>\n",
       "    </tr>\n",
       "    <tr>\n",
       "      <th>25%</th>\n",
       "      <td>8.048059</td>\n",
       "      <td>7.334981</td>\n",
       "      <td>7.674616</td>\n",
       "      <td>6.609678</td>\n",
       "      <td>5.548101</td>\n",
       "      <td>6.011875</td>\n",
       "    </tr>\n",
       "    <tr>\n",
       "      <th>50%</th>\n",
       "      <td>9.048286</td>\n",
       "      <td>8.196159</td>\n",
       "      <td>8.467057</td>\n",
       "      <td>7.330388</td>\n",
       "      <td>6.705018</td>\n",
       "      <td>6.872645</td>\n",
       "    </tr>\n",
       "    <tr>\n",
       "      <th>75%</th>\n",
       "      <td>9.737064</td>\n",
       "      <td>8.880480</td>\n",
       "      <td>9.273854</td>\n",
       "      <td>8.175896</td>\n",
       "      <td>8.274341</td>\n",
       "      <td>7.506728</td>\n",
       "    </tr>\n",
       "    <tr>\n",
       "      <th>max</th>\n",
       "      <td>11.627601</td>\n",
       "      <td>11.205013</td>\n",
       "      <td>11.437986</td>\n",
       "      <td>11.016479</td>\n",
       "      <td>10.617099</td>\n",
       "      <td>10.777768</td>\n",
       "    </tr>\n",
       "  </tbody>\n",
       "</table>\n",
       "</div>"
      ],
      "text/plain": [
       "            Fresh        Milk     Grocery      Frozen  Detergents_Paper  \\\n",
       "count  440.000000  440.000000  440.000000  440.000000        440.000000   \n",
       "mean     8.730544    8.121047    8.441169    7.301396          6.785972   \n",
       "std      1.480071    1.081365    1.116172    1.284540          1.721020   \n",
       "min      1.098612    4.007333    1.098612    3.218876          1.098612   \n",
       "25%      8.048059    7.334981    7.674616    6.609678          5.548101   \n",
       "50%      9.048286    8.196159    8.467057    7.330388          6.705018   \n",
       "75%      9.737064    8.880480    9.273854    8.175896          8.274341   \n",
       "max     11.627601   11.205013   11.437986   11.016479         10.617099   \n",
       "\n",
       "       Delicatessen  \n",
       "count    440.000000  \n",
       "mean       6.665133  \n",
       "std        1.310832  \n",
       "min        1.098612  \n",
       "25%        6.011875  \n",
       "50%        6.872645  \n",
       "75%        7.506728  \n",
       "max       10.777768  "
      ]
     },
     "metadata": {},
     "output_type": "display_data"
    }
   ],
   "source": [
    "display(df.describe())"
   ]
  }
 ],
 "metadata": {
  "kernelspec": {
   "display_name": "timeproject",
   "language": "python",
   "name": "python3"
  },
  "language_info": {
   "codemirror_mode": {
    "name": "ipython",
    "version": 3
   },
   "file_extension": ".py",
   "mimetype": "text/x-python",
   "name": "python",
   "nbconvert_exporter": "python",
   "pygments_lexer": "ipython3",
   "version": "3.13.5"
  }
 },
 "nbformat": 4,
 "nbformat_minor": 5
}
