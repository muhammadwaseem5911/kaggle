{
 "cells": [
  {
   "cell_type": "markdown",
   "id": "608d1fe0",
   "metadata": {},
   "source": [
    "## Here finding missing value and treet then by Four different methods"
   ]
  },
  {
   "cell_type": "markdown",
   "id": "b27dc3c0",
   "metadata": {},
   "source": [
    "### the dataset is releted to mobile sale"
   ]
  },
  {
   "cell_type": "code",
   "execution_count": 83,
   "id": "9fb0a8e0",
   "metadata": {},
   "outputs": [
    {
     "data": {
      "application/vnd.microsoft.datawrangler.viewer.v0+json": {
       "columns": [
        {
         "name": "index",
         "rawType": "int64",
         "type": "integer"
        },
        {
         "name": "DATE",
         "rawType": "datetime64[ns]",
         "type": "datetime"
        },
        {
         "name": "Sales",
         "rawType": "float64",
         "type": "float"
        }
       ],
       "ref": "41f97fed-78e9-4774-b95d-e8880156d70a",
       "rows": [
        [
         "0",
         "2001-01-01 00:00:00",
         "6519.0"
        ],
        [
         "1",
         "2001-02-01 00:00:00",
         "6654.0"
        ],
        [
         "2",
         "2001-03-01 00:00:00",
         "7332.0"
        ],
        [
         "3",
         "2001-04-01 00:00:00",
         "7332.0"
        ],
        [
         "4",
         "2001-05-01 00:00:00",
         "8240.0"
        ]
       ],
       "shape": {
        "columns": 2,
        "rows": 5
       }
      },
      "text/html": [
       "<div>\n",
       "<style scoped>\n",
       "    .dataframe tbody tr th:only-of-type {\n",
       "        vertical-align: middle;\n",
       "    }\n",
       "\n",
       "    .dataframe tbody tr th {\n",
       "        vertical-align: top;\n",
       "    }\n",
       "\n",
       "    .dataframe thead th {\n",
       "        text-align: right;\n",
       "    }\n",
       "</style>\n",
       "<table border=\"1\" class=\"dataframe\">\n",
       "  <thead>\n",
       "    <tr style=\"text-align: right;\">\n",
       "      <th></th>\n",
       "      <th>DATE</th>\n",
       "      <th>Sales</th>\n",
       "    </tr>\n",
       "  </thead>\n",
       "  <tbody>\n",
       "    <tr>\n",
       "      <th>0</th>\n",
       "      <td>2001-01-01</td>\n",
       "      <td>6519.0</td>\n",
       "    </tr>\n",
       "    <tr>\n",
       "      <th>1</th>\n",
       "      <td>2001-02-01</td>\n",
       "      <td>6654.0</td>\n",
       "    </tr>\n",
       "    <tr>\n",
       "      <th>2</th>\n",
       "      <td>2001-03-01</td>\n",
       "      <td>7332.0</td>\n",
       "    </tr>\n",
       "    <tr>\n",
       "      <th>3</th>\n",
       "      <td>2001-04-01</td>\n",
       "      <td>7332.0</td>\n",
       "    </tr>\n",
       "    <tr>\n",
       "      <th>4</th>\n",
       "      <td>2001-05-01</td>\n",
       "      <td>8240.0</td>\n",
       "    </tr>\n",
       "  </tbody>\n",
       "</table>\n",
       "</div>"
      ],
      "text/plain": [
       "        DATE   Sales\n",
       "0 2001-01-01  6519.0\n",
       "1 2001-02-01  6654.0\n",
       "2 2001-03-01  7332.0\n",
       "3 2001-04-01  7332.0\n",
       "4 2001-05-01  8240.0"
      ]
     },
     "execution_count": 83,
     "metadata": {},
     "output_type": "execute_result"
    }
   ],
   "source": [
    "# Firstly Import libraries and load the dataset\n",
    "import pandas as pd\n",
    "import numpy as np\n",
    "import matplotlib.pyplot as plt\n",
    "df=pd.read_excel('mobilesales.xlsx')\n",
    "df.head()"
   ]
  },
  {
   "cell_type": "code",
   "execution_count": 84,
   "id": "6f902a99",
   "metadata": {},
   "outputs": [
    {
     "data": {
      "text/plain": [
       "(217, 2)"
      ]
     },
     "execution_count": 84,
     "metadata": {},
     "output_type": "execute_result"
    }
   ],
   "source": [
    "# For knowing about the dataset \n",
    "df.shape"
   ]
  },
  {
   "cell_type": "code",
   "execution_count": 85,
   "id": "6863885b",
   "metadata": {},
   "outputs": [
    {
     "data": {
      "application/vnd.microsoft.datawrangler.viewer.v0+json": {
       "columns": [
        {
         "name": "index",
         "rawType": "object",
         "type": "string"
        },
        {
         "name": "DATE",
         "rawType": "object",
         "type": "unknown"
        },
        {
         "name": "Sales",
         "rawType": "float64",
         "type": "float"
        }
       ],
       "ref": "4a82e5b9-b032-4931-9e1a-dd4000cd192c",
       "rows": [
        [
         "count",
         "217",
         "198.0"
        ],
        [
         "mean",
         "2009-12-31 04:25:26.267281152",
         "10842.757575757576"
        ],
        [
         "min",
         "2001-01-01 00:00:00",
         "108.0"
        ],
        [
         "25%",
         "2005-07-01 00:00:00",
         "8856.0"
        ],
        [
         "50%",
         "2010-01-01 00:00:00",
         "10745.0"
        ],
        [
         "75%",
         "2014-07-01 00:00:00",
         "12399.75"
        ],
        [
         "max",
         "2019-01-01 00:00:00",
         "23740.0"
        ],
        [
         "std",
         null,
         "2605.0062933989047"
        ]
       ],
       "shape": {
        "columns": 2,
        "rows": 8
       }
      },
      "text/html": [
       "<div>\n",
       "<style scoped>\n",
       "    .dataframe tbody tr th:only-of-type {\n",
       "        vertical-align: middle;\n",
       "    }\n",
       "\n",
       "    .dataframe tbody tr th {\n",
       "        vertical-align: top;\n",
       "    }\n",
       "\n",
       "    .dataframe thead th {\n",
       "        text-align: right;\n",
       "    }\n",
       "</style>\n",
       "<table border=\"1\" class=\"dataframe\">\n",
       "  <thead>\n",
       "    <tr style=\"text-align: right;\">\n",
       "      <th></th>\n",
       "      <th>DATE</th>\n",
       "      <th>Sales</th>\n",
       "    </tr>\n",
       "  </thead>\n",
       "  <tbody>\n",
       "    <tr>\n",
       "      <th>count</th>\n",
       "      <td>217</td>\n",
       "      <td>198.000000</td>\n",
       "    </tr>\n",
       "    <tr>\n",
       "      <th>mean</th>\n",
       "      <td>2009-12-31 04:25:26.267281152</td>\n",
       "      <td>10842.757576</td>\n",
       "    </tr>\n",
       "    <tr>\n",
       "      <th>min</th>\n",
       "      <td>2001-01-01 00:00:00</td>\n",
       "      <td>108.000000</td>\n",
       "    </tr>\n",
       "    <tr>\n",
       "      <th>25%</th>\n",
       "      <td>2005-07-01 00:00:00</td>\n",
       "      <td>8856.000000</td>\n",
       "    </tr>\n",
       "    <tr>\n",
       "      <th>50%</th>\n",
       "      <td>2010-01-01 00:00:00</td>\n",
       "      <td>10745.000000</td>\n",
       "    </tr>\n",
       "    <tr>\n",
       "      <th>75%</th>\n",
       "      <td>2014-07-01 00:00:00</td>\n",
       "      <td>12399.750000</td>\n",
       "    </tr>\n",
       "    <tr>\n",
       "      <th>max</th>\n",
       "      <td>2019-01-01 00:00:00</td>\n",
       "      <td>23740.000000</td>\n",
       "    </tr>\n",
       "    <tr>\n",
       "      <th>std</th>\n",
       "      <td>NaN</td>\n",
       "      <td>2605.006293</td>\n",
       "    </tr>\n",
       "  </tbody>\n",
       "</table>\n",
       "</div>"
      ],
      "text/plain": [
       "                                DATE         Sales\n",
       "count                            217    198.000000\n",
       "mean   2009-12-31 04:25:26.267281152  10842.757576\n",
       "min              2001-01-01 00:00:00    108.000000\n",
       "25%              2005-07-01 00:00:00   8856.000000\n",
       "50%              2010-01-01 00:00:00  10745.000000\n",
       "75%              2014-07-01 00:00:00  12399.750000\n",
       "max              2019-01-01 00:00:00  23740.000000\n",
       "std                              NaN   2605.006293"
      ]
     },
     "execution_count": 85,
     "metadata": {},
     "output_type": "execute_result"
    }
   ],
   "source": [
    "df.describe()"
   ]
  },
  {
   "cell_type": "code",
   "execution_count": 86,
   "id": "12987b07",
   "metadata": {},
   "outputs": [
    {
     "data": {
      "application/vnd.microsoft.datawrangler.viewer.v0+json": {
       "columns": [
        {
         "name": "index",
         "rawType": "object",
         "type": "string"
        },
        {
         "name": "0",
         "rawType": "int64",
         "type": "integer"
        }
       ],
       "ref": "86418c44-9a95-49c6-9790-c151ef91573c",
       "rows": [
        [
         "DATE",
         "0"
        ],
        [
         "Sales",
         "19"
        ]
       ],
       "shape": {
        "columns": 1,
        "rows": 2
       }
      },
      "text/plain": [
       "DATE      0\n",
       "Sales    19\n",
       "dtype: int64"
      ]
     },
     "execution_count": 86,
     "metadata": {},
     "output_type": "execute_result"
    }
   ],
   "source": [
    "df.isna().sum()  # here see sales column has 19 missing values"
   ]
  },
  {
   "cell_type": "code",
   "execution_count": 87,
   "id": "d6723401",
   "metadata": {},
   "outputs": [
    {
     "data": {
      "application/vnd.microsoft.datawrangler.viewer.v0+json": {
       "columns": [
        {
         "name": "index",
         "rawType": "int64",
         "type": "integer"
        },
        {
         "name": "DATE",
         "rawType": "datetime64[ns]",
         "type": "datetime"
        },
        {
         "name": "Sales",
         "rawType": "float64",
         "type": "float"
        }
       ],
       "ref": "0a471ba1-d4d4-4cf9-b657-c3d074f95297",
       "rows": [
        [
         "14",
         "2002-03-01 00:00:00",
         null
        ],
        [
         "15",
         "2002-04-01 00:00:00",
         null
        ],
        [
         "16",
         "2002-05-01 00:00:00",
         null
        ],
        [
         "34",
         "2003-11-01 00:00:00",
         null
        ],
        [
         "57",
         "2005-10-01 00:00:00",
         null
        ],
        [
         "75",
         "2007-04-01 00:00:00",
         null
        ],
        [
         "98",
         "2009-03-01 00:00:00",
         null
        ],
        [
         "120",
         "2011-01-01 00:00:00",
         null
        ],
        [
         "125",
         "2011-06-01 00:00:00",
         null
        ],
        [
         "136",
         "2012-05-01 00:00:00",
         null
        ],
        [
         "145",
         "2013-02-01 00:00:00",
         null
        ],
        [
         "154",
         "2013-11-01 00:00:00",
         null
        ],
        [
         "163",
         "2014-08-01 00:00:00",
         null
        ],
        [
         "171",
         "2015-04-01 00:00:00",
         null
        ],
        [
         "176",
         "2015-09-01 00:00:00",
         null
        ],
        [
         "177",
         "2015-10-01 00:00:00",
         null
        ],
        [
         "186",
         "2016-07-01 00:00:00",
         null
        ],
        [
         "195",
         "2017-04-01 00:00:00",
         null
        ],
        [
         "199",
         "2017-08-01 00:00:00",
         null
        ]
       ],
       "shape": {
        "columns": 2,
        "rows": 19
       }
      },
      "text/html": [
       "<div>\n",
       "<style scoped>\n",
       "    .dataframe tbody tr th:only-of-type {\n",
       "        vertical-align: middle;\n",
       "    }\n",
       "\n",
       "    .dataframe tbody tr th {\n",
       "        vertical-align: top;\n",
       "    }\n",
       "\n",
       "    .dataframe thead th {\n",
       "        text-align: right;\n",
       "    }\n",
       "</style>\n",
       "<table border=\"1\" class=\"dataframe\">\n",
       "  <thead>\n",
       "    <tr style=\"text-align: right;\">\n",
       "      <th></th>\n",
       "      <th>DATE</th>\n",
       "      <th>Sales</th>\n",
       "    </tr>\n",
       "  </thead>\n",
       "  <tbody>\n",
       "    <tr>\n",
       "      <th>14</th>\n",
       "      <td>2002-03-01</td>\n",
       "      <td>NaN</td>\n",
       "    </tr>\n",
       "    <tr>\n",
       "      <th>15</th>\n",
       "      <td>2002-04-01</td>\n",
       "      <td>NaN</td>\n",
       "    </tr>\n",
       "    <tr>\n",
       "      <th>16</th>\n",
       "      <td>2002-05-01</td>\n",
       "      <td>NaN</td>\n",
       "    </tr>\n",
       "    <tr>\n",
       "      <th>34</th>\n",
       "      <td>2003-11-01</td>\n",
       "      <td>NaN</td>\n",
       "    </tr>\n",
       "    <tr>\n",
       "      <th>57</th>\n",
       "      <td>2005-10-01</td>\n",
       "      <td>NaN</td>\n",
       "    </tr>\n",
       "    <tr>\n",
       "      <th>75</th>\n",
       "      <td>2007-04-01</td>\n",
       "      <td>NaN</td>\n",
       "    </tr>\n",
       "    <tr>\n",
       "      <th>98</th>\n",
       "      <td>2009-03-01</td>\n",
       "      <td>NaN</td>\n",
       "    </tr>\n",
       "    <tr>\n",
       "      <th>120</th>\n",
       "      <td>2011-01-01</td>\n",
       "      <td>NaN</td>\n",
       "    </tr>\n",
       "    <tr>\n",
       "      <th>125</th>\n",
       "      <td>2011-06-01</td>\n",
       "      <td>NaN</td>\n",
       "    </tr>\n",
       "    <tr>\n",
       "      <th>136</th>\n",
       "      <td>2012-05-01</td>\n",
       "      <td>NaN</td>\n",
       "    </tr>\n",
       "    <tr>\n",
       "      <th>145</th>\n",
       "      <td>2013-02-01</td>\n",
       "      <td>NaN</td>\n",
       "    </tr>\n",
       "    <tr>\n",
       "      <th>154</th>\n",
       "      <td>2013-11-01</td>\n",
       "      <td>NaN</td>\n",
       "    </tr>\n",
       "    <tr>\n",
       "      <th>163</th>\n",
       "      <td>2014-08-01</td>\n",
       "      <td>NaN</td>\n",
       "    </tr>\n",
       "    <tr>\n",
       "      <th>171</th>\n",
       "      <td>2015-04-01</td>\n",
       "      <td>NaN</td>\n",
       "    </tr>\n",
       "    <tr>\n",
       "      <th>176</th>\n",
       "      <td>2015-09-01</td>\n",
       "      <td>NaN</td>\n",
       "    </tr>\n",
       "    <tr>\n",
       "      <th>177</th>\n",
       "      <td>2015-10-01</td>\n",
       "      <td>NaN</td>\n",
       "    </tr>\n",
       "    <tr>\n",
       "      <th>186</th>\n",
       "      <td>2016-07-01</td>\n",
       "      <td>NaN</td>\n",
       "    </tr>\n",
       "    <tr>\n",
       "      <th>195</th>\n",
       "      <td>2017-04-01</td>\n",
       "      <td>NaN</td>\n",
       "    </tr>\n",
       "    <tr>\n",
       "      <th>199</th>\n",
       "      <td>2017-08-01</td>\n",
       "      <td>NaN</td>\n",
       "    </tr>\n",
       "  </tbody>\n",
       "</table>\n",
       "</div>"
      ],
      "text/plain": [
       "          DATE  Sales\n",
       "14  2002-03-01    NaN\n",
       "15  2002-04-01    NaN\n",
       "16  2002-05-01    NaN\n",
       "34  2003-11-01    NaN\n",
       "57  2005-10-01    NaN\n",
       "75  2007-04-01    NaN\n",
       "98  2009-03-01    NaN\n",
       "120 2011-01-01    NaN\n",
       "125 2011-06-01    NaN\n",
       "136 2012-05-01    NaN\n",
       "145 2013-02-01    NaN\n",
       "154 2013-11-01    NaN\n",
       "163 2014-08-01    NaN\n",
       "171 2015-04-01    NaN\n",
       "176 2015-09-01    NaN\n",
       "177 2015-10-01    NaN\n",
       "186 2016-07-01    NaN\n",
       "195 2017-04-01    NaN\n",
       "199 2017-08-01    NaN"
      ]
     },
     "execution_count": 87,
     "metadata": {},
     "output_type": "execute_result"
    }
   ],
   "source": [
    "df[df.Sales.isna()]"
   ]
  },
  {
   "cell_type": "code",
   "execution_count": 88,
   "id": "97b15682",
   "metadata": {},
   "outputs": [
    {
     "data": {
      "application/vnd.microsoft.datawrangler.viewer.v0+json": {
       "columns": [
        {
         "name": "index",
         "rawType": "object",
         "type": "string"
        },
        {
         "name": "DATE",
         "rawType": "object",
         "type": "unknown"
        },
        {
         "name": "Sales",
         "rawType": "float64",
         "type": "float"
        }
       ],
       "ref": "de765f6c-4a60-444f-825f-6e819f0a856c",
       "rows": [
        [
         "count",
         "217",
         "198.0"
        ],
        [
         "mean",
         "2009-12-31 04:25:26.267281152",
         "10842.757575757576"
        ],
        [
         "min",
         "2001-01-01 00:00:00",
         "108.0"
        ],
        [
         "25%",
         "2005-07-01 00:00:00",
         "8856.0"
        ],
        [
         "50%",
         "2010-01-01 00:00:00",
         "10745.0"
        ],
        [
         "75%",
         "2014-07-01 00:00:00",
         "12399.75"
        ],
        [
         "max",
         "2019-01-01 00:00:00",
         "23740.0"
        ],
        [
         "std",
         null,
         "2605.0062933989047"
        ]
       ],
       "shape": {
        "columns": 2,
        "rows": 8
       }
      },
      "text/html": [
       "<div>\n",
       "<style scoped>\n",
       "    .dataframe tbody tr th:only-of-type {\n",
       "        vertical-align: middle;\n",
       "    }\n",
       "\n",
       "    .dataframe tbody tr th {\n",
       "        vertical-align: top;\n",
       "    }\n",
       "\n",
       "    .dataframe thead th {\n",
       "        text-align: right;\n",
       "    }\n",
       "</style>\n",
       "<table border=\"1\" class=\"dataframe\">\n",
       "  <thead>\n",
       "    <tr style=\"text-align: right;\">\n",
       "      <th></th>\n",
       "      <th>DATE</th>\n",
       "      <th>Sales</th>\n",
       "    </tr>\n",
       "  </thead>\n",
       "  <tbody>\n",
       "    <tr>\n",
       "      <th>count</th>\n",
       "      <td>217</td>\n",
       "      <td>198.000000</td>\n",
       "    </tr>\n",
       "    <tr>\n",
       "      <th>mean</th>\n",
       "      <td>2009-12-31 04:25:26.267281152</td>\n",
       "      <td>10842.757576</td>\n",
       "    </tr>\n",
       "    <tr>\n",
       "      <th>min</th>\n",
       "      <td>2001-01-01 00:00:00</td>\n",
       "      <td>108.000000</td>\n",
       "    </tr>\n",
       "    <tr>\n",
       "      <th>25%</th>\n",
       "      <td>2005-07-01 00:00:00</td>\n",
       "      <td>8856.000000</td>\n",
       "    </tr>\n",
       "    <tr>\n",
       "      <th>50%</th>\n",
       "      <td>2010-01-01 00:00:00</td>\n",
       "      <td>10745.000000</td>\n",
       "    </tr>\n",
       "    <tr>\n",
       "      <th>75%</th>\n",
       "      <td>2014-07-01 00:00:00</td>\n",
       "      <td>12399.750000</td>\n",
       "    </tr>\n",
       "    <tr>\n",
       "      <th>max</th>\n",
       "      <td>2019-01-01 00:00:00</td>\n",
       "      <td>23740.000000</td>\n",
       "    </tr>\n",
       "    <tr>\n",
       "      <th>std</th>\n",
       "      <td>NaN</td>\n",
       "      <td>2605.006293</td>\n",
       "    </tr>\n",
       "  </tbody>\n",
       "</table>\n",
       "</div>"
      ],
      "text/plain": [
       "                                DATE         Sales\n",
       "count                            217    198.000000\n",
       "mean   2009-12-31 04:25:26.267281152  10842.757576\n",
       "min              2001-01-01 00:00:00    108.000000\n",
       "25%              2005-07-01 00:00:00   8856.000000\n",
       "50%              2010-01-01 00:00:00  10745.000000\n",
       "75%              2014-07-01 00:00:00  12399.750000\n",
       "max              2019-01-01 00:00:00  23740.000000\n",
       "std                              NaN   2605.006293"
      ]
     },
     "execution_count": 88,
     "metadata": {},
     "output_type": "execute_result"
    }
   ],
   "source": [
    "# basic EDA\n",
    "df.describe()"
   ]
  },
  {
   "cell_type": "code",
   "execution_count": 89,
   "id": "a1f3574f",
   "metadata": {},
   "outputs": [
    {
     "data": {
      "application/vnd.microsoft.datawrangler.viewer.v0+json": {
       "columns": [
        {
         "name": "index",
         "rawType": "int64",
         "type": "integer"
        },
        {
         "name": "DATE",
         "rawType": "bool",
         "type": "boolean"
        }
       ],
       "ref": "cf2a6196-5cd9-43f5-83b4-8b22c7064257",
       "rows": [
        [
         "0",
         "False"
        ],
        [
         "1",
         "False"
        ],
        [
         "2",
         "False"
        ],
        [
         "3",
         "False"
        ],
        [
         "4",
         "False"
        ],
        [
         "5",
         "False"
        ],
        [
         "6",
         "False"
        ],
        [
         "7",
         "False"
        ],
        [
         "8",
         "False"
        ],
        [
         "9",
         "False"
        ],
        [
         "10",
         "False"
        ],
        [
         "11",
         "False"
        ],
        [
         "12",
         "False"
        ],
        [
         "13",
         "False"
        ],
        [
         "14",
         "False"
        ],
        [
         "15",
         "False"
        ],
        [
         "16",
         "False"
        ],
        [
         "17",
         "False"
        ],
        [
         "18",
         "False"
        ],
        [
         "19",
         "False"
        ],
        [
         "20",
         "False"
        ],
        [
         "21",
         "False"
        ],
        [
         "22",
         "False"
        ],
        [
         "23",
         "False"
        ],
        [
         "24",
         "False"
        ],
        [
         "25",
         "False"
        ],
        [
         "26",
         "False"
        ],
        [
         "27",
         "False"
        ],
        [
         "28",
         "False"
        ],
        [
         "29",
         "False"
        ],
        [
         "30",
         "False"
        ],
        [
         "31",
         "False"
        ],
        [
         "32",
         "False"
        ],
        [
         "33",
         "False"
        ],
        [
         "34",
         "False"
        ],
        [
         "35",
         "False"
        ],
        [
         "36",
         "False"
        ],
        [
         "37",
         "False"
        ],
        [
         "38",
         "False"
        ],
        [
         "39",
         "False"
        ],
        [
         "40",
         "False"
        ],
        [
         "41",
         "False"
        ],
        [
         "42",
         "False"
        ],
        [
         "43",
         "False"
        ],
        [
         "44",
         "False"
        ],
        [
         "45",
         "False"
        ],
        [
         "46",
         "False"
        ],
        [
         "47",
         "False"
        ],
        [
         "48",
         "False"
        ],
        [
         "49",
         "False"
        ]
       ],
       "shape": {
        "columns": 1,
        "rows": 217
       }
      },
      "text/plain": [
       "0      False\n",
       "1      False\n",
       "2      False\n",
       "3      False\n",
       "4      False\n",
       "       ...  \n",
       "212    False\n",
       "213    False\n",
       "214    False\n",
       "215    False\n",
       "216    False\n",
       "Name: DATE, Length: 217, dtype: bool"
      ]
     },
     "execution_count": 89,
     "metadata": {},
     "output_type": "execute_result"
    }
   ],
   "source": [
    "df.DATE.isnull()"
   ]
  },
  {
   "cell_type": "code",
   "execution_count": 90,
   "id": "879ecc40",
   "metadata": {},
   "outputs": [
    {
     "data": {
      "application/vnd.microsoft.datawrangler.viewer.v0+json": {
       "columns": [
        {
         "name": "index",
         "rawType": "object",
         "type": "string"
        },
        {
         "name": "DATE",
         "rawType": "object",
         "type": "unknown"
        }
       ],
       "ref": "8a0003c8-9df6-467d-bba6-3ff2bfff6b8e",
       "rows": [
        [
         "count",
         "217"
        ],
        [
         "mean",
         "2009-12-31 04:25:26.267281152"
        ],
        [
         "min",
         "2001-01-01 00:00:00"
        ],
        [
         "25%",
         "2005-07-01 00:00:00"
        ],
        [
         "50%",
         "2010-01-01 00:00:00"
        ],
        [
         "75%",
         "2014-07-01 00:00:00"
        ],
        [
         "max",
         "2019-01-01 00:00:00"
        ]
       ],
       "shape": {
        "columns": 1,
        "rows": 7
       }
      },
      "text/plain": [
       "count                              217\n",
       "mean     2009-12-31 04:25:26.267281152\n",
       "min                2001-01-01 00:00:00\n",
       "25%                2005-07-01 00:00:00\n",
       "50%                2010-01-01 00:00:00\n",
       "75%                2014-07-01 00:00:00\n",
       "max                2019-01-01 00:00:00\n",
       "Name: DATE, dtype: object"
      ]
     },
     "execution_count": 90,
     "metadata": {},
     "output_type": "execute_result"
    }
   ],
   "source": [
    "df.DATE.describe()"
   ]
  },
  {
   "cell_type": "code",
   "execution_count": 91,
   "id": "1b88a1f5",
   "metadata": {},
   "outputs": [
    {
     "data": {
      "application/vnd.microsoft.datawrangler.viewer.v0+json": {
       "columns": [
        {
         "name": "DATE",
         "rawType": "datetime64[ns]",
         "type": "datetime"
        },
        {
         "name": "Sales",
         "rawType": "float64",
         "type": "float"
        }
       ],
       "ref": "bd483e63-0d29-4f45-881a-3461da043fb8",
       "rows": [
        [
         "2001-01-01 00:00:00",
         "6519.0"
        ],
        [
         "2001-02-01 00:00:00",
         "6654.0"
        ]
       ],
       "shape": {
        "columns": 1,
        "rows": 2
       }
      },
      "text/html": [
       "<div>\n",
       "<style scoped>\n",
       "    .dataframe tbody tr th:only-of-type {\n",
       "        vertical-align: middle;\n",
       "    }\n",
       "\n",
       "    .dataframe tbody tr th {\n",
       "        vertical-align: top;\n",
       "    }\n",
       "\n",
       "    .dataframe thead th {\n",
       "        text-align: right;\n",
       "    }\n",
       "</style>\n",
       "<table border=\"1\" class=\"dataframe\">\n",
       "  <thead>\n",
       "    <tr style=\"text-align: right;\">\n",
       "      <th></th>\n",
       "      <th>Sales</th>\n",
       "    </tr>\n",
       "    <tr>\n",
       "      <th>DATE</th>\n",
       "      <th></th>\n",
       "    </tr>\n",
       "  </thead>\n",
       "  <tbody>\n",
       "    <tr>\n",
       "      <th>2001-01-01</th>\n",
       "      <td>6519.0</td>\n",
       "    </tr>\n",
       "    <tr>\n",
       "      <th>2001-02-01</th>\n",
       "      <td>6654.0</td>\n",
       "    </tr>\n",
       "  </tbody>\n",
       "</table>\n",
       "</div>"
      ],
      "text/plain": [
       "             Sales\n",
       "DATE              \n",
       "2001-01-01  6519.0\n",
       "2001-02-01  6654.0"
      ]
     },
     "execution_count": 91,
     "metadata": {},
     "output_type": "execute_result"
    }
   ],
   "source": [
    "df.set_index('DATE',inplace =True)\n",
    "df.head(2)"
   ]
  },
  {
   "cell_type": "code",
   "execution_count": 92,
   "id": "5ac5c47c",
   "metadata": {},
   "outputs": [
    {
     "data": {
      "image/png": "[encoded data removed]",
      "text/plain": [
       "<Figure size 640x480 with 1 Axes>"
      ]
     },
     "metadata": {},
     "output_type": "display_data"
    }
   ],
   "source": [
    "df.Sales.plot()\n",
    "plt.show()"
   ]
  },
  {
   "cell_type": "code",
   "execution_count": 95,
   "id": "5a2e0b4e",
   "metadata": {},
   "outputs": [],
   "source": [
    "# First method is basic statistics\n",
    "df_mean=df.Sales.fillna(df.Sales.mean())"
   ]
  },
  {
   "cell_type": "code",
   "execution_count": 96,
   "id": "3f5e9cf1",
   "metadata": {},
   "outputs": [
    {
     "data": {
      "text/plain": [
       "Text(0.5, 1.0, 'Original vs Imputed Data')"
      ]
     },
     "execution_count": 96,
     "metadata": {},
     "output_type": "execute_result"
    },
    {
     "data": {
      "image/png": "[encoded data removed]",
      "text/plain": [
       "<Figure size 640x480 with 1 Axes>"
      ]
     },
     "metadata": {},
     "output_type": "display_data"
    }
   ],
   "source": [
    "import matplotlib.pyplot as plt\n",
    "\n",
    "# Plot the imputed data\n",
    "df_mean.plot(label='Imputed')\n",
    "\n",
    "# Plot the original data on the same axes\n",
    "df.plot(label='Original', ax=plt.gca())  # Use same axes\n",
    "\n",
    "# Add a legend\n",
    "plt.legend()\n",
    "\n",
    "# Show the plot\n",
    "plt.title('Original vs Imputed Data')\n",
    "\n"
   ]
  },
  {
   "cell_type": "code",
   "execution_count": 97,
   "id": "051b6afb",
   "metadata": {},
   "outputs": [
    {
     "data": {
      "application/vnd.microsoft.datawrangler.viewer.v0+json": {
       "columns": [
        {
         "name": "DATE",
         "rawType": "datetime64[ns]",
         "type": "datetime"
        },
        {
         "name": "Sales",
         "rawType": "float64",
         "type": "float"
        }
       ],
       "ref": "bc47ea46-7874-4a5a-9f9b-0484ffdf7e4e",
       "rows": [
        [
         "2001-01-01 00:00:00",
         "6519.0"
        ],
        [
         "2001-02-01 00:00:00",
         "6654.0"
        ],
        [
         "2001-03-01 00:00:00",
         "7332.0"
        ],
        [
         "2001-04-01 00:00:00",
         "7332.0"
        ],
        [
         "2001-05-01 00:00:00",
         "8240.0"
        ],
        [
         "2001-06-01 00:00:00",
         "8104.0"
        ],
        [
         "2001-07-01 00:00:00",
         "7813.0"
        ],
        [
         "2001-08-01 00:00:00",
         "8279.0"
        ],
        [
         "2001-09-01 00:00:00",
         "7014.0"
        ],
        [
         "2001-10-01 00:00:00",
         "7985.0"
        ],
        [
         "2001-11-01 00:00:00",
         "8229.0"
        ],
        [
         "2001-12-01 00:00:00",
         "8618.0"
        ],
        [
         "2002-01-01 00:00:00",
         "6558.0"
        ],
        [
         "2002-02-01 00:00:00",
         "6882.0"
        ],
        [
         "2002-03-01 00:00:00",
         null
        ],
        [
         "2002-04-01 00:00:00",
         null
        ],
        [
         "2002-05-01 00:00:00",
         null
        ],
        [
         "2002-06-01 00:00:00",
         "8198.0"
        ],
        [
         "2002-07-01 00:00:00",
         "8396.0"
        ],
        [
         "2002-08-01 00:00:00",
         "8510.0"
        ],
        [
         "2002-09-01 00:00:00",
         "7589.0"
        ],
        [
         "2002-10-01 00:00:00",
         "8366.0"
        ],
        [
         "2002-11-01 00:00:00",
         "8156.0"
        ],
        [
         "2002-12-01 00:00:00",
         "9415.0"
        ],
        [
         "2003-01-01 00:00:00",
         "6765.0"
        ],
        [
         "2003-02-01 00:00:00",
         "7048.0"
        ],
        [
         "2003-03-01 00:00:00",
         "7856.0"
        ],
        [
         "2003-04-01 00:00:00",
         "8181.0"
        ],
        [
         "2003-05-01 00:00:00",
         "8581.0"
        ],
        [
         "2003-06-01 00:00:00",
         "8573.0"
        ],
        [
         "2003-07-01 00:00:00",
         "9008.0"
        ],
        [
         "2003-08-01 00:00:00",
         "8708.0"
        ],
        [
         "2003-09-01 00:00:00",
         "8074.0"
        ],
        [
         "2003-10-01 00:00:00",
         "9068.0"
        ],
        [
         "2003-11-01 00:00:00",
         null
        ],
        [
         "2003-12-01 00:00:00",
         "9981.0"
        ],
        [
         "2004-01-01 00:00:00",
         "7071.0"
        ],
        [
         "2004-02-01 00:00:00",
         "7339.0"
        ],
        [
         "2004-03-01 00:00:00",
         "8483.0"
        ],
        [
         "2004-04-01 00:00:00",
         "8536.0"
        ],
        [
         "2004-05-01 00:00:00",
         "8774.0"
        ],
        [
         "2004-06-01 00:00:00",
         "9355.0"
        ],
        [
         "2004-07-01 00:00:00",
         "8728.0"
        ],
        [
         "2004-08-01 00:00:00",
         "8835.0"
        ],
        [
         "2004-09-01 00:00:00",
         "8701.0"
        ],
        [
         "2004-10-01 00:00:00",
         "8709.0"
        ],
        [
         "2004-11-01 00:00:00",
         "9170.0"
        ],
        [
         "2004-12-01 00:00:00",
         "10499.0"
        ],
        [
         "2005-01-01 00:00:00",
         "6994.0"
        ],
        [
         "2005-02-01 00:00:00",
         "7675.0"
        ]
       ],
       "shape": {
        "columns": 1,
        "rows": 217
       }
      },
      "text/html": [
       "<div>\n",
       "<style scoped>\n",
       "    .dataframe tbody tr th:only-of-type {\n",
       "        vertical-align: middle;\n",
       "    }\n",
       "\n",
       "    .dataframe tbody tr th {\n",
       "        vertical-align: top;\n",
       "    }\n",
       "\n",
       "    .dataframe thead th {\n",
       "        text-align: right;\n",
       "    }\n",
       "</style>\n",
       "<table border=\"1\" class=\"dataframe\">\n",
       "  <thead>\n",
       "    <tr style=\"text-align: right;\">\n",
       "      <th></th>\n",
       "      <th>Sales</th>\n",
       "    </tr>\n",
       "    <tr>\n",
       "      <th>DATE</th>\n",
       "      <th></th>\n",
       "    </tr>\n",
       "  </thead>\n",
       "  <tbody>\n",
       "    <tr>\n",
       "      <th>2001-01-01</th>\n",
       "      <td>6519.0</td>\n",
       "    </tr>\n",
       "    <tr>\n",
       "      <th>2001-02-01</th>\n",
       "      <td>6654.0</td>\n",
       "    </tr>\n",
       "    <tr>\n",
       "      <th>2001-03-01</th>\n",
       "      <td>7332.0</td>\n",
       "    </tr>\n",
       "    <tr>\n",
       "      <th>2001-04-01</th>\n",
       "      <td>7332.0</td>\n",
       "    </tr>\n",
       "    <tr>\n",
       "      <th>2001-05-01</th>\n",
       "      <td>8240.0</td>\n",
       "    </tr>\n",
       "    <tr>\n",
       "      <th>...</th>\n",
       "      <td>...</td>\n",
       "    </tr>\n",
       "    <tr>\n",
       "      <th>2018-09-01</th>\n",
       "      <td>13838.0</td>\n",
       "    </tr>\n",
       "    <tr>\n",
       "      <th>2018-10-01</th>\n",
       "      <td>15351.0</td>\n",
       "    </tr>\n",
       "    <tr>\n",
       "      <th>2018-11-01</th>\n",
       "      <td>15615.0</td>\n",
       "    </tr>\n",
       "    <tr>\n",
       "      <th>2018-12-01</th>\n",
       "      <td>16941.0</td>\n",
       "    </tr>\n",
       "    <tr>\n",
       "      <th>2019-01-01</th>\n",
       "      <td>12160.0</td>\n",
       "    </tr>\n",
       "  </tbody>\n",
       "</table>\n",
       "<p>217 rows × 1 columns</p>\n",
       "</div>"
      ],
      "text/plain": [
       "              Sales\n",
       "DATE               \n",
       "2001-01-01   6519.0\n",
       "2001-02-01   6654.0\n",
       "2001-03-01   7332.0\n",
       "2001-04-01   7332.0\n",
       "2001-05-01   8240.0\n",
       "...             ...\n",
       "2018-09-01  13838.0\n",
       "2018-10-01  15351.0\n",
       "2018-11-01  15615.0\n",
       "2018-12-01  16941.0\n",
       "2019-01-01  12160.0\n",
       "\n",
       "[217 rows x 1 columns]"
      ]
     },
     "execution_count": 97,
     "metadata": {},
     "output_type": "execute_result"
    }
   ],
   "source": [
    "# Second is backfill and forward fill\n",
    "df"
   ]
  },
  {
   "cell_type": "code",
   "execution_count": 98,
   "id": "2badd12b",
   "metadata": {},
   "outputs": [
    {
     "name": "stderr",
     "output_type": "stream",
     "text": [
      "C:\\Users\\muhammad waseem\\AppData\\Local\\Temp\\ipykernel_13516\\453849651.py:1: FutureWarning: Series.fillna with 'method' is deprecated and will raise in a future version. Use obj.ffill() or obj.bfill() instead.\n",
      "  df_back=df.Sales.fillna(method='bfill')\n"
     ]
    }
   ],
   "source": [
    "df_back=df.Sales.fillna(method='bfill')"
   ]
  },
  {
   "cell_type": "code",
   "execution_count": 99,
   "id": "a41bc2a2",
   "metadata": {},
   "outputs": [
    {
     "data": {
      "text/plain": [
       "Text(0.5, 1.0, 'Original vs Imputed Data')"
      ]
     },
     "execution_count": 99,
     "metadata": {},
     "output_type": "execute_result"
    },
    {
     "data": {
      "image/png": "[encoded data removed]",
      "text/plain": [
       "<Figure size 640x480 with 1 Axes>"
      ]
     },
     "metadata": {},
     "output_type": "display_data"
    }
   ],
   "source": [
    "df_back.plot(label='Imputed')\n",
    "\n",
    "# Plot the original data on the same axes\n",
    "df.plot(label='Original', ax=plt.gca())  # Use same axes\n",
    "\n",
    "# Add a legend\n",
    "plt.legend()\n",
    "\n",
    "# Show the plot\n",
    "plt.title('Original vs Imputed Data')"
   ]
  },
  {
   "cell_type": "code",
   "execution_count": 100,
   "id": "593a6329",
   "metadata": {},
   "outputs": [
    {
     "name": "stderr",
     "output_type": "stream",
     "text": [
      "C:\\Users\\muhammad waseem\\AppData\\Local\\Temp\\ipykernel_13516\\2860102439.py:2: FutureWarning: Series.fillna with 'method' is deprecated and will raise in a future version. Use obj.ffill() or obj.bfill() instead.\n",
      "  df_f=df.Sales.fillna(method='ffill')\n"
     ]
    },
    {
     "data": {
      "text/plain": [
       "Text(0.5, 1.0, 'Original vs Imputed Data')"
      ]
     },
     "execution_count": 100,
     "metadata": {},
     "output_type": "execute_result"
    },
    {
     "data": {
      "image/png": "[encoded data removed]",
      "text/plain": [
       "<Figure size 640x480 with 1 Axes>"
      ]
     },
     "metadata": {},
     "output_type": "display_data"
    }
   ],
   "source": [
    "# Ffill\n",
    "df_f=df.Sales.fillna(method='ffill')\n",
    "df_f.plot(label='Imputed')\n",
    "\n",
    "# Plot the original data on the same axes\n",
    "df.plot(label='Original', ax=plt.gca())  # Use same axes\n",
    "\n",
    "# Add a legend\n",
    "plt.legend()\n",
    "\n",
    "# Show the plot\n",
    "plt.title('Original vs Imputed Data')"
   ]
  },
  {
   "cell_type": "code",
   "execution_count": 103,
   "id": "0dce7765",
   "metadata": {},
   "outputs": [
    {
     "data": {
      "text/plain": [
       "Text(0.5, 1.0, 'Original vs Imputed Data')"
      ]
     },
     "execution_count": 103,
     "metadata": {},
     "output_type": "execute_result"
    },
    {
     "data": {
      "image/png": "[encoded data removed]",
      "text/plain": [
       "<Figure size 640x480 with 1 Axes>"
      ]
     },
     "metadata": {},
     "output_type": "display_data"
    }
   ],
   "source": [
    "# Fourth is linear interplotion\n",
    "df_linear=df.Sales.interpolate(method='linear')\n",
    "df_linear.plot(label='Imputed')\n",
    "\n",
    "# Plot the original data on the same axes\n",
    "df.plot(label='Original', ax=plt.gca())  # Use same axes\n",
    "\n",
    "# Add a legend\n",
    "plt.legend()\n",
    "\n",
    "# Show the plot\n",
    "plt.title('Original vs Imputed Data')"
   ]
  },
  {
   "cell_type": "markdown",
   "id": "d7a82348",
   "metadata": {},
   "source": [
    "### These are method use for treeting in dataset when its has missing values"
   ]
  },
  {
   "cell_type": "markdown",
   "id": "dffea417",
   "metadata": {},
   "source": []
  }
 ],
 "metadata": {
  "kernelspec": {
   "display_name": "Python 3",
   "language": "python",
   "name": "python3"
  },
  "language_info": {
   "codemirror_mode": {
    "name": "ipython",
    "version": 3
   },
   "file_extension": ".py",
   "mimetype": "text/x-python",
   "name": "python",
   "nbconvert_exporter": "python",
   "pygments_lexer": "ipython3",
   "version": "3.13.0"
  }
 },
 "nbformat": 4,
 "nbformat_minor": 5
}
