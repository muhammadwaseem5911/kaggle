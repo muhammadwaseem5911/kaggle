{
 "cells": [
  {
   "cell_type": "code",
   "execution_count": 178,
   "id": "daa0cd2b",
   "metadata": {},
   "outputs": [],
   "source": [
    "import pandas as pd\n",
    "import yfinance as yf"
   ]
  },
  {
   "cell_type": "code",
   "execution_count": 2,
   "id": "6f483944",
   "metadata": {},
   "outputs": [],
   "source": [
    "import yfinance as yf\n",
    "Ticker=\"NFLX\""
   ]
  },
  {
   "cell_type": "code",
   "execution_count": 4,
   "id": "f3f8c690",
   "metadata": {},
   "outputs": [
    {
     "name": "stderr",
     "output_type": "stream",
     "text": [
      "C:\\Users\\muhammad waseem\\AppData\\Local\\Temp\\ipykernel_19552\\669727553.py:1: FutureWarning: YF.download() has changed argument auto_adjust default to True\n",
      "  df=yf.download(Ticker,period='3y')\n",
      "[*********************100%***********************]  1 of 1 completed\n"
     ]
    }
   ],
   "source": [
    "df=yf.download(Ticker,period='3y')\n",
    "df.to_csv(''+Ticker+'netflix.csv')"
   ]
  },
  {
   "cell_type": "code",
   "execution_count": 181,
   "id": "85669749",
   "metadata": {},
   "outputs": [
    {
     "data": {
      "text/plain": [
       "MultiIndex([( 'Close', 'NFLX'),\n",
       "            (  'High', 'NFLX'),\n",
       "            (   'Low', 'NFLX'),\n",
       "            (  'Open', 'NFLX'),\n",
       "            ('Volume', 'NFLX')],\n",
       "           names=['Price', 'Ticker'])"
      ]
     },
     "execution_count": 181,
     "metadata": {},
     "output_type": "execute_result"
    }
   ],
   "source": [
    "df.columns\n"
   ]
  },
  {
   "cell_type": "code",
   "execution_count": 182,
   "id": "f8b428eb",
   "metadata": {},
   "outputs": [
    {
     "data": {
      "text/plain": [
       "(752, 5)"
      ]
     },
     "execution_count": 182,
     "metadata": {},
     "output_type": "execute_result"
    }
   ],
   "source": [
    "df.shape"
   ]
  },
  {
   "cell_type": "code",
   "execution_count": 183,
   "id": "eb668b58",
   "metadata": {},
   "outputs": [
    {
     "name": "stdout",
     "output_type": "stream",
     "text": [
      "<class 'pandas.core.frame.DataFrame'>\n",
      "DatetimeIndex: 752 entries, 2022-07-14 to 2025-07-14\n",
      "Data columns (total 5 columns):\n",
      " #   Column          Non-Null Count  Dtype  \n",
      "---  ------          --------------  -----  \n",
      " 0   (Close, NFLX)   752 non-null    float64\n",
      " 1   (High, NFLX)    752 non-null    float64\n",
      " 2   (Low, NFLX)     752 non-null    float64\n",
      " 3   (Open, NFLX)    752 non-null    float64\n",
      " 4   (Volume, NFLX)  752 non-null    int64  \n",
      "dtypes: float64(4), int64(1)\n",
      "memory usage: 35.2 KB\n"
     ]
    }
   ],
   "source": [
    "df.info()"
   ]
  },
  {
   "cell_type": "code",
   "execution_count": null,
   "id": "d13c55a0",
   "metadata": {},
   "outputs": [
    {
     "data": {
      "application/vnd.microsoft.datawrangler.viewer.v0+json": {
       "columns": [
        {
         "name": "Date",
         "rawType": "datetime64[ns]",
         "type": "datetime"
        },
        {
         "name": "('Close', 'NFLX')",
         "rawType": "float64",
         "type": "float"
        },
        {
         "name": "('High', 'NFLX')",
         "rawType": "float64",
         "type": "float"
        },
        {
         "name": "('Low', 'NFLX')",
         "rawType": "float64",
         "type": "float"
        },
        {
         "name": "('Open', 'NFLX')",
         "rawType": "float64",
         "type": "float"
        },
        {
         "name": "('Volume', 'NFLX')",
         "rawType": "int64",
         "type": "integer"
        }
       ],
       "ref": "18b6b1c8-187b-4353-b431-a813b1256a7e",
       "rows": [
        [
         "2022-07-14 00:00:00",
         "174.77999877929688",
         "177.52000427246094",
         "171.82000732421875",
         "175.55999755859375",
         "9039500"
        ],
        [
         "2022-07-15 00:00:00",
         "189.11000061035156",
         "189.22000122070312",
         "174.55999755859375",
         "175.5800018310547",
         "16319100"
        ],
        [
         "2022-07-18 00:00:00",
         "190.9199981689453",
         "199.6699981689453",
         "189.8000030517578",
         "192.5",
         "16322800"
        ],
        [
         "2022-07-19 00:00:00",
         "201.6300048828125",
         "201.97000122070312",
         "188.39999389648438",
         "193.02000427246094",
         "28178700"
        ],
        [
         "2022-07-20 00:00:00",
         "216.44000244140625",
         "216.97000122070312",
         "200.10000610351562",
         "208.1699981689453",
         "53920300"
        ],
        [
         "2022-07-21 00:00:00",
         "223.8800048828125",
         "224.32000732421875",
         "211.5",
         "214.3000030517578",
         "23430100"
        ],
        [
         "2022-07-22 00:00:00",
         "220.44000244140625",
         "229.35000610351562",
         "218.44000244140625",
         "222.3800048828125",
         "17805500"
        ],
        [
         "2022-07-25 00:00:00",
         "218.50999450683594",
         "225.22999572753906",
         "216.35000610351562",
         "221.30999755859375",
         "10935200"
        ],
        [
         "2022-07-26 00:00:00",
         "213.91000366210938",
         "219.38999938964844",
         "211.63999938964844",
         "216.66000366210938",
         "9508500"
        ],
        [
         "2022-07-27 00:00:00",
         "226.75",
         "227.77999877929688",
         "214.5800018310547",
         "216.47999572753906",
         "10508400"
        ],
        [
         "2022-07-28 00:00:00",
         "226.02000427246094",
         "228.10000610351562",
         "219.6699981689453",
         "224.60000610351562",
         "8972700"
        ],
        [
         "2022-07-29 00:00:00",
         "224.89999389648438",
         "230.75",
         "222.39999389648438",
         "223.2899932861328",
         "9064900"
        ],
        [
         "2022-08-01 00:00:00",
         "226.2100067138672",
         "228.38999938964844",
         "221.0",
         "223.10000610351562",
         "5525000"
        ],
        [
         "2022-08-02 00:00:00",
         "221.4199981689453",
         "228.1999969482422",
         "220.8800048828125",
         "222.75999450683594",
         "6361300"
        ],
        [
         "2022-08-03 00:00:00",
         "226.72999572753906",
         "228.10000610351562",
         "222.4199981689453",
         "224.7899932861328",
         "6400700"
        ],
        [
         "2022-08-04 00:00:00",
         "229.91000366210938",
         "232.07000732421875",
         "225.0500030517578",
         "227.67999267578125",
         "7142700"
        ],
        [
         "2022-08-05 00:00:00",
         "226.77999877929688",
         "228.6199951171875",
         "222.8699951171875",
         "225.3000030517578",
         "5539700"
        ],
        [
         "2022-08-08 00:00:00",
         "233.49000549316406",
         "241.9600067138672",
         "226.41000366210938",
         "227.49000549316406",
         "10982100"
        ],
        [
         "2022-08-09 00:00:00",
         "229.94000244140625",
         "232.1999969482422",
         "224.64999389648438",
         "231.6199951171875",
         "6181200"
        ],
        [
         "2022-08-10 00:00:00",
         "244.11000061035156",
         "244.5399932861328",
         "236.60000610351562",
         "236.99000549316406",
         "9254800"
        ],
        [
         "2022-08-11 00:00:00",
         "242.6999969482422",
         "251.6199951171875",
         "241.50999450683594",
         "244.67999267578125",
         "8780100"
        ],
        [
         "2022-08-12 00:00:00",
         "249.3000030517578",
         "249.41000366210938",
         "243.75999450683594",
         "244.80999755859375",
         "6098500"
        ],
        [
         "2022-08-15 00:00:00",
         "249.11000061035156",
         "251.99000549316406",
         "247.50999450683594",
         "248.11000061035156",
         "6527400"
        ],
        [
         "2022-08-16 00:00:00",
         "245.69000244140625",
         "249.2899932861328",
         "244.02999877929688",
         "247.16000366210938",
         "5136800"
        ],
        [
         "2022-08-17 00:00:00",
         "241.14999389648438",
         "244.24000549316406",
         "237.55999755859375",
         "241.17999267578125",
         "5627200"
        ],
        [
         "2022-08-18 00:00:00",
         "245.1699981689453",
         "246.47999572753906",
         "239.27999877929688",
         "241.9600067138672",
         "5280400"
        ],
        [
         "2022-08-19 00:00:00",
         "241.16000366210938",
         "243.2899932861328",
         "235.67999267578125",
         "240.9499969482422",
         "7504700"
        ],
        [
         "2022-08-22 00:00:00",
         "226.5399932861328",
         "233.47999572753906",
         "224.58999633789062",
         "232.5500030517578",
         "8630100"
        ],
        [
         "2022-08-23 00:00:00",
         "224.5500030517578",
         "229.89999389648438",
         "224.3000030517578",
         "226.4600067138672",
         "5276900"
        ],
        [
         "2022-08-24 00:00:00",
         "229.61000061035156",
         "234.10000610351562",
         "223.94000244140625",
         "225.66000366210938",
         "5426300"
        ],
        [
         "2022-08-25 00:00:00",
         "233.97999572753906",
         "234.16000366210938",
         "229.0",
         "230.24000549316406",
         "3766900"
        ],
        [
         "2022-08-26 00:00:00",
         "223.27999877929688",
         "236.9499969482422",
         "223.14999389648438",
         "233.6300048828125",
         "5349800"
        ],
        [
         "2022-08-29 00:00:00",
         "224.57000732421875",
         "229.8699951171875",
         "221.52000427246094",
         "221.92999267578125",
         "7109400"
        ],
        [
         "2022-08-30 00:00:00",
         "220.64999389648438",
         "229.7899932861328",
         "218.74000549316406",
         "226.66000366210938",
         "5740400"
        ],
        [
         "2022-08-31 00:00:00",
         "223.55999755859375",
         "233.8800048828125",
         "223.42999267578125",
         "227.0",
         "8615900"
        ],
        [
         "2022-09-01 00:00:00",
         "230.0399932861328",
         "230.3699951171875",
         "219.47000122070312",
         "220.72000122070312",
         "7292900"
        ],
        [
         "2022-09-02 00:00:00",
         "226.11000061035156",
         "233.8800048828125",
         "225.0399932861328",
         "231.02999877929688",
         "8164900"
        ],
        [
         "2022-09-06 00:00:00",
         "218.38999938964844",
         "226.85000610351562",
         "214.69000244140625",
         "225.58999633789062",
         "7469000"
        ],
        [
         "2022-09-07 00:00:00",
         "228.9600067138672",
         "229.3300018310547",
         "218.27000427246094",
         "220.2100067138672",
         "8149300"
        ],
        [
         "2022-09-08 00:00:00",
         "227.44000244140625",
         "228.74000549316406",
         "221.3000030517578",
         "224.16000366210938",
         "6737400"
        ],
        [
         "2022-09-09 00:00:00",
         "233.57000732421875",
         "234.77999877929688",
         "229.6199951171875",
         "229.6199951171875",
         "6699600"
        ],
        [
         "2022-09-12 00:00:00",
         "236.52999877929688",
         "239.49000549316406",
         "233.3699951171875",
         "233.61000061035156",
         "6047400"
        ],
        [
         "2022-09-13 00:00:00",
         "218.1300048828125",
         "227.69000244140625",
         "217.72000122070312",
         "226.5",
         "8000100"
        ],
        [
         "2022-09-14 00:00:00",
         "224.1199951171875",
         "228.0",
         "215.8000030517578",
         "219.82000732421875",
         "8230300"
        ],
        [
         "2022-09-15 00:00:00",
         "235.3800048828125",
         "242.2899932861328",
         "229.10000610351562",
         "230.47000122070312",
         "19454100"
        ],
        [
         "2022-09-16 00:00:00",
         "240.1300048828125",
         "241.36000061035156",
         "227.8300018310547",
         "231.22000122070312",
         "18914200"
        ],
        [
         "2022-09-19 00:00:00",
         "243.6300048828125",
         "245.25",
         "235.75",
         "245.0500030517578",
         "17912400"
        ],
        [
         "2022-09-20 00:00:00",
         "242.85000610351562",
         "250.49000549316406",
         "239.66000366210938",
         "240.3699951171875",
         "16037400"
        ],
        [
         "2022-09-21 00:00:00",
         "236.8699951171875",
         "248.3000030517578",
         "236.67999267578125",
         "242.6699981689453",
         "9166800"
        ],
        [
         "2022-09-22 00:00:00",
         "237.0500030517578",
         "240.5",
         "231.66000366210938",
         "235.35000610351562",
         "10018000"
        ]
       ],
       "shape": {
        "columns": 5,
        "rows": 752
       }
      },
      "text/html": [
       "<div>\n",
       "<style scoped>\n",
       "    .dataframe tbody tr th:only-of-type {\n",
       "        vertical-align: middle;\n",
       "    }\n",
       "\n",
       "    .dataframe tbody tr th {\n",
       "        vertical-align: top;\n",
       "    }\n",
       "\n",
       "    .dataframe thead tr th {\n",
       "        text-align: left;\n",
       "    }\n",
       "\n",
       "    .dataframe thead tr:last-of-type th {\n",
       "        text-align: right;\n",
       "    }\n",
       "</style>\n",
       "<table border=\"1\" class=\"dataframe\">\n",
       "  <thead>\n",
       "    <tr>\n",
       "      <th>Price</th>\n",
       "      <th>Close</th>\n",
       "      <th>High</th>\n",
       "      <th>Low</th>\n",
       "      <th>Open</th>\n",
       "      <th>Volume</th>\n",
       "    </tr>\n",
       "    <tr>\n",
       "      <th>Ticker</th>\n",
       "      <th>NFLX</th>\n",
       "      <th>NFLX</th>\n",
       "      <th>NFLX</th>\n",
       "      <th>NFLX</th>\n",
       "      <th>NFLX</th>\n",
       "    </tr>\n",
       "    <tr>\n",
       "      <th>Date</th>\n",
       "      <th></th>\n",
       "      <th></th>\n",
       "      <th></th>\n",
       "      <th></th>\n",
       "      <th></th>\n",
       "    </tr>\n",
       "  </thead>\n",
       "  <tbody>\n",
       "    <tr>\n",
       "      <th>2022-07-14</th>\n",
       "      <td>174.779999</td>\n",
       "      <td>177.520004</td>\n",
       "      <td>171.820007</td>\n",
       "      <td>175.559998</td>\n",
       "      <td>9039500</td>\n",
       "    </tr>\n",
       "    <tr>\n",
       "      <th>2022-07-15</th>\n",
       "      <td>189.110001</td>\n",
       "      <td>189.220001</td>\n",
       "      <td>174.559998</td>\n",
       "      <td>175.580002</td>\n",
       "      <td>16319100</td>\n",
       "    </tr>\n",
       "    <tr>\n",
       "      <th>2022-07-18</th>\n",
       "      <td>190.919998</td>\n",
       "      <td>199.669998</td>\n",
       "      <td>189.800003</td>\n",
       "      <td>192.500000</td>\n",
       "      <td>16322800</td>\n",
       "    </tr>\n",
       "    <tr>\n",
       "      <th>2022-07-19</th>\n",
       "      <td>201.630005</td>\n",
       "      <td>201.970001</td>\n",
       "      <td>188.399994</td>\n",
       "      <td>193.020004</td>\n",
       "      <td>28178700</td>\n",
       "    </tr>\n",
       "    <tr>\n",
       "      <th>2022-07-20</th>\n",
       "      <td>216.440002</td>\n",
       "      <td>216.970001</td>\n",
       "      <td>200.100006</td>\n",
       "      <td>208.169998</td>\n",
       "      <td>53920300</td>\n",
       "    </tr>\n",
       "    <tr>\n",
       "      <th>...</th>\n",
       "      <td>...</td>\n",
       "      <td>...</td>\n",
       "      <td>...</td>\n",
       "      <td>...</td>\n",
       "      <td>...</td>\n",
       "    </tr>\n",
       "    <tr>\n",
       "      <th>2025-07-08</th>\n",
       "      <td>1275.310059</td>\n",
       "      <td>1293.250000</td>\n",
       "      <td>1260.000000</td>\n",
       "      <td>1290.900024</td>\n",
       "      <td>3292500</td>\n",
       "    </tr>\n",
       "    <tr>\n",
       "      <th>2025-07-09</th>\n",
       "      <td>1288.280029</td>\n",
       "      <td>1288.290039</td>\n",
       "      <td>1266.239990</td>\n",
       "      <td>1273.989990</td>\n",
       "      <td>2384500</td>\n",
       "    </tr>\n",
       "    <tr>\n",
       "      <th>2025-07-10</th>\n",
       "      <td>1250.589966</td>\n",
       "      <td>1289.599976</td>\n",
       "      <td>1246.010010</td>\n",
       "      <td>1285.500000</td>\n",
       "      <td>4230800</td>\n",
       "    </tr>\n",
       "    <tr>\n",
       "      <th>2025-07-11</th>\n",
       "      <td>1245.109985</td>\n",
       "      <td>1261.000000</td>\n",
       "      <td>1231.300049</td>\n",
       "      <td>1259.790039</td>\n",
       "      <td>3950500</td>\n",
       "    </tr>\n",
       "    <tr>\n",
       "      <th>2025-07-14</th>\n",
       "      <td>1267.505005</td>\n",
       "      <td>1270.489990</td>\n",
       "      <td>1240.000000</td>\n",
       "      <td>1244.910034</td>\n",
       "      <td>1934797</td>\n",
       "    </tr>\n",
       "  </tbody>\n",
       "</table>\n",
       "<p>752 rows × 5 columns</p>\n",
       "</div>"
      ],
      "text/plain": [
       "Price             Close         High          Low         Open    Volume\n",
       "Ticker             NFLX         NFLX         NFLX         NFLX      NFLX\n",
       "Date                                                                    \n",
       "2022-07-14   174.779999   177.520004   171.820007   175.559998   9039500\n",
       "2022-07-15   189.110001   189.220001   174.559998   175.580002  16319100\n",
       "2022-07-18   190.919998   199.669998   189.800003   192.500000  16322800\n",
       "2022-07-19   201.630005   201.970001   188.399994   193.020004  28178700\n",
       "2022-07-20   216.440002   216.970001   200.100006   208.169998  53920300\n",
       "...                 ...          ...          ...          ...       ...\n",
       "2025-07-08  1275.310059  1293.250000  1260.000000  1290.900024   3292500\n",
       "2025-07-09  1288.280029  1288.290039  1266.239990  1273.989990   2384500\n",
       "2025-07-10  1250.589966  1289.599976  1246.010010  1285.500000   4230800\n",
       "2025-07-11  1245.109985  1261.000000  1231.300049  1259.790039   3950500\n",
       "2025-07-14  1267.505005  1270.489990  1240.000000  1244.910034   1934797\n",
       "\n",
       "[752 rows x 5 columns]"
      ]
     },
     "execution_count": 184,
     "metadata": {},
     "output_type": "execute_result"
    }
   ],
   "source": [
    "df.rename(columns={'(High, NFLX)':'high'},inplace=True)\n"
   ]
  },
  {
   "cell_type": "code",
   "execution_count": 185,
   "id": "5da0dc09",
   "metadata": {},
   "outputs": [],
   "source": [
    "close_df=df['Close']\n",
    "reset_index=close_df['NFLX'].reset_index()"
   ]
  },
  {
   "cell_type": "code",
   "execution_count": 186,
   "id": "7f71d838",
   "metadata": {},
   "outputs": [],
   "source": [
    "df_c1=reset_index.rename(columns={'NFLX':'close'})\n",
    "df_c1['Date'] = pd.to_datetime(df_c1['Date'])"
   ]
  },
  {
   "cell_type": "code",
   "execution_count": 187,
   "id": "58ba3fb6",
   "metadata": {},
   "outputs": [
    {
     "data": {
      "application/vnd.microsoft.datawrangler.viewer.v0+json": {
       "columns": [
        {
         "name": "index",
         "rawType": "int64",
         "type": "integer"
        },
        {
         "name": "Date",
         "rawType": "datetime64[ns]",
         "type": "datetime"
        },
        {
         "name": "close",
         "rawType": "float64",
         "type": "float"
        }
       ],
       "ref": "4323083d-3c3f-4a80-9c25-cf130e8e0f64",
       "rows": [
        [
         "0",
         "2022-07-14 00:00:00",
         "174.77999877929688"
        ],
        [
         "1",
         "2022-07-15 00:00:00",
         "189.11000061035156"
        ],
        [
         "2",
         "2022-07-18 00:00:00",
         "190.9199981689453"
        ],
        [
         "3",
         "2022-07-19 00:00:00",
         "201.6300048828125"
        ],
        [
         "4",
         "2022-07-20 00:00:00",
         "216.44000244140625"
        ],
        [
         "5",
         "2022-07-21 00:00:00",
         "223.8800048828125"
        ],
        [
         "6",
         "2022-07-22 00:00:00",
         "220.44000244140625"
        ],
        [
         "7",
         "2022-07-25 00:00:00",
         "218.50999450683594"
        ],
        [
         "8",
         "2022-07-26 00:00:00",
         "213.91000366210938"
        ],
        [
         "9",
         "2022-07-27 00:00:00",
         "226.75"
        ],
        [
         "10",
         "2022-07-28 00:00:00",
         "226.02000427246094"
        ],
        [
         "11",
         "2022-07-29 00:00:00",
         "224.89999389648438"
        ],
        [
         "12",
         "2022-08-01 00:00:00",
         "226.2100067138672"
        ],
        [
         "13",
         "2022-08-02 00:00:00",
         "221.4199981689453"
        ],
        [
         "14",
         "2022-08-03 00:00:00",
         "226.72999572753906"
        ],
        [
         "15",
         "2022-08-04 00:00:00",
         "229.91000366210938"
        ],
        [
         "16",
         "2022-08-05 00:00:00",
         "226.77999877929688"
        ],
        [
         "17",
         "2022-08-08 00:00:00",
         "233.49000549316406"
        ],
        [
         "18",
         "2022-08-09 00:00:00",
         "229.94000244140625"
        ],
        [
         "19",
         "2022-08-10 00:00:00",
         "244.11000061035156"
        ],
        [
         "20",
         "2022-08-11 00:00:00",
         "242.6999969482422"
        ],
        [
         "21",
         "2022-08-12 00:00:00",
         "249.3000030517578"
        ],
        [
         "22",
         "2022-08-15 00:00:00",
         "249.11000061035156"
        ],
        [
         "23",
         "2022-08-16 00:00:00",
         "245.69000244140625"
        ],
        [
         "24",
         "2022-08-17 00:00:00",
         "241.14999389648438"
        ],
        [
         "25",
         "2022-08-18 00:00:00",
         "245.1699981689453"
        ],
        [
         "26",
         "2022-08-19 00:00:00",
         "241.16000366210938"
        ],
        [
         "27",
         "2022-08-22 00:00:00",
         "226.5399932861328"
        ],
        [
         "28",
         "2022-08-23 00:00:00",
         "224.5500030517578"
        ],
        [
         "29",
         "2022-08-24 00:00:00",
         "229.61000061035156"
        ],
        [
         "30",
         "2022-08-25 00:00:00",
         "233.97999572753906"
        ],
        [
         "31",
         "2022-08-26 00:00:00",
         "223.27999877929688"
        ],
        [
         "32",
         "2022-08-29 00:00:00",
         "224.57000732421875"
        ],
        [
         "33",
         "2022-08-30 00:00:00",
         "220.64999389648438"
        ],
        [
         "34",
         "2022-08-31 00:00:00",
         "223.55999755859375"
        ],
        [
         "35",
         "2022-09-01 00:00:00",
         "230.0399932861328"
        ],
        [
         "36",
         "2022-09-02 00:00:00",
         "226.11000061035156"
        ],
        [
         "37",
         "2022-09-06 00:00:00",
         "218.38999938964844"
        ],
        [
         "38",
         "2022-09-07 00:00:00",
         "228.9600067138672"
        ],
        [
         "39",
         "2022-09-08 00:00:00",
         "227.44000244140625"
        ],
        [
         "40",
         "2022-09-09 00:00:00",
         "233.57000732421875"
        ],
        [
         "41",
         "2022-09-12 00:00:00",
         "236.52999877929688"
        ],
        [
         "42",
         "2022-09-13 00:00:00",
         "218.1300048828125"
        ],
        [
         "43",
         "2022-09-14 00:00:00",
         "224.1199951171875"
        ],
        [
         "44",
         "2022-09-15 00:00:00",
         "235.3800048828125"
        ],
        [
         "45",
         "2022-09-16 00:00:00",
         "240.1300048828125"
        ],
        [
         "46",
         "2022-09-19 00:00:00",
         "243.6300048828125"
        ],
        [
         "47",
         "2022-09-20 00:00:00",
         "242.85000610351562"
        ],
        [
         "48",
         "2022-09-21 00:00:00",
         "236.8699951171875"
        ],
        [
         "49",
         "2022-09-22 00:00:00",
         "237.0500030517578"
        ]
       ],
       "shape": {
        "columns": 2,
        "rows": 752
       }
      },
      "text/html": [
       "<div>\n",
       "<style scoped>\n",
       "    .dataframe tbody tr th:only-of-type {\n",
       "        vertical-align: middle;\n",
       "    }\n",
       "\n",
       "    .dataframe tbody tr th {\n",
       "        vertical-align: top;\n",
       "    }\n",
       "\n",
       "    .dataframe thead th {\n",
       "        text-align: right;\n",
       "    }\n",
       "</style>\n",
       "<table border=\"1\" class=\"dataframe\">\n",
       "  <thead>\n",
       "    <tr style=\"text-align: right;\">\n",
       "      <th></th>\n",
       "      <th>Date</th>\n",
       "      <th>close</th>\n",
       "    </tr>\n",
       "  </thead>\n",
       "  <tbody>\n",
       "    <tr>\n",
       "      <th>0</th>\n",
       "      <td>2022-07-14</td>\n",
       "      <td>174.779999</td>\n",
       "    </tr>\n",
       "    <tr>\n",
       "      <th>1</th>\n",
       "      <td>2022-07-15</td>\n",
       "      <td>189.110001</td>\n",
       "    </tr>\n",
       "    <tr>\n",
       "      <th>2</th>\n",
       "      <td>2022-07-18</td>\n",
       "      <td>190.919998</td>\n",
       "    </tr>\n",
       "    <tr>\n",
       "      <th>3</th>\n",
       "      <td>2022-07-19</td>\n",
       "      <td>201.630005</td>\n",
       "    </tr>\n",
       "    <tr>\n",
       "      <th>4</th>\n",
       "      <td>2022-07-20</td>\n",
       "      <td>216.440002</td>\n",
       "    </tr>\n",
       "    <tr>\n",
       "      <th>...</th>\n",
       "      <td>...</td>\n",
       "      <td>...</td>\n",
       "    </tr>\n",
       "    <tr>\n",
       "      <th>747</th>\n",
       "      <td>2025-07-08</td>\n",
       "      <td>1275.310059</td>\n",
       "    </tr>\n",
       "    <tr>\n",
       "      <th>748</th>\n",
       "      <td>2025-07-09</td>\n",
       "      <td>1288.280029</td>\n",
       "    </tr>\n",
       "    <tr>\n",
       "      <th>749</th>\n",
       "      <td>2025-07-10</td>\n",
       "      <td>1250.589966</td>\n",
       "    </tr>\n",
       "    <tr>\n",
       "      <th>750</th>\n",
       "      <td>2025-07-11</td>\n",
       "      <td>1245.109985</td>\n",
       "    </tr>\n",
       "    <tr>\n",
       "      <th>751</th>\n",
       "      <td>2025-07-14</td>\n",
       "      <td>1267.505005</td>\n",
       "    </tr>\n",
       "  </tbody>\n",
       "</table>\n",
       "<p>752 rows × 2 columns</p>\n",
       "</div>"
      ],
      "text/plain": [
       "          Date        close\n",
       "0   2022-07-14   174.779999\n",
       "1   2022-07-15   189.110001\n",
       "2   2022-07-18   190.919998\n",
       "3   2022-07-19   201.630005\n",
       "4   2022-07-20   216.440002\n",
       "..         ...          ...\n",
       "747 2025-07-08  1275.310059\n",
       "748 2025-07-09  1288.280029\n",
       "749 2025-07-10  1250.589966\n",
       "750 2025-07-11  1245.109985\n",
       "751 2025-07-14  1267.505005\n",
       "\n",
       "[752 rows x 2 columns]"
      ]
     },
     "execution_count": 187,
     "metadata": {},
     "output_type": "execute_result"
    }
   ],
   "source": [
    "df_c=reset_index.rename(columns={'NFLX':'close'})\n",
    "df_c"
   ]
  },
  {
   "cell_type": "code",
   "execution_count": 188,
   "id": "275d172d",
   "metadata": {},
   "outputs": [],
   "source": [
    "df_c.set_index('Date',inplace=True)"
   ]
  },
  {
   "cell_type": "code",
   "execution_count": 189,
   "id": "d225d911",
   "metadata": {},
   "outputs": [
    {
     "data": {
      "text/plain": [
       "<Axes: xlabel='Date'>"
      ]
     },
     "execution_count": 189,
     "metadata": {},
     "output_type": "execute_result"
    },
    {
     "data": {
      "image/png": "[encoded data removed]",
      "text/plain": [
       "<Figure size 640x480 with 1 Axes>"
      ]
     },
     "metadata": {},
     "output_type": "display_data"
    }
   ],
   "source": [
    "df_c.close.plot()"
   ]
  },
  {
   "cell_type": "code",
   "execution_count": 190,
   "id": "92df0113",
   "metadata": {},
   "outputs": [
    {
     "data": {
      "text/plain": [
       "[]"
      ]
     },
     "execution_count": 190,
     "metadata": {},
     "output_type": "execute_result"
    },
    {
     "data": {
      "image/png": "[encoded data removed]",
      "text/plain": [
       "<Figure size 640x480 with 1 Axes>"
      ]
     },
     "metadata": {},
     "output_type": "display_data"
    }
   ],
   "source": [
    "df_c.close.hist(bins=200).plot()"
   ]
  },
  {
   "cell_type": "code",
   "execution_count": 191,
   "id": "c1f1704a",
   "metadata": {},
   "outputs": [
    {
     "name": "stdout",
     "output_type": "stream",
     "text": [
      "<class 'pandas.core.frame.DataFrame'>\n",
      "DatetimeIndex: 752 entries, 2022-07-14 to 2025-07-14\n",
      "Data columns (total 1 columns):\n",
      " #   Column  Non-Null Count  Dtype  \n",
      "---  ------  --------------  -----  \n",
      " 0   close   752 non-null    float64\n",
      "dtypes: float64(1)\n",
      "memory usage: 11.8 KB\n"
     ]
    }
   ],
   "source": [
    "df_c.info()"
   ]
  },
  {
   "cell_type": "code",
   "execution_count": 192,
   "id": "aeee67c6",
   "metadata": {},
   "outputs": [],
   "source": [
    "df_c.to_csv('dataset_close.csv')"
   ]
  },
  {
   "cell_type": "code",
   "execution_count": 193,
   "id": "3dc93f01",
   "metadata": {},
   "outputs": [
    {
     "name": "stdout",
     "output_type": "stream",
     "text": [
      "224.30599937438964\n",
      "1226.7134887695313\n"
     ]
    }
   ],
   "source": [
    "print(df_c.close.quantile(0.025))\n",
    "\n",
    "print(df_c.close.quantile(0.975))"
   ]
  },
  {
   "cell_type": "code",
   "execution_count": 194,
   "id": "4e67f2da",
   "metadata": {},
   "outputs": [
    {
     "data": {
      "text/plain": [
       "<matplotlib.legend.Legend at 0x1b878009d10>"
      ]
     },
     "execution_count": 194,
     "metadata": {},
     "output_type": "execute_result"
    },
    {
     "data": {
      "image/png": "[encoded data removed]",
      "text/plain": [
       "<Figure size 640x480 with 1 Axes>"
      ]
     },
     "metadata": {},
     "output_type": "display_data"
    }
   ],
   "source": [
    "import matplotlib.pyplot as plt\n",
    "df_c.close.clip(lower=df_c.close.quantile(0.025), upper=df_c.close.quantile(0.975)).plot(label='clipped')\n",
    "df_c.close.plot(label='original')\n",
    "plt.legend()"
   ]
  },
  {
   "cell_type": "code",
   "execution_count": 195,
   "id": "4e8ee3ce",
   "metadata": {},
   "outputs": [
    {
     "data": {
      "text/plain": [
       "<matplotlib.legend.Legend at 0x1b877f24050>"
      ]
     },
     "execution_count": 195,
     "metadata": {},
     "output_type": "execute_result"
    },
    {
     "data": {
      "image/png": "[encoded data removed]",
      "text/plain": [
       "<Figure size 640x480 with 1 Axes>"
      ]
     },
     "metadata": {},
     "output_type": "display_data"
    }
   ],
   "source": [
    "df_c.close.plot(label='original')\n",
    "df_c.close.rolling(window=12).mean().plot(label='smoothened')\n",
    "plt.legend()"
   ]
  },
  {
   "cell_type": "code",
   "execution_count": 196,
   "id": "66764f02",
   "metadata": {},
   "outputs": [
    {
     "ename": "AttributeError",
     "evalue": "'NoneType' object has no attribute 'asfreq'",
     "output_type": "error",
     "traceback": [
      "\u001b[1;31m---------------------------------------------------------------------------\u001b[0m",
      "\u001b[1;31mAttributeError\u001b[0m                            Traceback (most recent call last)",
      "Cell \u001b[1;32mIn[196], line 2\u001b[0m\n\u001b[0;32m      1\u001b[0m df_c1\u001b[38;5;241m=\u001b[39mdf_c1\u001b[38;5;241m.\u001b[39mset_index(\u001b[38;5;124m'\u001b[39m\u001b[38;5;124mDate\u001b[39m\u001b[38;5;124m'\u001b[39m,inplace\u001b[38;5;241m=\u001b[39m\u001b[38;5;28;01mTrue\u001b[39;00m)\n\u001b[1;32m----> 2\u001b[0m df_c1\u001b[38;5;241m=\u001b[39m\u001b[43mdf_c1\u001b[49m\u001b[38;5;241;43m.\u001b[39;49m\u001b[43masfreq\u001b[49m(\u001b[38;5;124m'\u001b[39m\u001b[38;5;124mD\u001b[39m\u001b[38;5;124m'\u001b[39m)\n",
      "\u001b[1;31mAttributeError\u001b[0m: 'NoneType' object has no attribute 'asfreq'"
     ]
    }
   ],
   "source": [
    "df_c1=df_c1.set_index('Date',inplace=True)\n",
    "df_c1=df_c1.asfreq('D')"
   ]
  },
  {
   "cell_type": "code",
   "execution_count": null,
   "id": "da2a5bbf",
   "metadata": {},
   "outputs": [],
   "source": [
    "df_c1[df_c1.Date.isna()]\n",
    "\n",
    "# df_c1=df_c1.drop(-1)\n",
    "if df_c1.iloc[-1].isna().any():\n",
    "    df_c1 = df_c1.drop(df_c1.index[-1])"
   ]
  },
  {
   "cell_type": "code",
   "execution_count": null,
   "id": "ef447c6d",
   "metadata": {},
   "outputs": [
    {
     "data": {
      "application/vnd.microsoft.datawrangler.viewer.v0+json": {
       "columns": [
        {
         "name": "index",
         "rawType": "datetime64[ns]",
         "type": "datetime"
        },
        {
         "name": "Date",
         "rawType": "bool",
         "type": "boolean"
        }
       ],
       "ref": "d852c15d-50cd-442f-86a8-54ec4e15c616",
       "rows": [],
       "shape": {
        "columns": 1,
        "rows": 0
       }
      },
      "text/plain": [
       "Series([], Freq: D, Name: Date, dtype: bool)"
      ]
     },
     "execution_count": 173,
     "metadata": {},
     "output_type": "execute_result"
    }
   ],
   "source": [
    "df_c1.Date.isna()"
   ]
  },
  {
   "cell_type": "code",
   "execution_count": null,
   "id": "82d495dd",
   "metadata": {},
   "outputs": [
    {
     "ename": "ValueError",
     "evalue": "You must specify a period or x must be a pandas object with a PeriodIndex or a DatetimeIndex with a freq not set to None",
     "output_type": "error",
     "traceback": [
      "\u001b[1;31m---------------------------------------------------------------------------\u001b[0m",
      "\u001b[1;31mValueError\u001b[0m                                Traceback (most recent call last)",
      "Cell \u001b[1;32mIn[176], line 4\u001b[0m\n\u001b[0;32m      1\u001b[0m \u001b[38;5;66;03m##seasonality types - additive and multiplicative\u001b[39;00m\n\u001b[0;32m      2\u001b[0m \u001b[38;5;66;03m#when a seasonal component is added to the trend its called additive seasonality\u001b[39;00m\n\u001b[0;32m      3\u001b[0m \u001b[38;5;28;01mimport\u001b[39;00m \u001b[38;5;21;01mstatsmodels\u001b[39;00m\u001b[38;5;21;01m.\u001b[39;00m\u001b[38;5;21;01mapi\u001b[39;00m \u001b[38;5;28;01mas\u001b[39;00m \u001b[38;5;21;01msm\u001b[39;00m\n\u001b[1;32m----> 4\u001b[0m model \u001b[38;5;241m=\u001b[39m \u001b[43msm\u001b[49m\u001b[38;5;241;43m.\u001b[39;49m\u001b[43mtsa\u001b[49m\u001b[38;5;241;43m.\u001b[39;49m\u001b[43mseasonal_decompose\u001b[49m\u001b[43m(\u001b[49m\u001b[43mdf_c1\u001b[49m\u001b[38;5;241;43m.\u001b[39;49m\u001b[43mclose\u001b[49m\u001b[43m,\u001b[49m\u001b[43m \u001b[49m\u001b[43mmodel\u001b[49m\u001b[38;5;241;43m=\u001b[39;49m\u001b[38;5;124;43m'\u001b[39;49m\u001b[38;5;124;43mmultiplicative\u001b[39;49m\u001b[38;5;124;43m'\u001b[39;49m\u001b[43m)\u001b[49m\n",
      "File \u001b[1;32mc:\\Users\\muhammad waseem\\.conda\\envs\\timeproject\\Lib\\site-packages\\statsmodels\\tsa\\seasonal.py:167\u001b[0m, in \u001b[0;36mseasonal_decompose\u001b[1;34m(x, model, filt, period, two_sided, extrapolate_trend)\u001b[0m\n\u001b[0;32m    165\u001b[0m         period \u001b[38;5;241m=\u001b[39m pfreq\n\u001b[0;32m    166\u001b[0m     \u001b[38;5;28;01melse\u001b[39;00m:\n\u001b[1;32m--> 167\u001b[0m         \u001b[38;5;28;01mraise\u001b[39;00m \u001b[38;5;167;01mValueError\u001b[39;00m(\n\u001b[0;32m    168\u001b[0m             \u001b[38;5;124m\"\u001b[39m\u001b[38;5;124mYou must specify a period or x must be a pandas object with \u001b[39m\u001b[38;5;124m\"\u001b[39m\n\u001b[0;32m    169\u001b[0m             \u001b[38;5;124m\"\u001b[39m\u001b[38;5;124ma PeriodIndex or a DatetimeIndex with a freq not set to None\u001b[39m\u001b[38;5;124m\"\u001b[39m\n\u001b[0;32m    170\u001b[0m         )\n\u001b[0;32m    171\u001b[0m \u001b[38;5;28;01mif\u001b[39;00m x\u001b[38;5;241m.\u001b[39mshape[\u001b[38;5;241m0\u001b[39m] \u001b[38;5;241m<\u001b[39m \u001b[38;5;241m2\u001b[39m \u001b[38;5;241m*\u001b[39m pfreq:\n\u001b[0;32m    172\u001b[0m     \u001b[38;5;28;01mraise\u001b[39;00m \u001b[38;5;167;01mValueError\u001b[39;00m(\n\u001b[0;32m    173\u001b[0m         \u001b[38;5;124mf\u001b[39m\u001b[38;5;124m\"\u001b[39m\u001b[38;5;124mx must have 2 complete cycles requires \u001b[39m\u001b[38;5;132;01m{\u001b[39;00m\u001b[38;5;241m2\u001b[39m\u001b[38;5;250m \u001b[39m\u001b[38;5;241m*\u001b[39m\u001b[38;5;250m \u001b[39mpfreq\u001b[38;5;132;01m}\u001b[39;00m\u001b[38;5;124m \u001b[39m\u001b[38;5;124m\"\u001b[39m\n\u001b[0;32m    174\u001b[0m         \u001b[38;5;124mf\u001b[39m\u001b[38;5;124m\"\u001b[39m\u001b[38;5;124mobservations. x only has \u001b[39m\u001b[38;5;132;01m{\u001b[39;00mx\u001b[38;5;241m.\u001b[39mshape[\u001b[38;5;241m0\u001b[39m]\u001b[38;5;132;01m}\u001b[39;00m\u001b[38;5;124m observation(s)\u001b[39m\u001b[38;5;124m\"\u001b[39m\n\u001b[0;32m    175\u001b[0m     )\n",
      "\u001b[1;31mValueError\u001b[0m: You must specify a period or x must be a pandas object with a PeriodIndex or a DatetimeIndex with a freq not set to None"
     ]
    }
   ],
   "source": [
    "##seasonality types - additive and multiplicative\n",
    "#when a seasonal component is added to the trend its called additive seasonality\n",
    "import statsmodels.api as sm\n",
    "model = sm.tsa.seasonal_decompose(df_c1.close, model='multiplicative')"
   ]
  },
  {
   "cell_type": "code",
   "execution_count": null,
   "id": "3a2d5003",
   "metadata": {},
   "outputs": [],
   "source": []
  }
 ],
 "metadata": {
  "kernelspec": {
   "display_name": "timeproject",
   "language": "python",
   "name": "python3"
  },
  "language_info": {
   "codemirror_mode": {
    "name": "ipython",
    "version": 3
   },
   "file_extension": ".py",
   "mimetype": "text/x-python",
   "name": "python",
   "nbconvert_exporter": "python",
   "pygments_lexer": "ipython3",
   "version": "3.13.5"
  }
 },
 "nbformat": 4,
 "nbformat_minor": 5
}
